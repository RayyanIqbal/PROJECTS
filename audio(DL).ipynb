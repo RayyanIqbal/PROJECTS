{
 "cells": [
  {
   "cell_type": "code",
   "execution_count": 1,
   "id": "color-auction",
   "metadata": {
    "_cell_guid": "b1076dfc-b9ad-4769-8c92-a6c4dae69d19",
    "_uuid": "8f2839f25d086af736a60e9eeb907d3b93b6e0e5",
    "execution": {
     "iopub.execute_input": "2021-06-16T02:50:24.883038Z",
     "iopub.status.busy": "2021-06-16T02:50:24.882352Z",
     "iopub.status.idle": "2021-06-16T02:50:27.472365Z",
     "shell.execute_reply": "2021-06-16T02:50:27.471605Z",
     "shell.execute_reply.started": "2021-06-16T01:24:03.592805Z"
    },
    "papermill": {
     "duration": 2.657567,
     "end_time": "2021-06-16T02:50:27.472557",
     "exception": false,
     "start_time": "2021-06-16T02:50:24.814990",
     "status": "completed"
    },
    "tags": []
   },
   "outputs": [],
   "source": [
    "# This Python 3 environment comes with many helpful analytics libraries installed\n",
    "# It is defined by the kaggle/python Docker image: https://github.com/kaggle/docker-python\n",
    "# For example, here's several helpful packages to load\n",
    "\n",
    "import numpy as np # linear algebra\n",
    "import pandas as pd # data processing, CSV file I/O (e.g. pd.read_csv)\n",
    "import matplotlib.pyplot as plt\n",
    "import librosa\n",
    "import IPython.display as ipd\n",
    "import librosa.display\n",
    "\n",
    "# Input data files are available in the read-only \"../input/\" directory\n",
    "# For example, running this (by clicking run or pressing Shift+Enter) will list all files under the input directory\n",
    "\n",
    "import os\n",
    "\n",
    "\n",
    "# You can write up to 20GB to the current directory (/kaggle/working/) that gets preserved as output when you create a version using \"Save & Run All\" \n",
    "# You can also write temporary files to /kaggle/temp/, but they won't be saved outside of the current session"
   ]
  },
  {
   "cell_type": "markdown",
   "id": "documented-allowance",
   "metadata": {
    "papermill": {
     "duration": 0.049648,
     "end_time": "2021-06-16T02:50:27.572775",
     "exception": false,
     "start_time": "2021-06-16T02:50:27.523127",
     "status": "completed"
    },
    "tags": []
   },
   "source": [
    "# Analyzing first five files"
   ]
  },
  {
   "cell_type": "code",
   "execution_count": 2,
   "id": "wanted-texture",
   "metadata": {
    "execution": {
     "iopub.execute_input": "2021-06-16T02:50:27.680119Z",
     "iopub.status.busy": "2021-06-16T02:50:27.679492Z",
     "iopub.status.idle": "2021-06-16T02:50:30.917762Z",
     "shell.execute_reply": "2021-06-16T02:50:30.917077Z",
     "shell.execute_reply.started": "2021-06-16T01:24:10.158948Z"
    },
    "papermill": {
     "duration": 3.294972,
     "end_time": "2021-06-16T02:50:30.917902",
     "exception": false,
     "start_time": "2021-06-16T02:50:27.622930",
     "status": "completed"
    },
    "tags": []
   },
   "outputs": [
    {
     "name": "stdout",
     "output_type": "stream",
     "text": [
      "/kaggle/input/freespokendigitsdataset/recordings/0_yweweler_39.wav\n",
      "/kaggle/input/freespokendigitsdataset/recordings/2_george_15.wav\n",
      "/kaggle/input/freespokendigitsdataset/recordings/4_lucas_16.wav\n",
      "/kaggle/input/freespokendigitsdataset/recordings/1_yweweler_45.wav\n",
      "/kaggle/input/freespokendigitsdataset/recordings/9_george_9.wav\n"
     ]
    }
   ],
   "source": [
    "\n",
    "count = 0\n",
    "X_train, y_train = [], []\n",
    "for dirname, _, filenames in os.walk('/kaggle/input/freespokendigitsdataset/recordings'):\n",
    "    for filename in filenames:\n",
    "        full_path = os.path.join(dirname, filename)\n",
    "        print(full_path)\n",
    "        label = filename.split('_')[0]\n",
    "        X_train.append(full_path)\n",
    "        y_train.append(label)\n",
    "        count = count +1\n",
    "        if(count == 5):\n",
    "            break\n",
    "            \n",
    "\n",
    "\n"
   ]
  },
  {
   "cell_type": "code",
   "execution_count": 3,
   "id": "sweet-ukraine",
   "metadata": {
    "execution": {
     "iopub.execute_input": "2021-06-16T02:50:31.027018Z",
     "iopub.status.busy": "2021-06-16T02:50:31.026310Z",
     "iopub.status.idle": "2021-06-16T02:50:31.030268Z",
     "shell.execute_reply": "2021-06-16T02:50:31.029648Z",
     "shell.execute_reply.started": "2021-06-16T01:24:20.893473Z"
    },
    "papermill": {
     "duration": 0.060455,
     "end_time": "2021-06-16T02:50:31.030400",
     "exception": false,
     "start_time": "2021-06-16T02:50:30.969945",
     "status": "completed"
    },
    "tags": []
   },
   "outputs": [
    {
     "name": "stdout",
     "output_type": "stream",
     "text": [
      "first file  /kaggle/input/freespokendigitsdataset/recordings/0_yweweler_39.wav\n",
      "['0', '2', '4', '1', '9']\n"
     ]
    }
   ],
   "source": [
    "print('first file ', X_train[0])\n",
    "print(y_train)\n",
    "\n",
    "    \n",
    "\n"
   ]
  },
  {
   "cell_type": "code",
   "execution_count": 4,
   "id": "cosmetic-hughes",
   "metadata": {
    "execution": {
     "iopub.execute_input": "2021-06-16T02:50:31.138368Z",
     "iopub.status.busy": "2021-06-16T02:50:31.137647Z",
     "iopub.status.idle": "2021-06-16T02:50:31.152033Z",
     "shell.execute_reply": "2021-06-16T02:50:31.151469Z",
     "shell.execute_reply.started": "2021-06-16T01:24:25.642096Z"
    },
    "papermill": {
     "duration": 0.070321,
     "end_time": "2021-06-16T02:50:31.152168",
     "exception": false,
     "start_time": "2021-06-16T02:50:31.081847",
     "status": "completed"
    },
    "tags": []
   },
   "outputs": [
    {
     "name": "stdout",
     "output_type": "stream",
     "text": [
      "9\n"
     ]
    },
    {
     "data": {
      "text/html": [
       "\n",
       "                <audio  controls=\"controls\" >\n",
       "                    <source src=\"data:audio/x-wav;base64,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\" type=\"audio/x-wav\" />\n",
       "                    Your browser does not support the audio element.\n",
       "                </audio>\n",
       "              "
      ],
      "text/plain": [
       "<IPython.lib.display.Audio object>"
      ]
     },
     "execution_count": 4,
     "metadata": {},
     "output_type": "execute_result"
    }
   ],
   "source": [
    "print(y_train[4])\n",
    "ipd.Audio(X_train[4])"
   ]
  },
  {
   "cell_type": "code",
   "execution_count": 5,
   "id": "light-gardening",
   "metadata": {
    "execution": {
     "iopub.execute_input": "2021-06-16T02:50:31.260973Z",
     "iopub.status.busy": "2021-06-16T02:50:31.260332Z",
     "iopub.status.idle": "2021-06-16T02:50:32.045868Z",
     "shell.execute_reply": "2021-06-16T02:50:32.045368Z",
     "shell.execute_reply.started": "2021-06-16T01:24:33.257646Z"
    },
    "papermill": {
     "duration": 0.8417,
     "end_time": "2021-06-16T02:50:32.046006",
     "exception": false,
     "start_time": "2021-06-16T02:50:31.204306",
     "status": "completed"
    },
    "tags": []
   },
   "outputs": [
    {
     "data": {
      "text/plain": [
       "(11370,)"
      ]
     },
     "execution_count": 5,
     "metadata": {},
     "output_type": "execute_result"
    }
   ],
   "source": [
    "X, sr = librosa.load(X_train[4])\n",
    "X.shape"
   ]
  },
  {
   "cell_type": "code",
   "execution_count": 6,
   "id": "advised-folks",
   "metadata": {
    "execution": {
     "iopub.execute_input": "2021-06-16T02:50:32.170924Z",
     "iopub.status.busy": "2021-06-16T02:50:32.170278Z",
     "iopub.status.idle": "2021-06-16T02:50:32.367844Z",
     "shell.execute_reply": "2021-06-16T02:50:32.367308Z",
     "shell.execute_reply.started": "2021-06-16T01:24:39.589587Z"
    },
    "papermill": {
     "duration": 0.269793,
     "end_time": "2021-06-16T02:50:32.367974",
     "exception": false,
     "start_time": "2021-06-16T02:50:32.098181",
     "status": "completed"
    },
    "tags": []
   },
   "outputs": [
    {
     "data": {
      "text/plain": [
       "<matplotlib.collections.PolyCollection at 0x7f0a306afd90>"
      ]
     },
     "execution_count": 6,
     "metadata": {},
     "output_type": "execute_result"
    },
    {
     "data": {
      "image/png": "[encoded data removed]",
      "text/plain": [
       "<Figure size 432x288 with 1 Axes>"
      ]
     },
     "metadata": {
      "needs_background": "light"
     },
     "output_type": "display_data"
    }
   ],
   "source": [
    "fig, ax = plt.subplots()\n",
    "librosa.display.waveplot(X, sr=sr, ax= ax)"
   ]
  },
  {
   "cell_type": "code",
   "execution_count": 7,
   "id": "progressive-accuracy",
   "metadata": {
    "execution": {
     "iopub.execute_input": "2021-06-16T02:50:32.481033Z",
     "iopub.status.busy": "2021-06-16T02:50:32.480393Z",
     "iopub.status.idle": "2021-06-16T02:50:32.491350Z",
     "shell.execute_reply": "2021-06-16T02:50:32.490761Z",
     "shell.execute_reply.started": "2021-06-16T01:24:55.479374Z"
    },
    "papermill": {
     "duration": 0.068914,
     "end_time": "2021-06-16T02:50:32.491496",
     "exception": false,
     "start_time": "2021-06-16T02:50:32.422582",
     "status": "completed"
    },
    "tags": []
   },
   "outputs": [
    {
     "name": "stdout",
     "output_type": "stream",
     "text": [
      "4\n"
     ]
    },
    {
     "data": {
      "text/html": [
       "\n",
       "                <audio  controls=\"controls\" >\n",
       "                    <source src=\"data:audio/x-wav;base64,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\" type=\"audio/x-wav\" />\n",
       "                    Your browser does not support the audio element.\n",
       "                </audio>\n",
       "              "
      ],
      "text/plain": [
       "<IPython.lib.display.Audio object>"
      ]
     },
     "execution_count": 7,
     "metadata": {},
     "output_type": "execute_result"
    }
   ],
   "source": [
    "print(y_train[2])\n",
    "ipd.Audio(X_train[2])\n"
   ]
  },
  {
   "cell_type": "code",
   "execution_count": 8,
   "id": "small-client",
   "metadata": {
    "execution": {
     "iopub.execute_input": "2021-06-16T02:50:32.606359Z",
     "iopub.status.busy": "2021-06-16T02:50:32.605700Z",
     "iopub.status.idle": "2021-06-16T02:50:32.786182Z",
     "shell.execute_reply": "2021-06-16T02:50:32.785684Z",
     "shell.execute_reply.started": "2021-06-16T01:24:58.964948Z"
    },
    "papermill": {
     "duration": 0.239979,
     "end_time": "2021-06-16T02:50:32.786342",
     "exception": false,
     "start_time": "2021-06-16T02:50:32.546363",
     "status": "completed"
    },
    "tags": []
   },
   "outputs": [
    {
     "data": {
      "text/plain": [
       "<matplotlib.collections.PolyCollection at 0x7f0a301c3c90>"
      ]
     },
     "execution_count": 8,
     "metadata": {},
     "output_type": "execute_result"
    },
    {
     "data": {
      "image/png": "[encoded data removed]",
      "text/plain": [
       "<Figure size 432x288 with 1 Axes>"
      ]
     },
     "metadata": {
      "needs_background": "light"
     },
     "output_type": "display_data"
    }
   ],
   "source": [
    "X, sr = librosa.load(X_train[2])\n",
    "fig, ax = plt.subplots()\n",
    "librosa.display.waveplot(X, sr=sr, ax= ax)"
   ]
  },
  {
   "cell_type": "code",
   "execution_count": 9,
   "id": "reliable-singapore",
   "metadata": {
    "execution": {
     "iopub.execute_input": "2021-06-16T02:50:32.906767Z",
     "iopub.status.busy": "2021-06-16T02:50:32.906122Z",
     "iopub.status.idle": "2021-06-16T02:50:32.909126Z",
     "shell.execute_reply": "2021-06-16T02:50:32.908470Z",
     "shell.execute_reply.started": "2021-06-16T01:25:18.541399Z"
    },
    "papermill": {
     "duration": 0.065956,
     "end_time": "2021-06-16T02:50:32.909275",
     "exception": false,
     "start_time": "2021-06-16T02:50:32.843319",
     "status": "completed"
    },
    "tags": []
   },
   "outputs": [],
   "source": [
    "def plot_melSpec(X):\n",
    "    y, sr = librosa.load(X)\n",
    "    S = librosa.feature.melspectrogram(y=y, sr=sr, n_mels=128,fmax=8000)\n",
    "    fig, ax = plt.subplots()\n",
    "    plt.figure(figsize=(20,8))\n",
    "    S_dB = librosa.power_to_db(S, ref=np.max) \n",
    "    img = librosa.display.specshow(S_dB, x_axis='time', y_axis='mel', sr=sr, ax=ax)\n",
    "    fig.colorbar(img, ax=ax, format='%+2.0f dB')\n",
    "    ax.set(title='Mel-frequency spectrogram')\n",
    "\n"
   ]
  },
  {
   "cell_type": "code",
   "execution_count": 10,
   "id": "scenic-pierre",
   "metadata": {
    "execution": {
     "iopub.execute_input": "2021-06-16T02:50:33.027132Z",
     "iopub.status.busy": "2021-06-16T02:50:33.026469Z",
     "iopub.status.idle": "2021-06-16T02:50:33.036763Z",
     "shell.execute_reply": "2021-06-16T02:50:33.037248Z",
     "shell.execute_reply.started": "2021-06-16T01:25:23.175041Z"
    },
    "papermill": {
     "duration": 0.071913,
     "end_time": "2021-06-16T02:50:33.037433",
     "exception": false,
     "start_time": "2021-06-16T02:50:32.965520",
     "status": "completed"
    },
    "tags": []
   },
   "outputs": [
    {
     "name": "stdout",
     "output_type": "stream",
     "text": [
      "1\n"
     ]
    },
    {
     "data": {
      "text/html": [
       "\n",
       "                <audio  controls=\"controls\" >\n",
       "                    <source src=\"data:audio/x-wav;base64,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\" type=\"audio/x-wav\" />\n",
       "                    Your browser does not support the audio element.\n",
       "                </audio>\n",
       "              "
      ],
      "text/plain": [
       "<IPython.lib.display.Audio object>"
      ]
     },
     "execution_count": 10,
     "metadata": {},
     "output_type": "execute_result"
    }
   ],
   "source": [
    "print(y_train[3])\n",
    "ipd.Audio(X_train[3])\n",
    "\n"
   ]
  },
  {
   "cell_type": "code",
   "execution_count": 11,
   "id": "italic-month",
   "metadata": {
    "execution": {
     "iopub.execute_input": "2021-06-16T02:50:33.156694Z",
     "iopub.status.busy": "2021-06-16T02:50:33.156078Z",
     "iopub.status.idle": "2021-06-16T02:50:33.475628Z",
     "shell.execute_reply": "2021-06-16T02:50:33.476121Z",
     "shell.execute_reply.started": "2021-06-16T01:25:28.154313Z"
    },
    "papermill": {
     "duration": 0.380953,
     "end_time": "2021-06-16T02:50:33.476307",
     "exception": false,
     "start_time": "2021-06-16T02:50:33.095354",
     "status": "completed"
    },
    "tags": []
   },
   "outputs": [
    {
     "name": "stderr",
     "output_type": "stream",
     "text": [
      "/opt/conda/lib/python3.7/site-packages/librosa/display.py:974: MatplotlibDeprecationWarning: The 'basey' parameter of __init__() has been renamed 'base' since Matplotlib 3.3; support for the old name will be dropped two minor releases later.\n",
      "  scaler(mode, **kwargs)\n",
      "/opt/conda/lib/python3.7/site-packages/librosa/display.py:974: MatplotlibDeprecationWarning: The 'linthreshy' parameter of __init__() has been renamed 'linthresh' since Matplotlib 3.3; support for the old name will be dropped two minor releases later.\n",
      "  scaler(mode, **kwargs)\n"
     ]
    },
    {
     "data": {
      "image/png": "[encoded data removed]",
      "text/plain": [
       "<Figure size 432x288 with 2 Axes>"
      ]
     },
     "metadata": {
      "needs_background": "light"
     },
     "output_type": "display_data"
    },
    {
     "data": {
      "text/plain": [
       "<Figure size 1440x576 with 0 Axes>"
      ]
     },
     "metadata": {},
     "output_type": "display_data"
    }
   ],
   "source": [
    "plot_melSpec(X_train[3])"
   ]
  },
  {
   "cell_type": "markdown",
   "id": "unlikely-ancient",
   "metadata": {
    "papermill": {
     "duration": 0.058728,
     "end_time": "2021-06-16T02:50:33.594001",
     "exception": false,
     "start_time": "2021-06-16T02:50:33.535273",
     "status": "completed"
    },
    "tags": []
   },
   "source": [
    "# get MFCC coeficients"
   ]
  },
  {
   "cell_type": "code",
   "execution_count": 12,
   "id": "electric-writer",
   "metadata": {
    "execution": {
     "iopub.execute_input": "2021-06-16T02:50:33.714745Z",
     "iopub.status.busy": "2021-06-16T02:50:33.714107Z",
     "iopub.status.idle": "2021-06-16T02:50:33.719495Z",
     "shell.execute_reply": "2021-06-16T02:50:33.719999Z",
     "shell.execute_reply.started": "2021-06-16T01:30:25.803517Z"
    },
    "papermill": {
     "duration": 0.067328,
     "end_time": "2021-06-16T02:50:33.720156",
     "exception": false,
     "start_time": "2021-06-16T02:50:33.652828",
     "status": "completed"
    },
    "tags": []
   },
   "outputs": [],
   "source": [
    "def getMFCC(X):\n",
    "    y, sr = librosa.load(X, duration=5.0)\n",
    "    print('duration  of audio is ', len(y)*(1/sr))\n",
    "    S = librosa.feature.melspectrogram(y=y, sr=8000, n_fft=2048, hop_length=512, n_mels=128)\n",
    "    print(S.shape)\n",
    "    return librosa.feature.mfcc(S=librosa.power_to_db(S))"
   ]
  },
  {
   "cell_type": "code",
   "execution_count": 13,
   "id": "precise-bangkok",
   "metadata": {
    "execution": {
     "iopub.execute_input": "2021-06-16T02:50:33.841110Z",
     "iopub.status.busy": "2021-06-16T02:50:33.840475Z",
     "iopub.status.idle": "2021-06-16T02:50:33.871747Z",
     "shell.execute_reply": "2021-06-16T02:50:33.872719Z",
     "shell.execute_reply.started": "2021-06-16T01:30:29.187164Z"
    },
    "papermill": {
     "duration": 0.094147,
     "end_time": "2021-06-16T02:50:33.873025",
     "exception": false,
     "start_time": "2021-06-16T02:50:33.778878",
     "status": "completed"
    },
    "tags": []
   },
   "outputs": [
    {
     "name": "stdout",
     "output_type": "stream",
     "text": [
      "duration  of audio is  0.4527891156462585\n",
      "(128, 20)\n"
     ]
    },
    {
     "data": {
      "text/plain": [
       "(20, 20)"
      ]
     },
     "execution_count": 13,
     "metadata": {},
     "output_type": "execute_result"
    }
   ],
   "source": [
    "mfcc_coef1 = getMFCC(X_train[2])\n",
    "mfcc_coef1.shape\n",
    "\n"
   ]
  },
  {
   "cell_type": "code",
   "execution_count": 14,
   "id": "pressed-teens",
   "metadata": {
    "execution": {
     "iopub.execute_input": "2021-06-16T02:50:34.043475Z",
     "iopub.status.busy": "2021-06-16T02:50:34.042832Z",
     "iopub.status.idle": "2021-06-16T02:50:34.080576Z",
     "shell.execute_reply": "2021-06-16T02:50:34.081432Z",
     "shell.execute_reply.started": "2021-06-16T01:30:49.646563Z"
    },
    "papermill": {
     "duration": 0.103332,
     "end_time": "2021-06-16T02:50:34.081723",
     "exception": false,
     "start_time": "2021-06-16T02:50:33.978391",
     "status": "completed"
    },
    "tags": []
   },
   "outputs": [
    {
     "name": "stdout",
     "output_type": "stream",
     "text": [
      "duration  of audio is  0.5156462585034014\n",
      "(128, 23)\n"
     ]
    },
    {
     "data": {
      "text/plain": [
       "(20, 23)"
      ]
     },
     "execution_count": 14,
     "metadata": {},
     "output_type": "execute_result"
    }
   ],
   "source": [
    "mfcc_coef2 = getMFCC(X_train[4])\n",
    "mfcc_coef2.shape"
   ]
  },
  {
   "cell_type": "markdown",
   "id": "incident-medline",
   "metadata": {
    "execution": {
     "iopub.execute_input": "2021-06-16T01:27:49.850143Z",
     "iopub.status.busy": "2021-06-16T01:27:49.849457Z",
     "iopub.status.idle": "2021-06-16T01:27:49.856834Z",
     "shell.execute_reply": "2021-06-16T01:27:49.855529Z",
     "shell.execute_reply.started": "2021-06-16T01:27:49.850093Z"
    },
    "papermill": {
     "duration": 0.060505,
     "end_time": "2021-06-16T02:50:34.249032",
     "exception": false,
     "start_time": "2021-06-16T02:50:34.188527",
     "status": "completed"
    },
    "tags": []
   },
   "source": [
    "Above MFCC coeficients are different for 2 different audio files as they have different duration of audio"
   ]
  },
  {
   "cell_type": "markdown",
   "id": "union-claim",
   "metadata": {
    "papermill": {
     "duration": 0.06026,
     "end_time": "2021-06-16T02:50:34.370260",
     "exception": false,
     "start_time": "2021-06-16T02:50:34.310000",
     "status": "completed"
    },
    "tags": []
   },
   "source": [
    "#  check minimum duration of audio present in data"
   ]
  },
  {
   "cell_type": "code",
   "execution_count": 15,
   "id": "leading-syndicate",
   "metadata": {
    "execution": {
     "iopub.execute_input": "2021-06-16T02:50:34.503637Z",
     "iopub.status.busy": "2021-06-16T02:50:34.502653Z",
     "iopub.status.idle": "2021-06-16T02:50:34.505478Z",
     "shell.execute_reply": "2021-06-16T02:50:34.504967Z",
     "shell.execute_reply.started": "2021-06-16T01:31:56.495884Z"
    },
    "papermill": {
     "duration": 0.069683,
     "end_time": "2021-06-16T02:50:34.505616",
     "exception": false,
     "start_time": "2021-06-16T02:50:34.435933",
     "status": "completed"
    },
    "tags": []
   },
   "outputs": [],
   "source": [
    "#check minimum duration of audio present in data\n",
    "def checkShortestAudio(DirPath='/kaggle/input/freespokendigitsdataset/recordings'):\n",
    "    shortest= 1000\n",
    "    shortestFile = ''\n",
    "    for dirname, _, filenames in os.walk(DirPath):\n",
    "        for filename in filenames:\n",
    "            full_path = os.path.join(dirname, filename)\n",
    "            y, sr = librosa.load(full_path)\n",
    "            duration = len(y)*(1/sr)\n",
    "            if(duration<shortest):\n",
    "                shortest = duration\n",
    "                shortestFile = filename\n",
    "    return shortest,shortestFile\n",
    "    \n",
    "\n",
    "            "
   ]
  },
  {
   "cell_type": "code",
   "execution_count": 16,
   "id": "corresponding-girlfriend",
   "metadata": {
    "execution": {
     "iopub.execute_input": "2021-06-16T02:50:34.630960Z",
     "iopub.status.busy": "2021-06-16T02:50:34.630026Z",
     "iopub.status.idle": "2021-06-16T02:51:21.692065Z",
     "shell.execute_reply": "2021-06-16T02:51:21.692641Z",
     "shell.execute_reply.started": "2021-06-16T01:32:05.082112Z"
    },
    "papermill": {
     "duration": 47.126853,
     "end_time": "2021-06-16T02:51:21.692820",
     "exception": false,
     "start_time": "2021-06-16T02:50:34.565967",
     "status": "completed"
    },
    "tags": []
   },
   "outputs": [
    {
     "data": {
      "text/plain": [
       "(0.1435374149659864, '6_yweweler_3.wav')"
      ]
     },
     "execution_count": 16,
     "metadata": {},
     "output_type": "execute_result"
    }
   ],
   "source": [
    "s,sf = checkShortestAudio()\n",
    "s,sf"
   ]
  },
  {
   "cell_type": "code",
   "execution_count": 17,
   "id": "frozen-enzyme",
   "metadata": {
    "execution": {
     "iopub.execute_input": "2021-06-16T02:51:21.816336Z",
     "iopub.status.busy": "2021-06-16T02:51:21.815735Z",
     "iopub.status.idle": "2021-06-16T02:51:21.821778Z",
     "shell.execute_reply": "2021-06-16T02:51:21.822267Z",
     "shell.execute_reply.started": "2021-06-16T01:33:02.561429Z"
    },
    "papermill": {
     "duration": 0.069486,
     "end_time": "2021-06-16T02:51:21.822432",
     "exception": false,
     "start_time": "2021-06-16T02:51:21.752946",
     "status": "completed"
    },
    "tags": []
   },
   "outputs": [
    {
     "data": {
      "text/html": [
       "\n",
       "                <audio  controls=\"controls\" >\n",
       "                    <source src=\"data:audio/x-wav;base64,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\" type=\"audio/x-wav\" />\n",
       "                    Your browser does not support the audio element.\n",
       "                </audio>\n",
       "              "
      ],
      "text/plain": [
       "<IPython.lib.display.Audio object>"
      ]
     },
     "execution_count": 17,
     "metadata": {},
     "output_type": "execute_result"
    }
   ],
   "source": [
    "ipd.Audio('/kaggle/input/freespokendigitsdataset/recordings/6_yweweler_3.wav')"
   ]
  },
  {
   "cell_type": "markdown",
   "id": "coupled-hayes",
   "metadata": {
    "papermill": {
     "duration": 0.060615,
     "end_time": "2021-06-16T02:51:21.943964",
     "exception": false,
     "start_time": "2021-06-16T02:51:21.883349",
     "status": "completed"
    },
    "tags": []
   },
   "source": [
    "As seen above, shortest audio is for .14 seconds"
   ]
  },
  {
   "cell_type": "code",
   "execution_count": 18,
   "id": "greater-courage",
   "metadata": {
    "execution": {
     "iopub.execute_input": "2021-06-16T02:51:22.070248Z",
     "iopub.status.busy": "2021-06-16T02:51:22.069567Z",
     "iopub.status.idle": "2021-06-16T02:51:22.075402Z",
     "shell.execute_reply": "2021-06-16T02:51:22.075904Z",
     "shell.execute_reply.started": "2021-06-16T01:35:00.871854Z"
    },
    "papermill": {
     "duration": 0.07028,
     "end_time": "2021-06-16T02:51:22.076073",
     "exception": false,
     "start_time": "2021-06-16T02:51:22.005793",
     "status": "completed"
    },
    "tags": []
   },
   "outputs": [],
   "source": [
    "#check minimum duration of audio present in data\n",
    "def checkLongestAudio(DirPath='/kaggle/input/freespokendigitsdataset/recordings'):\n",
    "    longest= 0\n",
    "    longestFile = ''\n",
    "    for dirname, _, filenames in os.walk(DirPath):\n",
    "        for filename in filenames:\n",
    "            full_path = os.path.join(dirname, filename)\n",
    "            y, sr = librosa.load(full_path)\n",
    "            duration = len(y)*(1/sr)\n",
    "            if(duration>longest):\n",
    "                longest = duration\n",
    "                longestFile = filename\n",
    "    return longest,longestFile"
   ]
  },
  {
   "cell_type": "code",
   "execution_count": 19,
   "id": "controlled-boards",
   "metadata": {
    "execution": {
     "iopub.execute_input": "2021-06-16T02:51:22.203647Z",
     "iopub.status.busy": "2021-06-16T02:51:22.202992Z",
     "iopub.status.idle": "2021-06-16T02:52:00.759843Z",
     "shell.execute_reply": "2021-06-16T02:52:00.760456Z",
     "shell.execute_reply.started": "2021-06-16T01:35:24.241063Z"
    },
    "papermill": {
     "duration": 38.622781,
     "end_time": "2021-06-16T02:52:00.760657",
     "exception": false,
     "start_time": "2021-06-16T02:51:22.137876",
     "status": "completed"
    },
    "tags": []
   },
   "outputs": [
    {
     "data": {
      "text/plain": [
       "(2.282766439909297, '9_theo_16.wav')"
      ]
     },
     "execution_count": 19,
     "metadata": {},
     "output_type": "execute_result"
    }
   ],
   "source": [
    "l,lf = checkLongestAudio()\n",
    "l,lf"
   ]
  },
  {
   "cell_type": "code",
   "execution_count": 20,
   "id": "portuguese-cross",
   "metadata": {
    "execution": {
     "iopub.execute_input": "2021-06-16T02:52:00.885789Z",
     "iopub.status.busy": "2021-06-16T02:52:00.885168Z",
     "iopub.status.idle": "2021-06-16T02:52:00.892974Z",
     "shell.execute_reply": "2021-06-16T02:52:00.892426Z",
     "shell.execute_reply.started": "2021-06-16T01:37:11.040150Z"
    },
    "papermill": {
     "duration": 0.071352,
     "end_time": "2021-06-16T02:52:00.893114",
     "exception": false,
     "start_time": "2021-06-16T02:52:00.821762",
     "status": "completed"
    },
    "tags": []
   },
   "outputs": [
    {
     "data": {
      "text/html": [
       "\n",
       "                <audio  controls=\"controls\" >\n",
       "                    <source src=\"data:audio/x-wav;base64,UklGRtCOAABXQVZFZm10IBAAAAABAAEAQB8AAIA+AAACABAAZGF0YayOAADD/8f/zv/U/9v/7v/2/wQAEgARACMAJwAyAD4AQgBFADgAPAAvADgAMgAvACwAIwAcABAAEQANAAsACAAGAPz//v/u//v/CwAGAA4ADgAUAA8AFgAQABoAFAAEAPj/4f/P/73/tP+n/53/nv+a/5X/pP+a/6T/sv+9/9P/7/8HABEAHAA4AD0ATwBTAGEAZgBgAGYAYwBtAF8AWQBQAEQALwAfAAYAAgDt/9z/3P/Q/83/yv/n/+7/AQAbACQANQBKAFIAaABoAGMAYgA2ABoA5/+4/4T/ZP9k/13/Uv9S/1D/NP9O/1X/bP+M/6T/wv/P/+P/+f8LABEANwA8AFwAewCGAIsAlgCYAJcAoACRAH0AaQA+ACoADwD1//T/6f/m/+X/8P/x//j/CwAXACwARgBVAGgAdAB0AGEAWQBGACAA/f/b/6v/fv9U/zT/Mf8W/xn/F/8W/yb/Nv9J/2n/h/+i/7r/zf/X/+L/9f8gADgAYwCRALIAvwDJANwAyQDBAL8AsQCUAIEAYgA/ACMABQDx/+H/6f/0//j/AAArACcAOwBRAFAAZgBxAHEAbABfAE8AMgAYAO//vv+j/3j/WP81/xz/8v7W/uD+1/7j/vj+CP8b/zH/Uv93/5L/xv/x/xgAQwCAAJUAuQDiAPgAGgEgATEBHwEEAeYAwgCVAG4ARwAeAPL/4f+9/7L/tf+x/9L/6v/9/zYAMgBSAGIAbAB2AIsAfQBwAGQASAAnAAgA3P+7/6T/gf9T/y7/Dv/f/sn+zP7I/rv+1P7l/uD+Av8c/zz/av+z/9X/EQBcAIAAvQD2ABYBRQFjAWQBbAFRASsBDwHPAJ4AaQA8AAEA5f/C/67/n/+m/7X/1f/e/xAALwAzAF8AcgB8AIkAjgB8AH4AZgBFADMADQDj/8n/mf9n/1H/G//g/tf+sP6Y/qf+n/6m/r7+yP7g/g//OP94/8D/7f82AHQAmADVABUBNQFgAYkBiAF0AWIBOgENAd0AtABoAD0ADwDU/7X/jf+N/4b/rv/F/9z/DQA3AEEAagCBAIUAoACnAJwAmgB/AF4APAAZAOj/xP+L/07/Ov/x/rf+mv5+/lf+c/5r/mf+ov6f/s7+Ef83/2//wP/0/zkAgwC3APIASgFnAYIBsQGsAZQBngFsAS4BEwHGAIYAWAAGAM3/r/+L/3X/gP9y/5H/vP/U/wsANgBPAH4AlACWAMYAvgC1AKgAkgBhAEEADADO/6n/Uv8e/+D+n/56/mP+Qf5Q/lr+Uf5z/oj+rP7f/hj/ZP+0/93/MQCBALEA6QBFAXEBkAHSAdYBuAHAAZYBVAEoAfAAjQBXAA8AzP+W/2n/TP9K/0z/WP+e/6//3f81AEoAbQCrAL8AwADkANAAtACxAHwAXAAvAOb/sf9w/yL/7P6l/m/+Wf4z/iX+O/4y/kT+cf6K/rH+9v4o/4D/1f8MAHAArADXACsBewGaAdEBCwIIAt4B4wGaAVYBLAHcAIgAVQAOAMH/j/9h/0P/Rf8+/2b/qf/B/+//UABhAJIA0wDXANYA7ADcAL8AuwCDAEgAKwDX/53/Xv8N/8/+pf5O/ir+K/73/fv9Gv4b/j/+ef6s/uf+Rf+M/9L/JwCNAMgADgFAAYsBtwHJAfcBAQLaAdEBpwFGARYBzwBwACYA8P+j/2L/P/8a/xv/I/8x/3X/sP/Z/0AAcQCBAMYA2gDbAPoAAwHTAM0AnwBPABoA0/+K/0//+/6n/m7+KP7y/fT92P3m/RH+JP5J/o7+uP73/ln/rP/2/1UAkgDTABQBSwGDAcoBwgHxAR0C5QG+AbEBSgH+ANMAawAiAAEApv9x/03/HP8j/y7/PP9w/7z/2f8pAIEAlwDCAA4BCwEKAScBCwHmANEAfwBIAP7/pf9T//7+rf5v/i7+FP7Y/ef9+f0F/iT+bv6T/sb+JP9m/7b/GgBeAI4A5AAVATUBbAGgAcgB0wEDAukBuwGbAVEBBQHJAIMAIgDp/6r/Zf8w/w3//f4V/yj/Tv+b/8v/+f9bAJ0AwAAAASoBKQEzASsBBAHlAJ4AUQANALT/U/8F/7D+af42/vf93/3o/eX9AP40/k3+g/7T/gb/W/+x//7/NACFALwA6gAoAUABawGoAcMBwQHmAcgBiQFqASMBxACXAFkA+v/J/5z/RP8r/w//Af8e/zn/aP+t//v/KAB5AM4A5gAYAUEBMAExASsB5wC2AI0ALwDh/57/P//j/p/+Sv4U/vX93f3X/fb9Iv5V/on+yP4K/z3/lP/m/ykAZQCkANMA6QAhASEBRAGHAY0BmQHPAboBawFbAQIBugBrAEcA5v+8/6j/Rf9H/x7/E/8z/2H/ff+9/wwAQACJAL0A7gASAToBLAEuARMB9QCsAHsAIgDp/9D/Ev/g/oT+Qv7w/dv9vf3g/RP+KP55/sz+u/4U/2b/p/9fAHoAGAHpAFUBRgFOAVEBDwGdAWgBYQE/ASwB8ADAAF8A7f/B/6v/cv9R/03/Vf+a/5X/oP/V/z4AYwCQAAcBPAE+AV8BMgEmAR0BxAByADQAEwDw/6v/Mf8B/93+nP6r/Tn9oP2k/Xr92v2x/u3/VQDn/+P/awCdAPX/Tv8+/6b/DQDt/5//agCyAd0BfgH/AV8C8wFxAWgAqf+2/0b/qf7G/k7/3v9WAGkAYgDwAPMAZQD3/8v/0f/z//T/DwAHAcYBigF6AZsBdQHzADQAkv9i/2X/A/93/nn+5v4B/1f+wf0D/qT+YP4i/gr/HQBwAL3/Bv+4/6MA+/9q/+v/MgCqALkA6v/6//wASgEpAbgA2ADdAagBjgAFAOr//f/L/0D//f6W/0gAQwD5/yEAqgDYAIoAEgAWAHgAkQBwAHkA/ACgAW0B6AC6AMIAqwAqAF7/KP95/17/x/6c/tv+9f6T/sz9uP1H/gf/Ff/z/jr/CQCWAE0A5wDmANn/Vf/l/zYAeP9L/93/pQCiAEMAqgAfAUcBygF3ATIACwAPAKH/cf9j/37/6/9+AGUARwB5AKcAnABiAB0AFwBXAEEADQA3AGwAuAChAbABzwB5AFgAGACn/yz/A/9f/5H/M//a/vn+X/9L/9P+kf54/kD+8v7r/9r/CACcAH0AEwDv/6r/rf83ANH/Mf+q/yQACAD///T/LgDoAPYAZgC0AGQB/ACKAD0AtP/2/0gACADK/xkAVgBwAJsAgABRAIUAdAAJAND/zf/b/wMADQABANgAkQHVAFgAYABjACgAuP9b/2L/qP+M/0b/Yf+U/2H/6P4B/wT/WP6N/vv/ngDs/4X/2//1/8v/w/+m/7L/BwDk/4H/nf/t/0gAbAAhAJP//v/tAAUB5gBlATsBzACkABgAof/P/wgA5f8AABsAJABbAIsAVQArAAwA4v/Q/8D/pf+p//j/GQCAAJMBxwHYAGgANwAVANz/rP93/63/8f/Y/4L/ZP9Q/xX/vP5u/rT+PP+G/3P/iP/Z/xwAIgC8/2P/e//E/7P/Zv+V/wUAawBuAEIACAADAJUAFAHeAJQAQgGNAcYAGgDR/7P/5v8cAPL/oP/S/ycAWQA+APH/5v8JABAA1/+0/5X/yf8+AGwAcwD8ANIBjwG4AFEANQD//9r/0f+s/6//vv+b/3P/Kv/S/r3+sf44/nb+qv+n/2b/+P8nABIAFQDA/0L/l/8OAPT/CQDX/9X/XgCFACoAIgCuAK0AkwDAAO0AQQHtACwA0P/L/8f/vP/L/7n/1P8qADwAKQAiACMAHwAkABkA+P/x/wMAOABHAE4AjQAVAcUBfwG+AC0A7v/E/7z/q/+D/3L/gf+V/3L/Fv+p/o3+pv7L/hr/ZP+P/wEAggBJAIj/V//A//n/7f/l/+7//P8yAGAASADx/9z/SgDAAIgAWwBzAPAAZAHgAPr/mP+W/9v/5f/L/6n/6v9cAIkAWgAEAPD/FgA+AB4AyP/E/wUAWABuAEsASwC4AJEBwAHXAMj/nf/v//f/wf9y/3j/zv8AAI7/3P6j/uv+Cf+z/qr+U/9cAH0A5f9Y/3D/5/9IABgAtP+g/7T/4f/j/yUAVQA+AB0ARgCRAGMAWQBbALsAVwEdARsAqv+q/8T/8v8AAN7/6P9MAGIAQwD6//D/BABWAFYAAgDb/+X/DwBAAGYATgCzAHYBtAEVARAAU/85/7P/EAD1/6n/p/+h/4j/av8h/9H+/v4Z/7T+1f6S/7//wv8dAHIASwDX/6v/q//O/9X///8DAFUAbwA/AMr/z/+LAMEAcwAjAC0ANgDjACMBOgCV/7H/BwAKAP//yf+4/xwAWgAaAfoB2f/9/fz+UwCdAHEA+f9d/yEAJgH4AGoA4wBOAdgAJgAI/5v+bf+JAKwAUQB+/yX/ZP+R/y7/lf5z/rb+iP8eAPT/V/9u/xcAcwAMAIv/fv/c/ygAwP+w/97/TABxAGEABAB3/8D/ZwCvAGMAUwAhAGQAEAHdABQAtP/W/xgASwAYALv/zf8oAFsARwAmABMAOABtAEQA7//F/9T/DgBEAD8AKQC3AK4BhAFKAFT/Jf+h/0EAVQDZ/5T/uP/f/7n/bf8S/wf/L//v/n7+9P7a/3EAbQAWAH7/NP+y/x0A3v95/5r/OACwAGcA9//b/zUATwBJACwA1//5/2kAqQB/AKoAyQB+AE0ACQCn/3n/2P8MABEAIwAmADkAaABbABUA//8GAAkAAADq/8P/8P87AFAAiAA/AfQBHQHQ/wv/Lf/D/00AXwDJ/4r/tP/p/7j/SP/0/ib/Pf/T/qf+NP+1//L/fgB1ALj/Q/9y/5f/3f8wACUASwBuADUA+P8TACsAFQD0/yEAMQBXAIMAUQAsAHgA3ADcAGkAu/9b/6D//P8eABwAIgA3AHAAcQAjAMz/3/8UACcAHADm/8z/AQA7ADEASwAOAQECmgEaAPH+5v6w/24AdwDk/5T/xf/z/7P/Pv8x/0r/O//s/qP+iv44/0MApgBLAMv/rf/M/wYA3f9//43/JwB7AEYA9P/f/1IAWwBPADwAKwAiAEAAQQA5AKYAuACGADYA+f+t/8D//P/+/wwABgAVADIAXgArAAkA8P/0/xEAFQDs/9b/KgBKADcACwBPADoB8AFaAef/Cf8Y/9z/UgBNAMr/lv+i/8f/nf9H/0D/b/9S/7r+dv7k/m7/CQBuAGIAOAD6/4b/rf8kAC8AIgD7/+P/3P8nAEMAMwBoAIAAOAATAB8AFAC0AAcBjgALAPX/2v/l/x4A6v+7//P/JQAoABoAFwABADkARQAKAN3/4//1/y8ASgAdAPL/BAA2AIIAWwGcAbIAz/9G/0n/y/88AA8Atv+r/7P/sv+b/2//XP9n//b+of7l/ir/X//j/2kAsQB9ALT/Vv/S/0UAKAAOAPL/3f8RADwABgApAGcAWwBJADIA1/8FANMA7wB+ABcAzP/E/xAAIgDo/8r/CAAiAEsAMQACABkAOQA1APv/6f/E//n/RABLAAIA7v8UAFMAhwDpAEgBUwCP/87/HQDk/9j/7P/b/xAABwCn/1n/lP+C/0D/Kv8b/wX/Ef9O/8H/QwBGACkAIADz/83/BAASAOb/BQA4ABoA4//3/zUAjwCbAFgA///E/xYAygDzAHUAAADr//z/HQAiAOr/1f8TADkAHAD1//D/GABEAEIA///D/+L/CwBDAD8AAADx/ywAawB0AEEArADBAEgA6/+t/7r/+P9FABYA4P/j/+H/yP+r/3j/Mv8x/z7//P7K/gH/rP9eAHgA7P+8/yAAOQA9ACUAxv/N/yQADgDV/wcAUwBgAFcAQwADAOz/EAAnAIcAmQBYABwAGQAHANf/9P/z//z/EgAGAPH//P8FAAkAGQArAA8ABgALAPX/7/8FABkAPgBRAFEAOABuANQAVgC7/+D/PwBGABwA3v+7//j/JgDp/5D/bf9z/4P/Xv8E/9b+J/+g//n/EgDM/9H/JwAqAPT/5P/D//T/ZQAaAH3/zP94AJMAYAD6/8X/GwB+AG4AVgBGADMAXwBVANr/q//v/x4AKgAMANn/2/8fAEYAIgADAPr//P8VAB0A+P/7/xgAQwBLAEEAFgAoADMALgCUAHYAyf/q/20AXwAjAP//zv/i/w0A3f+W/4f/gv+d/6P/Nf/U/g3/d/+T/7b/6v8CABgAEQASAAMA3P/c/wsADQAIAAQABwANADQAVwBDAB8ADwBjAKEAfgAxAAoA9P/7/xQADwDw//7/IAAYABAA+P8KABUAMAAXAPb/7v///ykAKAAxADYAVABCACAA+P/a//b/ZADEAFEADQBfAHoAGwDY/6z/vf8DAPL/hf9l/5f/wf/U/3z/Ff8l/3P/gf+m//T/zf/3/0UA6/+x/xsAUwAsAAAAt//I/xkAVgAeAB4APgA/ADgAIwBRAHIAcgA7AAQA8f/1/xMAGwAOABIAHwAUAA0A/v8QAB8AEwD5//H/9v8AABcAJwA/AEoAVABHACgAAQD6/1EAnwBAACIAXQBMAB0A9v/F/8D/9v/V/5n/k/+e/5r/nP9J//j+Kf9g/6D/wf/i/+z/BQD4//r/AgD6//j/1v/d/+7/HgAyADUAOgBOAEEADAD2/zQAhwBjABwABQASAAUABQDf/+//FwAmAPz/8f/+/w0AJwAZAP////8ZAA0AEAASACAAQgBfAEEALAA5ABgA//9vAIQAIgAfAFAANwArAPX/tf/E/wAAwf9+/3n/iv+Z/2v/Hf8T/1P/d/+V/7L/w/8bAEgA+P+S/+X/TQA7ALr/vf8pAFkAJgDr/wMAUAB2AFAASwBbAF8AOgAGAPr/+v8BAAsABQAJACMAFQAfABwAEwAQACQADAD1//b/8f8IABcAIAAtAEYAVwBKACMA+v8pAJkANwDm/1sAdQAUAPj/4f/J/wMAz/95/6n/1P+e/03/Hf8Z/2D/d/9c/6j/uf+7/ysAVAD7/8//8v8HAA8AAwDY//f/OAAmABsAWwBrAGIAgQCQAEMALwANAPz/FAAZAOH/6/8eABQAKgAmABgAEwAhAP//7P/2//j/AgAQAAcAKQAwAC0APwBaAFMAIAA/AK4AWwDi/zIASQAYAPj/yP/R/xIA+f+N/5f/uP+u/4f/I//t/i7/hP9o/2v/2/8PADYANwDW/9z/HwAEANH/9v8MABYAJgD//xwAlwBnAEEAlACjAHMAMgDu/+f/GwD5/8X/2/8oADUAIQAfABQANAAmAPL/8/8EAPH/6P/2//X/IgAvABsAQgBeAGgATwCRAHYAIwAuAAoA7f8KAO3/x//2/wAAx//D/8b/lf9r/1H/Af/S/ib/e/+V/67/yf8QAGMACwDD/yEAJgDR/5P/1v8gAEgAGQD6/3UAzABVACQAggC4AHQACgDZ/wIAMQDt/7f/8v8ZACIACwD9/ykAQwAbAOj/8v8VAAMA8f/p/w0AJAAQAP3/GABtAJMA1gDeAF0AMwAhAOn/yf+5/8r/2P/o/8b/v//R/53/Yv8n/xb/Iv/7/uf+XP/R/wYA/f8RACsAJAD5/7//vv/2/x0A4v/8/0QAYwB7AIkAYwCKAKkAZQAlACoAHgDt/9n/5P/0/woA9v/v/xwANAAWAAQABwAKAAYA5v/P/+//EQACABMAGwAuAEAAXgDiAEIBygAeACkAGADH/2b/Zf+7/+D/sf+L/8n/sf9//zj/7f4W/0f/Nf9a/5//+P8mACgAOgBLABMA6f/n/+f/8v8BABwARwB4AIcAjQCAAJUAoQCJAEMAJgAeAAAAzP/e/+j/9v/9//v/HgA4AB4ADAAlACMAFQD//+v/+P8UACcA/f8jAIYAKQE1AcIAcwBtADQAq/9W/3z/tP+X/2z/j//N/6b/c/9S/zj/E/8J/2n/YP9z//X/CwD3/0AAVAD5/wEA8v/C/+v/EwAGAFgAjACBAJAAiQCbALsAfABGAEAAGgDe/8j/3P/x//j/+P8FABwAIAADAAMAHAAgAPf/BwAUABwAEgADABAAZgBBARMBdQC3ALIADwCi/3r/iP+1/1j/Mf+3/6X/WP84/1H/gv/h/sf+l/+G/3X/zf/0/zkACQCw/yQAMQCb/7H/HgAQADYAQABaAL0ArwCFAMMAogB5AFkAHQD3/9f/wf+8/93//P/3/xMAPwA5ACwAMwAmAAsA+f/f/+v/FwAMAFAA8gAIAcgAuwCjAD8A0f+q/47/hP9r/23/i/+e/2//Qf9j/1D/5f79/hb/Bf+N/8r/qP8eAIsAHwASACcA+f/u/+X/0f8QAFEASQBjALwA8QDqAJoAigCJAE0A1f+s/8//yf+j/8//CQAvACwAOQBKAFEAPAAWAAgA9//8/yMAewC0AIEAvQDqAKIAUgAKAAAA3f+Q/1H/e/9z/0z/Jv/r/hr/IP/t/gH/cf/L/6r/wv8PAPL/8v8pANX/5/8ZAOr/NABnADoAeACVAHMAywDFAGMAnQCTAC0AGQD4/+b/4v+5/9P/CQDy/xAAMgBFAEUANgAqADQAOgA8AIkAvwBcAIMAugBsACkAIAATAPX/q/96/7n/iP8y/x//9P66/r3+pf4Q/6P/Pf+J/y0ABgDR/xEAAQDd/7T/qf8MABYAAQBvAK4AygDuANIA1QDvAI8ASQBDANv/uf+2/6b/3f/s/97/LQBcACUAPwBNACAAJAAmABIAfgCiAEoApgCxAHIAZAAoACoADgCr/6f/s/9y/wb/Af8g/8L+lP4f/0T/IP9r/6X/5P/m/5v/7/8iAJb/r/8WACEAJQA8AJgAvADOANQAwgDbALcAbgBbAD8ABgDM/9T/zf/i/9f/6/8vAEkAOQBPAG4AVwBVAGgAoABVAFwAgwBkAEoARAAvACgACwDZ/+H/xP9i/xv/9/7r/qL+dP4I//b+9P6i/7P/vP8BAOr//P/7/6H/2f8YANT/EQCJAKcAxgDTAOMAIQHXAIYAjwA+APb/0P+4/73/w/+9/wQAOQA2AFIAjQCOAJsAkgCMAIcAOAAyAE0AHgAYACcAJwBHAEsA///8/9r/av8e/xj/5v51/nz+zP7r/uH+T/+U/83/3//I/yQAGADF//T/PQD3/zMAcgCRANMAywDVAAUBvABlAHAAMQD7/9P/v//V/9T/uv8GACsAPABaAIUAywDfAJoAngC5AHMALwAzACMAFgD8//3/DQDT/7f/kv9b/0f/Fv/B/sD+4/7b/vf+M/9J/4r/rv+o/+//BgAQABgAKAA6AHcAcwCOAMEAtQC1ALcAhQBxAF0AOgAnABUAAADz/+3/9P8KACoANwCMAKEAgACVAJQAdQBCABwAFAAFAN7/5f/7//H/1f+h/4v/iv8u/wL/Lv///vb+Mf9G/1L/f/+p/9L/4P8HABUAMAAyADgASwBUAFYAZAB9AHgAbQBhAGIAQQBGADAAJwArACAABgAXABwALQBVAFkAaAB8AG0AXwBUAEUAMQAtACIAGwAcAAUA8f/c/8L/rP+R/27/av9X/0P/Qv8x/x7/N/8//0X/df+a/7P/4v8IABYARABlAF4AggCSAKcAnwChAIsAhAByAFAASQAoABcAAwDz/9r/7f/+/x8APQBmAG0AfgByAGIAUwA+ACsAGQABAOb/v/+U/27/Qv84/zf/Ov9D/1b/Vv9c/3P/eP+G/6f/uv/c/wkAFQA1AFwAdAB2AIQAiwCgAI8AhwCHAH4AXgA+ACMAFgD4/+j/7//9/wUAGAArADEANwAqAC8APAA/ADYAKwAiAAMA7P/B/6v/hf9s/3H/Uv9M/2T/cP9h/3P/cP99/5f/oP/K//H/FgA+AFQAcwCSAKYAtQDAAK0AtgCbAIEAZABJACQAFQD2/+//+f8MABkAHwA1ADMAMwATAAYABAD1/+7/9v/p/9H/yP+q/5f/hf93/3T/gP90/4T/j/+J/4//k/+e/7f/3P/8/yAAPQBeAGQAgwCMAJYAnQCxAKAAnQCWAHsAdwBBACUAFQAMAPb//v8KABEAHAANAA8A+f/1/+v/8f/2/+P/4P/P/6r/if9+/3X/aP9n/3D/c/+J/5b/jv+Y/57/qP+z/9P/5P8KACQASQBgAIAAjgCbALMAtgCpALEAsACVAH8AYAA7ACsAFwAcAB4AIQAfABwAEgAEAO//8P/n/97/2v/V/73/sf+U/3//eP94/3D/b/9z/3P/gf+O/5X/lv+y/6f/tf/M/+T///8hADUARABiAGcAiQCRAJYApgCzAKUAkQCVAGYAYABPAEkAQQBEADkALwAoABAA+v8DAPv/8v/u/97/z/+2/5//gP98/3L/Zf9x/4D/av94/5D/kf+b/6//rf+u/8P/z//q/wcAFQAoADcASwBCAG8AeQB+AJsAmgCaAJMAhgBpAFoAXABNADwARgAzAB4AGQALAAMABwD5//v/8v/X/8T/r/+W/33/cP9b/2b/Wv9o/3D/fv+V/6b/w//P/9f/5/8AABQAHwAwAE8ATgBIAFMAbABtAIAAjwB9AHoAWgA+ADkAMQAhABMAHAAYABYAHQAfABgAJgAYABYAGQDz/+L/yP+a/4f/ef9l/2T/cP90/3r/kf+X/5z/pP+7/8r/6P8FAB0AJQA+AFkATABPAGgAegCDAJIAngCSAIgAbQBIADMAIQAeABIADwAFAP3/7//o/+j/5P/5//P/6f/a/9X/uv+g/4n/eP98/4D/h/+E/6L/qf+z/8b/zP/q/+n/CwAeADAAPAA/AEEARgBFAF0AbQB1AI0AgwB4AG0AWgBGADwALQAsACIAGgAMAAEA9//1/+n/6P/y//L/5//D/7b/nP+U/4H/gP+E/4b/g/+L/47/kf+l/7f/x//e//D/CAArACEAMAA6AEUARQBNAFcAZQByAHYAcgB3AGIATQA9AD8AJAAuABgACwAFAPT/5P/m/+b/6f/l//P/5//b/97/wv++/67/pv+i/6z/nP+a/6v/qv+n/7T/zf/U/+L/CgARABkAKQA0ADcARwBLAF8AawBqAHQAdABsAFkARQA7ADMALwAqABgAIAAJAPn/+v/x/+r/3v/i/9//1P/I/7//uP+0/6f/qf+q/6L/rf+m/7D/t/+7/7n/z//d/+T///8WACIALwA3AEEARwBAAEYASgBbAGgAYwBhAFkAQwBAAEQANgAvACsAJQAfAA0ABQD///H/8f/h/+f/2P/Q/8f/yf+1/7n/v/+8/7T/qP+v/6j/s//B/87/zP/Z/93/7f///wUAEAAjAC0ALQApADYANwA9AEoASgBNAE4APAA3ADsAKQAjADIAJAAcAAsABQD9//f/8v/w//T/8v/w/+3/3//i/97/5v/X/9f/1P/I/9L/1v/W/93/1f/e/9f/9f/w//P/9f8HABYAFQAcACoAJwA5AD8AQQBIAEkAOAAoACYAIwAmABYAJgAfABYACQAKAPz/9f/5//D/+P/w//D/7v/h/+X/zv/c/9H/yf/m//D/9//o/+b/+P/w/+j/8P/+/wwACgAUABUAHwAZABoAFgAVACEALgAfACkAHwAuABcAOwBcABYASAAyABkA+//q/+n/5//X/8X/zv/c/+H/3v/Z//D/AwDu/+z/7v/x/9//3f/X/9b/6P/t/+n/9f8QAAkAEgAZAB4AGAAXAA0ACQAOABkAAQD+/wwAEAAAAAoAEgAWABYACQAMAA4AEgAQAAUA6v/q/+n/7f/n//f/+f/+////9f/w//P/7//g/+f/9//6//j/+f/8//r/9f/j////CwD9/wQAAgAUABgAFQABABQAGAAZAAIA8/8QABQACgD8/wMAEQACAOj/9v/9/wYA6//0//T/BADn/+j/7f/u/wsA9//0/wEACQADAP3/9v8TABUAAgD9/wMABAADAAUABAAYABEABAAJAAoACAAMAPv/DgAeAAcAAAD2/wkAEADx/+b/9f8NAPP/6//z/w4ABQDp//r/+f/p/9D/5P/9//7/6f/W//z//f/q/+7/AAAUAAkABAAEABcAEQAHAAsAIgAhABEADwAaAC0AEwD9/wYAFwAQAAIA//8EAAMA///1//D/AgD4/+//9f/6/wAA7//q/+7/7//o/+r/8f/t//j/CgARAPr/9P/+/xQA9v/q//r/GAAJAOr/9v8OAB4ACwDw/wkAJQAMAOv/8v8bABIA6//w/w4AGAD9/+X/BwArAAsA8//0/xoADgD9//D/CwAVAPr/7P/0/wkADwDy//v/DQAFAOv/+/8KAPD/9P8CAAQAAwD8//L//P8EAA8AIQAoADkATQAkABUAAQDt/+D/6f/s//z/9v/6//j/8P/o//X/6f/Y//z/BwD9/+j/7P/p/+H/2//i//L/8P/8//L/8/8DAAgA9v/6//r//f8IAPr/CAAIAAMA9/8AAPX/BgAEAPj/8v/u/wcAEQADAPn//P/9//b/9//8/wgACgD9/woABgD7//3/CAAGAAUAAgD3//f/AgD2/+7/9f/3//P/7P/z//7/8//r//D/AAARAPL/6v/7//n/6v/0/wkAFAAcAAEA/f/9/wcA/v8EAA4AIQAaAP7//f8QAAAAAAAGABgAGAAIAP7/+/8MAAQA/v/4/wMADgD8////CAAPAPf/9f/5/wUA8v/v//j//v8EAPb/8v/7//D/+f/7//H/+//3//v/AAD8/wwABwAPABIADQAGAAEACAD//w0ABAAGABEABwALAAMABAAKAP7/AwAFAAwACwAHAAQABQADAPv/GAAMAAsACQAFAA4A+f8CAAcA8P/3//H/8////wYA/v/8/wEAAQD6//r//f8LAAoACwAFAAIABgD8//r/AAACAAUA/P/4//X/7P/x/+//+f8EAAcADAD1/wgAEQD5//r/9//6//3/8f/4//r//f///wUADwAOAAUABwAIAAIADQAAAAsACwAEAAYADQAKAAIADQANAAsA+/8GAAwADwD6//7/AAAKAAMABQD4//X/9P8AAPn/9v8AAAQA+v/7/wQAAwD7/+//8/8CAPv///8GAAQAAQAQAAgAAQAMAAkAAwAGAAIA+P/r//X/CAD+/wAABAATAAQA9f/9/xIAEAD6//n/DQASAAcABQARABgABgD///T/+v/8/wgABQAGAA8ACQD//wMACAAKAAUA8/8AAAEABAD7//L//f8FAAYA/f8DAA0AFQD///z/BgD9//X//P/u/wUA+P/6/wAACQAaAP7/AwAEAAYA/f/8////AwALAPX/+f/7/woADAADAAYADAARAP//9//0/wwACgAGAAEABQAGAPX/AwAAAAUABQAJAP3/AwD8/wAAAgABAPj/+f/u//P/+P/7//b/9f8IAAoABwACAPv////2/wAA+/8CAAoADAACAPf/EgAJAP3/+/8EABIABQARAAAAAgACAAUAAgACAPz/BAAGAAMABQD5/wAABAAFAPv/CAAOAAYA//8AAAcA+v8GAAUAAAD//wEACQAKAP//DwASABEA/v8CAAgADQD1/wQAAAADAP//BQABAAYACQAAAAUADAD9/wEA//8MAP//9P8GAAgACwD9/xEACgAJAAAA+f8HAAIAAgD+/wEA+P/8/wEABQAEAPj//v8FAAoACgARAA4ADwARABEABAABAA0AEQAIAAYACQADAP3//P/8//r/AQACAAIACQD6/wsABAAPAAAABwD6////9//y//H/+v/5//r////5/wEAAAD///7//P/9/wEAAgD4//3///8LAAEABgD5//3/AAAEAAIABgABAAUAAQD///////8CAAgACQAHAAcA///8//r///8FAPz/BAADAPr/9P/6//7/+v/9//n/AgAAAAcAAgAAAAcABwD///n/AAADAAQA+f/+//b/+//2//T/7////wYAAAD1/wIA/P/y//X/8P/8//n/+P/8//z/AQALAAgAAgANAA4ABwAEAPz/CQD5//z/DAACAAMA/v8MAP////8FAAoABQAEAP//AAD5//T/7v/2//3/9/8DAP3/+v/4//f/AQD+/wEA/v/k//b/5P/z/+v/8f/2//H/8v/0//r/9P/+//T/+P///wUA8//z//f/9//3//v/AAANAAUAAwD9/w0ABwAKAAUA/v8KAP7/+////woABQACAAYABAD9/wgACgADAAgABAADAAQA/P8GAAMAAgD+/wgA//8BAAIABgAEAAMABQD+//r/+v/7////AQD8/wEA+f/8/wAA9P/u////9P8AAPr/9P/y/+7/9P////3/9//2/wAA+//8/wcAAwAGAPz/BQD+//z/AQD2/wQA/P8DAPv//f8CAP3//v8HAAYACgAHAAYADAALAAcACgAIAAUABQAGAP///f////7/AAAGAAoACQAGAAAAAAD//wEA+v/9//n//v/3//P//v8BAAEA+f/9/wIA9P/4//H/+v/6//r/AQD8//r/7v/0//b/AgD+////BQD+/wEA+v/6//3/AgACAAEAAQADAAEAAgD9//7//v8GAP//AgAJAAQAAgAHAP//CQABAAoABgAPAAgAEAAHAAQAAgD9/wUABgAFAPX/7P/4//H/9f/7/wAAAgAFAA0A/////wMABAAGAP3////7/wUA9v/9//j/+f8BAPb/+v8AAPn/AQD1/wYAAgAIAAkABAADAAEABAACAAoAEAAMAAsACAADAAAABgAIAAMABwAFAP//AgD+/wEA+P8CAAcACwD//wcACwALAAcACgADAAEABAAEAP7/AgACAPL/7v/u//P/6f/y//v/AAD4//r/+//8//v/AgABAP//AwD6//3/8//8/wEA+/8EAAkACAACAP3/BAALAAYACwADAAUAAgD6//P/9f/9//r//f////v//v/z//z/BQD4/wwA/P8GAPr/+v8KAAAAAQD3/wAAAQD//wIAAQAGAAIAAQAKAPz/+//5//n//f8DAAkACgAEAP3//f8CAPr/AQDv////+P/6//3//v/+/wQABQACAAwA/P8AAAAA+f8FAP3//v/7//3/AAAGAAMADAAGAAgABQD5//z/CAD//wcACgABAAYA8v/+////AgAAAAgABgAJAP//BAADAAoACwAMAAkABQD8//v/AAD4/+z/+P/3//f/+f/z/wQA//8DAPX/AwD3//n/+v8CAPr//v/8//n/9v/5//n/+v/6/wAA/v/9/wcA/v/9/wYABgACAAMA+v////3/AQD9/wEA///4//3/9P8BAPn///8BAP/////w//3/8//1/wcA/v8JAAcAAQD5//z//v8GAAQABAABAAMA/f/7//D/7v/9//T/+f/0//n/9v/8/wcA/v/4//z/+v////7/+P8CAAAACQD8//7/AQD3//r/9//3//v/+//+////BAANAAgADgAJAAgACwANAAcAAQAIAAEAAwAGAAoABgACAAAACAADAAQAAQAIAAcAAwDz//z//f8DAPn/AwD5//L/9P/1//z/8f/9//P/AQD9/wAAAwAAAAMA/v/+/wkA9v/+/wcABwADABEACAASABAADQATAA8ACwAKAAsACQAFAAYACQD7/wkA/f8GAAYABQAEAAMADgAJAA8ADgARAAIACAAHAAIADAAMAAwACAAAAP3/AgD8//3///8DAPr////5/wAA+f8BAP//AAD3//X/AgD5//v/9v/+//v//v/y//T//P/6//3//P/+//7/AQD7/wMA//8FAAQA//8BAPr///8AAAIABAAAAPz/AwD+////AgALAAwAAgAFAAcABQAGAA8AAgAFAAMA/v/9//z/+P/7/wIABgAHAP7//f/+//r////7//n/9v/2//v/+//3/wUA//8LAAUAAAD9//f//v8BAP///P/8//r/BAACAAcAAgAEAAoABgAKAAcA+/8AAAIABAD9//7/AwD+/wIA/v8DAAEAAwAMAAgABwAEAP7/CwAIAAYA+v8AAPr/BgAEAAoACAAIAAsABAAIAP//AgACAAQABgAAAAYA//8AAP//BQD7//z////6/wAA+f/4/wYAAAAAAPv/+v8BAP///f8EAPb/+P8BAPr/CAD6/woABQAQAA8ABgAAAAAA/f/8////AQACAAQAAQAGAP7/AQAJAP//AgD//wgAAAD9/wQAAwAPAAkACgAFABEA/v/8/w0ABwALAAcA//8IAP7/BwAEAPr/BAD6//7/9//8/wEA/f8EAP3/BQD+//z/8//4//j/+P/+//r/AAABAPz/AwAAAP/////9//3/BwD9/wAAAAAFAAAABgAFAAUAAgD9/wcACAAKAAQADAAGAAsA/v8GAPz//P/0//7/BQD7//j/AgD//wgA//8GAAQAAgAIAAIACgAAAP/////2//3/9f8FAPj/BAD//wcA/P/9//f/AQD4//3/AAAEAP7/BQD9//3//P/6//v/+/8DAPn/8v/6//L/+P/1//r/+P8BAAAACQAIAAEAAQD///7/BQD5/wMABAAKAAYABAAGAAEABAAGAAAABgAGAAUABwD3//n/BwD9/w0AAgACAAMA/v/y//P//v/0//P/+v8AAAAA/P8FAAMA+P/2/wEA+v/4//L///8DAAgAAwAOAP//AAD7/wgABQAHAAQABAAGAAIAAwABAAYABQAGAAIACQAAAAAACAACAAQABQACAAgAAwAFAAkAAwAIAPz/AAABAP///f/9/w4A/v8GAAMA//8BAAEAAAD9/wEAAgAAAP7/+P/3//T/+f8EAP3/BgAFAP7//P8EAAEA+//6//r/BAD7/wIAAAAJAAUA///+////AAD3//3/+v8AAAQA//8BAPT//v/+/wIABAAOAAQACQD5/wQACQAOAAEABQD8/wQA+P/7//z////9//7/+//+//n/9f8EAAEA+/8AAPP/9P/2//X/BAD1/wMA+f8FAAcAAAD8/wEA/v/5//T/9//8//z//v/+/wAABwAMAAcABQAAAAAACQADAAAAAQD//wwACAAFAAYABAACAAIA//8HAP7//f8CAAUADwAMAA8ACAACAAMABQD0/wIA/v/+/wQA//8AAAYABgAEAAQAAgAGAPb//v/x//z/9v8DAPv/CAD//wcA//8HAP//AgADAPr////3/wMA/f8EAP7/BAACAAcA+f8FAAIABAACAAEA/v/6//z//v8HAP3/AwACAAcABAAAAAMAAAAEAAUAAgADAP7/AQACAPz/BQD9/wYA+f8AAPn/+f/8//b/AgD4////9//0//b/9f/z/wIA/P/6//f/+f/8////+//3//j/BADu/wQA+v8CAPz//f8CAAMA/f/4//7/AAD+//v//P8AAP3///8FAAAACAAEAAQABAD3/wQA+/8FAP////8GAAMABAABAAEA/v///wEAAgADAAcABgAQAAUABQD//wMAAQAFAPr/BAD1/wYAAQD+/wMAAgD5/wIA+P/y//b/+v/7//7/AAALAAEAAgD5//v//f/8//7/AAAIAAYAAQAGAAIACAD9//////8AAP3/CQAFAAYADQAKAAIACQD7/wEAAAD5//z/+f8BAPj////z////8v/5//z/+/8DAAEA//8AAPP/+v8AAPr/+/8IAPr/BQD8//r////0//z/9f8CAPv/+P/7/wMA+//+//T/+f/3//n/+P////z//P/4/wIABAD5////+P8JAP7/BgAHAP7//v/4/wAABAACAAwABwAUAAkABwANAAUAAgADAAkABgAHAPn/BAD9/wQAAQAFAAEA/f8DAAcABQD//wcA/v8DAPv/+v/w//7/9v8CAPD//v/1//v/AQD1/wAA8f///wEA+f/6////AwD8//z//v8AAPf/+v8EAAoABgAEAAIABQD8//3/AQAEAPr/AAADAAwADgAFAA0ABgD8/wcABgAGAP//AwAJAAcADQAFAP//DwD8/wgAAgAGAAcABQAJAAMAAgACAAMA+f8AAPz/AQD0//T/+v/8//n///8CAPf/+f/2//X//f/0/+//AwDu//v/8/8AAP//AgAGAAMABgAFAP7/AAD9/wMAAAD//wAABgD9//3//v8FAAgAAgARAAUACgAIAAYADQAMAA0ACAD+/wYAAQALABAAAgANAAcACwAFAAgA//////v/+f/8//3/+v/3/wAAAAD7/wEACAAFAAQA/v/+//7/+v8CAP//+//0//L/+/8AAPz/AQD5//3/+f8CAAkAAAD6/wAAAQAIAP///v8DAAIA/v8EAAYAAgACAP3/CQAIAAUACAAGAAAABwACAAUABAABAAoAAgAFAP3//f/5//3/AgD7//z/+P/0//X/+//4//T/9//5//n/9v/4//b//P8CAPT/+//z//X/9v/1//r/9//4/wsAAAAKAAIACgACAAQAAQD6//3/+v/6/wYABAD//wIABQD///X/8P8CAP7/AgAKAAcADAADAAEAAAADAP//BQD//wkA+//8//n/9v8EAAEABQAGAPz/BwD6//////8JAP//BgD5//r/AQACAPz/CQAFAAEA/P8CAAkACQD+/wEABQAEAAAAAAALAAkAAgAKAAIAAwACAAQAAgAFAAEABwACAAYA+P/6/w0AAAALAAEABAABAAEA//8GAAQAAgD+/woAAwAGAAAABAAKAAQA+/8CAAAA///9/wkAAwD///7/9f/7//j/9f/+////AgABAP7//v/8//j/AgD3/wMA+v8BAP7/AQD4//r/+P///wEA+f8GAPv/BgAEAAIABQD8//v//v/4//v//v///wAAAwD8/wUA9/8AAAUA/P/4/wIAAAACAP3/+P8CAAIAAQD+/wcAAwACAPv/AAD+//3/+/8BAPf/+f/z/wcA/f8LAAQABgAAAP3////+/wEA9f8AAPv/AAD7/wAACAAKAAQABgD4////+P/+/wgA/v8DAPv/AwAEAP3/9f/4//j/BAD+/wMABgACAAMACwAHAAIABAAFAAgAAwADAP7/BgACAAMAAwAEAAMAAgD8/wQAAQD9//7/+f8AAP7/+v/1//X/+f/1//T/8v/6//v/+v/w////+P8BAAMABAAAAAYA//8CAAQAAQD8/wIABwAKAA0ACwAKAAcAAwAEAPz///8DAAgABAAEAPz//P8FAAIABAD//wYA//8CAPr//f/9/wAAAQAEAPv//P8DAAIA/f8HAAQA9f8JAP7/AQACAAQA+v///wEA/f/1//f//v///////f/2/wQA9//3////BAD6//f/+P/0//H/9f/6/wEA+//7/wMAAQD9//z/CgD4/wAA+//x//z//f/6//3/+f/5//3/AQALAAoACQANAAgACQAMAA8A//8GAAYACgAFAAMA/v8EAAYA/P/1/wEAAwD//wQA+/8BAPv/+/8HAAEA/f/s//j/+P/y//X/9f8CAPn/+//u//r/9v/6/wIABAADAAIAAwD//wgAAAAQAA4AAAAIAAcADAAEAP3/CQAIAAUAAwABAAAA/f8EAAQACAADAP3/AAABAAIA/f8HAAcABwAGAAYACQACAAYABgAJAAIACwAEAAMA/P8EAAIABQACAP3/+v/3//T/9P/7//X/8//z//r//f/9//3/AQD8/wEA9/8AAPf/9P/3//f/9/8BAPv/+P8DAPb/+/8DAPr/+f/+/wAA//8BAP7/CQAFAAQACwD//wEABQD8/wIABwACAAYA+f8AAPr///8DAAAA+f8BAAMACQD6/wEABAD7/wAA9/8AAAIA/P/3//n/+v/6//X/9v/7//7/AAD9//r//P/8////9f/5/+3/AwD8//X//v8AAAkACAD8/w0ABgACAAQACAAKAP7/BAALAAYABwAHAAsACQAEAAQADwAGAAoABQANAAEA/f8CAAkAAwAIAAEAAAAIAP7//v8CAAAABgAFAAwADAAEAAIAAgAEAPz/BAD9/wAA9P/4//v//f8IAPn/9v/9//z/+/8OAP7//f/8//z/BAD6//n/BwADAAYABwAIAA0ABQD+/wwAAwAFAAIA8//8/wIA+f8BAP7/AwACAAwACwAAAAgACAAJAAEABgD9/wQA+f8BAAkACQAGAP3/BQAFAP3/AwD+/////v8BAAAA9f/1/+z//v/5//f/AwD6/wgA9f/9//n/+P/6/wkAAgAFAAMA+P////r/9//9//z/+v/y//T/+v/4//b//f/7////+P/9//z/+//7//7/AwADAAkABQAIAA0AAgAFAP3//f8EAAIADQAHABQA//8IABAACAALAAIABwADAPz/BwD///j//f///wIA/P/7/wIAAgD5//3/9/8EAPr/9//9//n//P8EAAIA+/8JAAMAAQABAAUABAAEAAYA/v8EAAgAAQD1//n/BQAEAAIA+f8AAP7//v/6/wMA+f8IAP////8CAP7/+v/6//b/8//9//7/BAD///n//f/9/wMAAwAFAPz/+v/6/wcA/P/7//j/9v/2//L/6//0//D/9v/1//f/+//0//z/BQDz//z/9v/4//j/AgD8/wUA//8CAAMABAD+/woAAgABAP7/AwAFAAMAAQAAAAQABwAOAAkABAAKAP3/AAD6//z/9v/9//v/+f/5//v//f8CAAIABwD//wMAAQD9//X/BgD9/wIA/P8BAP3/+f/u//P/+/8BAP3/AAD8//v/8v8AAPv/AgABAAIA//8CAAMABQACAP7/BwAGAAsABQABAAIA/v8BAAQACAD8/wQABQASAAgACgABAAMACAD5//r/DQANAAwACwAMAAIABwD9/wYACwAHAAMABQAGAPz/8v///wEAAAD///n/AgD3//T/+f/3//r/+P/6//f/+f/5/wEAAQD7//X/9v/9//f/9P/1//7/AQAJAAYACgAGAAAABgAAAAEABQAEAAkAAAAKAAgAEgAIAA8AAwAPAAIABAAHAP//CQAIAAUACgAJAPj/BAAEAP3/AAD6/wIAAgD7////AwD6//z/+//+/+7/9f/5//3/+f/2//P/7//1/+7////8//b/9P/6//v/+//7/wQA+P8AAP//AAD+//z/+P8BAP//AAABAAMABwD8//z/+P/5//7/BQAFAAcACAAIAAwACAAKAAQADQALAA8ADAAFAAcABgAJAAkABQAFAAcABgD//wcAAwAIAAgA//8CAP7//f/8//P/9v/0/+//6v/7/+3/9P/x//X/+//t//n/9f8GAPz/BAD+/wMA///8//z////9/wsACAAGAAQABQAFAA0ADAAHAP////8AAPL/BQAAAAUAAwAGAAYAAgD+/wgABAANAA0ABAADAPn/+f/5//7/AQD2//7//v/5//v/+/8EAP3//P/y//L/7//t//f/+v/3//j//f8DAPv/AwACAAEA+P8EAPv/AADy//D/9v8BAPv//v8BAPn/+//1//n/9//4//v/9v/6/+/////2//r//v8CAP7/AwD7//f/DAADAAUACwAIAP//AQD3//7/AwAKAAoACgAHAAYA/P8JAPz//v/6//n/AQD6//n/9v/8//z/9v/+//3//v/z/wgAAAACAP3////8//T/+f8DAAAA//8EAAMACQD5/wQAAgAGAAAAAgAAAAAABAD0/wEAAQAAAAYABQD+/wgA9f8CAP//AAABAPr/AwAAAAUA//8JAAAACQAFAAAAAgADAAcACwAGAAwABwAIAPj/BgAHAAwADQAHAAsACQAKAP7/AgABAAMA/P/7/wQA8/8CAPf/AgD+/woAAAD/////AAABAP7/BQD+/wUA/P8AAPv/BwD8/wIA/v/9//7/9//1/wMAAgAHAP3//v8GAAAAAQD+/wQA///7//r/9v/9//b/BAD7////9v8DAPz/AAD5//j/9v/4//n/9v/6//n/9f/+//T/AwD7//z//f/4//v/BAABAPz/CAD7/wQA9f/x//z/9v/6//v/AQALAAEA/v8EAP7/9/////T//f/z//7/AgACAPr/BAD7/wEA9f/0/wAABAD7//r/+P////v/+//9/wAABQD9/wYA/v/9/wIAAwACAAIAAgABAAMAAQACAAUABwABAAMA/f/9//z///8EAP3//v/3/wYA+v/3//n/+v/6//v/AAD4//v/9v/8////+v/6/////v/9//n/9f8FAAQAAwADAPv/BwAFAPv/DQAIAAoABgAEAAMABAD7/wgAAwAAAAEA/v/7//P/9f/6//v/BQABAP7//v/7//7/AgD4//3//f/8//7/+v/6//j//v/5//v/AQD7/wEA9v8BAAEA/P/6//3//f/y/wgABQAEAAUACwADAP3/+v/4/wIABQAEAPv/AgD6//z/BgAAAPr/CAD8/wYABQAGAAQABgAGAAAABAACAAMABAABAAwAAwABAAcABgALAAYACgAJAAIACwD9/wAA///8/wgAAQAGAAAAAAD///z/7//0//j/9//3//3//f/6//r/9/8AAPr/AgD7/wMABgACAP//CwANAAIACQAHAAkABgAJAA8AEAAKAAsACwAMAA4AAgANAAQA//8DAAAACAAIAAgACgD5/wYAAAAGAAgABQABAAcAAwAIAP7/9v/3//D/9P/w//j/9//y//f/AQD5//b/9v/+//v/AgAAAPf/+f/x//f/7//3//n/9f/7//L/+v8AAAMACQD+/wAABAADAAIAAwACAAAABgAFAAQAAwABAAoADQADAAYAAQANAP//BQAFAAEAAgADAAIADQD9/wAA/v/9/wIA9//5//3/+P/1//3/+P/1//H/9P/t//f/5v8AAPX/9//6//f/9v/x//P/8f/8//z/AwD6////+/8DAAEABAD3/wIAAQADAAUA/P8EAPr////4//3/BQD4//j/AQAGAAUABAABAAIAAwD2/wMABQADAAkA//8JAAIAAwABAAMABAD+/wQAAQAGAAEACgAHAAAAAQABAPj/8f///wAA+v/9/wAA/v/5/woAAQAGAAQAAQADAP3//P/3/+v/8v////r//v8DAAMA/P/3//7//f/+//3/9v/9//f/CAAFAAcA/P8KAPf//P/6/wIAAgAMAAcAEQAGAAgAAAD8/wIABQAKAAYABgACAPv/AQAGAP3/BwAAAAcABQD9//v//f8EAPn/+//8//n//f/2//v////9//n//f/8//r/+v////3///8AAAIACAALAPz/BgAGAP//BQD7/wsAAAD7/wQA7//0//T/AQAAAPn/+/8KAAQAAQABAP7/BQD0/wQAAgABAAQABwD+/wIABgAIAAgABgAIAAUABwANAAcAAgALAA4AAAADAAUA/v////T/+//+//X/+P/4/wEA8//4/wMAAAD//wEABAAFAPH/8//+//3/BgAFAAcACQAEAAUA/f8EAAwA+v8CAAEAAQAFAAcACQAFAAYABwAJAAYA+v8DAAEA//8CAAAAAAD+//7/BwAKAAMADQAHAAIA+v8CAAAAAAD5//n//v8DAPn/+P8BAAQABAABAAoAAQAFAPP/AwD7/wQA/v/5/wAA9P/1//v/AAD7/wYAAwAJAPv/9/////n/+v/7/wEABAD///z/+//8//b/+v8BAAEAAgD6/wQABgAKAAYABAAIAPf/BAD+/wQAAwAEAAUABQD9//b/AQD//wAA+v8EAAcA+v///wAA+v/7//P/9P/6//z/+f/4//T//v8AAPz/CAD4//3/AQD//////f8EAP//AAABAP7/DQALAAwABgAGAAEAAAAEAAEAAgAGAAIADQABAAUAAwACAAAACAACAAUA+v/4//7//f8BAPr/AwADAP//AAACAAEABAAFAPr/AwAAAP//AwD6/wYA+/8BAAUA///4/wAABAD9/wEA///9//L//f/4/wIA/v8GAAIA/P/7//3/AgAJAAEAAgALAAwACQAJAAcACAADAAEAAwAGAAIA/v8FAAoAAwAJAAIACAAIAPj/AwAFAAcAAAAOAAUAAwABAA4ABwALAAEA/v8GAAEA+/8DAPz/CQAAAAUA+f/7//b/AAD0//L/+//t//b/9//0//j/8//7//n/AgD9//j/9f/9/wUAAgADAAcADAAHAAMACQAIAAYADAAHAP//AwD9/wcAAwAKAAIACgACAAMA/f8CAAsA/v8IAAEACAACAPz/AQAAAAgAAQAEAP3//f/5//r/+/8DAAEAAwAFAAEA+//7//v///8EAPv//v/3/wAA//8DAAIA+//4//v/+f/v//H/9//4//7//f///wEA/v/9//r/AQAKAAEACAABAP7/BwANAAYACgADABIADgD9/wUABwAPAAUABwADAAwABAAEAAwADQAGAAMA/v/4/woABgAGAAAA/f/7//n/8v////v/9f8AAP//AAD///P/+f/s//b//////wEA///4//n//P8FAP3//v8BAAAACQABAAoAAQAHAAIABQAHAPj////8/wYA/f8AAAIAAAABAP3/DQAEAAkACwAFAAIAAgD//wEABwADAAgA//8GAPn/CgAEAAQACAAFAP3/AgD9//z/BgACAAUAAQADAAUA/P8CAAQABAD///7/+//7//P/9v/2/wEA+//6//r/AgDy//b/+f/9//v/AAABAP//AQD4/wkABQAIAAQA//8GAAEA+v8GAPr/AwD+/wQAAwD9/wIAAwAGAP//BwADAAwAAQAEAAAACQAFAPz/AgAAAAMA+/8DAAIACAAJAP///P/6/wQABgAJAAUA/v/7//b/6v/w/+//9v///wQA9f/9//b/+//5//P/9v/2//n/+//0//n/9f8JAAAACQADAAEA+v/6//z//v/9/wAA+v8DAP7/+P8EAP//CQAHAAcA//8DAPn/AgABAAMAAgADAAIABwADAAsADAAIAAkADwD9/wMAAAAOAAYACgADAAEAAQD4//v/AAADAP///f/y//j/9P/y//b/8//p//L/+P/4//r/7v/8//z//f8DAAQA/v/8//n/BAD///n/BQD9/wQA9f8KAAkABwAEAAUABAAMAAQA/f8EAP///f8BAPz/AAACAAAAAgADAAQAAwACAPz/AAD6/woA//8AAPr/+//3//f/9P/4/wEA+f/5//3/+P/3//b/BwD+/wUA/v8BAAEA9f/0//n/BwAGAP7/BQAFAAUAAgAHABEACQAGAA0ABQAFAAIABwAMAA0ACwAKAAYAAAAHAAwADgARAAwACQAVAAYADAASAAoAFAAIAAYADgANAAUACgAKAAcABAD9//3//v/8//v/BAD5/wIA/P8BAPT/9f////n/AwAEAAMABAACAPf/+//1/wUA+/8AAAAAAwAGAAIABQADAAEABAADAAMA/P8AAAAA/v/5/wAAAgD8/wIAAAAGAAMAAQAEAAIAAAD6//7/AwAFAP7/AQD///j/AAABAAMA/P/6////9//0//D////1//7/9//8//3/8//0//L//f/2//v/9P8FAPj/+f8DAAEABgAFAP//AwD7//3/AAABAP7/AwADAAYA//8AAAYABAAEAAEA+P8DAP3////5/wEA+v/7//n/AAD+//j/AgD+/wUABAD7//f/9//6/wcABgD8//v/+v8AAPf/+f/9//j//P/5//v/AAD///X/AgD6////+f8CAPz/BQACAAUA+P/9//b//f8CAPz/AwD+/wQABQAFAAYADQASAAsADgAPAAgACwAOAAgABQAGAAEAAgD9//7///8CAP//BgAJAAMACgD//wQABAADAP3/EQAKAAgACAD5/wQA+f8DAAQABgADAAsABgAIAAUA/P/8//f/AwD6//H/+P/0//v//P/3//j/+f/8/wAA/P/5/wUA9v/4////BAABAP3///8MAAYAAwADAAQABgAFAPj//v/7/wMABwANAA4ABQAJAA0ABwAOAAUACwAHAAcAAwARAAMAAQADAAEAAgABAPz/CAAIAAgAAQAFAAEA/f8CAAcABwD8/wMA+//6//3/+v8DAP7/AQAGAAIAAwADAPr/CgD+/wIA//8AAPz/BgAIAAMAAQAIAAcA//8EAPn//f/5/wQAAwAEAAcABwAGAAoADgANABUABQAJAA0ACgAHAAoACgAIAAsABwAQAAoAAgAOAAwADgAMAAMACAD+//7//P/6//3/AAD3/wMA+v/t//n/+f/0//7/9//7//f/AAAGAAIAAgD6//z//P/z/+v/9f8GAAIA+v/6/wcAAQAHAAMADgABAAkA9v////n/AAADAAIAAgABAAkABQAFAAcACAAHAP3/+v/+//v/+f/+//n/AwD//wAA/v8AAP3/9P/6//b/9//7//f/AAD2/+n/7v/3//f/8P/3/wAA9f8CAPz/+P/z//3/+P8GAPv/9f8AAPn/+f/7////BAD9//z////+/wAA/P8AAAEA///5/wEA//8CAPz/AAAKAAYADwANAAkABAAHAAwAAwAOAAYABgAKAAAADQAHAAoA//8AAAkA/v///wkABgAKAAIA//8IAP7/AAD5//7/AQACAPj/+f8JAPr/AAD//wUABwAFAAoABQD9//3/8v/4//b/AAABAAgABQALAAMABQADAAAABwACAP//BAD0/wEA/v8DAAUABQAEAAEABAAAAAEA+/8GAAMABAD//wAABgADAAMACQAIAAgACgAEAAoA/P8JAAEAAQD4/wMA//8CAAcA/v8FAAgABAD9//r/AAD6//n//f8AAAMA/v/3//f/+f/y//r//v/8//z//f/6//r/9v8EAP///P/+//3////+//r/AQD8/wAA9/8DAAAACAACAAMACwAEAAoACQAFAP///f8KAAEABAAEAP3/CAADAP//AwAHAAQAAAD7//P////5/wcA/f8AAAMA+//+//j/+/8FAAEACgAIAAAACgD+/wUAAwAIAP3//v/+/wMAAAD4/wQA+P8BAAAABAABAAEA9f/2//v/+//+/wEAAgD9//7/AQD8/wAABAAFAAgA/v/6//z/+//x//7///////r/+//+//j/+//8/wAAAAD6//z/9//z//f/8f8JAP7////9/wUA/f8EAP//+//w/+r/9v/+//r/9//z/wEA/P/y//f/+v/6/////f/9/wcABAABAAEAAwD//wsABAAHAP7/BAAGAP///v/6/wAA/P/6//n/BQACAAUABgAHAAMAAgD//wYA/f8IAAYA////////AAAAAPf/BQD9//7/AAAAAPz/CgD6//v////7//r/9f/5//z/+v/7/wcA+//+/wEA7/8AAAQAEwAHAAUADgD///z//P8DAPr/AQD//wEABAAGAAwAAgAAAP3/+/8DAAkACgAJAAgA/P8DAAQACwD9//7/AAAEAAIAAwAEAAkA+//7/wMABgAAAAQA+/8CAAAA/v/8//j/9//3//X////9//v/BAACAPv//v/+//7/BAD1/wIA+P8EAAIAAAD+/wEA/P8GAAcAAgAHAAIACQAEAAYAAgD8/wIA///+/wQA9f8EAAEAAgAEAAQABQACAAUA/f8KAAAAAQD+/wEA+/8FAPT/BAAHAAQACgD+/wEA/P/6////+f8BAAQABAACAP//8P/w//P//P/w//X/9v/2//3/BAD4/wAA+v/6//n/+f/6//n/BAAGAAQABwALAAEACgAPABIABwAHAAoABAADAAEACQD+/w0AAwAKAAQADQAEAAwABQAMAAsADgAKAPz/AQALAAcABgAGAAIA/f/8//n/BAAAAP3/BAAAAP//9P/2//r/+//6//z//f8GAP7////7/wAA+f/8//r/+v///+v//f/4//n/AAABAAIABQD8/wAABAAEAAUA//8FAPz/CAABAAkACQAPABIADQAOAA8ACAAQAAUABAACAAcAAgADAAYAAQAEAP7/AAABAPz/+v8AAPr/AwD//wQAAAADAAYABQD6//r/8v/0//L/8v/4//3/9//7//f//v/6//7/+P/8////9/8AAPb//f/2//n/BwACAAgAAgAAAPz/BgD5//7/AgACAAwA/v8JAP//AAADAP7/BAAAAAcACQALAPf/CgD+/wMACwAIAAYA/v/8/wUADgAHAAkABwD//wIA/P8IAAYABQAGAP7/AAD4//X/BAABAPX/9//1/wIA+/8AAP//AQD5//j/+P/8//b/8P///wAA/f/9//v/+P/0//b/AgD//wMABAD///7/+P/4/wQACQAHAAMABwAEAAEA/P8BAAYAAgAGAAQACAADAAEABgAJAAYABwAIAAQAAgD//wIABAACAAEAAQD///z/9P8HAPv//f////n/AQDz//r//P/3//X/8v/3//L/+v/3//z/+//7//7///8JAAMAAgAIAAsABQD8//7/+//9/wEAAQACAAYABAAJAAQA+v/3//7/BwAJAAgACwAGAAgAAAAIAAQAAgAEAAcA/v////j/BQALAAYACQADAPz//f8DAAkABAABAAgAAQD+//z/AAAKAP7/+v8AAPr//P/z//L/9f/0/wAA9v/1//7/+v/y//z/AAABAAEA/P8DAPb/AgD//wUA+//3//z/AAAFAAAAAwAHAAMADQD8/wAAAwABAAMA/f8HAAAAAgD7/wMA+/8HAPz//P/+//3/+//2//n/+f/+//n/+f/3//j/9f/t/+n/AQD5//f/9f/7//7/8//7//3/+f/3//z/BAD2//z/+//+//3/BAD8/wcAAAD7//z/BgD9/wsA+P/9//r/+v8BAP3/AQADAAgABwAAAPv//f8HAAQABQAAAPz/BAACAAIAAAD9//3/AwAEAAAA/v8HAP3/+f/y/+//AgD5/wAAAwD//wEAAAAAAAcA/f/3/wAABQD2//r/9//4//P/+//9/wIAAQAHAAAABAD///3/AAAEAAcACAACAAoAAwAGAAQAAgD9/wgABAAQAAsABgAEAA4ABgANAAIACgABAPv/BAD6/wEA///9/wMA///6//j/+//8//j/8v/0//H/9f8AAP7//P/7//z/+f/z//r/+//y/wAA+f/1//H//P/9/wMA9f/6//3/+f/7//j/+P/9/wQAAgABAPz/AwD+//z/CgAFAAYABwD+////BwABAAUACwADAAQAAgAAAAoA9v8JAPz/AgABAAEA/v////X////+/wEA/P/9/wIAAAAAAP7/+v/5//f/9P8AAPj/9v/9//3/AAD+//P/AwDy//7/AwACAPv/+/8GAAcACQD//wsACAAGAAMABgABAAIAAQADAAQA//8CAAAA///8//f/AwANAAQACwAKAA8ABAD//wAAAQAFAAMABAD9//v/8v/7/wEA//8IAPz/BQD///r/BwADAAgAAQAAAAEA9//6//n/+v/7//H/9v/1//n/9/8BAAEA/f/8//3/+f/8//H/9v/8/wIABQAJAAUABwACAAQAAAACAAgA/P8NAPf/BQAAAAcADgAIAPz/BQADAAgACwAIAAgADAAIAA8A/v8HAAUABgACAAYAAgAHAAUA+/8AAAQA/f////z/9v/4//f/9v/4//z/AgD4//3//v/5/wIAAAD9//3///8AAP7/9//4//r/+//7/wAAAgD///r/BwABAAEAAwD8/wQAAwD4/wEAAAAKAAYACQALAAQABQAIAAMACgAJAAsACQAHAAAADAAAAA4A//8MAAkADQD+/wYAAwAIAP//AwAFAP/////+//n/+f/4/wIA//8CAAEA+//5//n/AwD//wEAAQACAAAABwAAAP7/AwAEAPv/+v/+//n/BwABAP///v/1//H//P/9//v/AAD9/wMA+v/9/wUA/f8HAAUABAAGAAIAAgABAAAAAgAIAAYAAgAAAAEAAwAIAAIAAgD//wYAAQD+/wQABAD5//3/+P8HAPz//v/9//z//v/8/wUA/f/9//P//f8GAAEA/f/4//r/9P/7/+//+//2/wIABAD+/wAA+f/9/wkA/v8BAPf/AAD1//r//P/6//3/AAD7/woAAAD3/wQAAwAGAP//AAACAAcAAgACAAUAAQAAAAAABAD8/wIA+f/9////AAAGAAQABAD8/wgAAwACAAcA/P8BAPr/AAD9//7/8v/2//X//v/8//L/AwD2//3/9v////z////7/wEACwAEAAoACQAHAAkA+P8HAAgAAQACAAgABAAJAAMABQAJAAoAAwADAAIA+f/9/wQA//8DAPr/AQAEAPj/+/8HAAIABgAFAAkABQABAPz/CAAIAAEAAgAFAAMABgD8/w0A///8/wIA/P/5//f/8v8CAPz//v8AAAAAAQD8//r//v/1/wQA/f/1//3//P/6//b/+v8CAPr//f8AAAEAAgAEAAgABQAGAAIABwAFAP//CwAGAAsACgASAAYABwADAAQACgAFABQA/v8OAAAAAgAGAAgADAACAAIAAwDz//P/BQD//wMA9f/u//b/8v/2//n///8DAP3/BAACAAEA+v8JAAcABAAEAAQACAD9/wUADQAJAAYABwAEAA0A9v/0/wAA/f8BAAUADAD//wgAAQAJAAgABgAAAP3/BQD9//3/+f/8/wMABAAFAP7/+P8AAP3/AwD8//7//v8FAP3/AgAEAP7/+//4//j/AAAFAAAABAAAAP3/AgD+/wEA+f/s//b//v8KAAQABgADAP3/AAAIAAYACAAEAPz/AQD7//f///8DAAYA/v/+/wkAAQABAAgAAgAEAAsABQAAAPj//f8EAP7/9/8CAPj/AwD1//X//v/x//v/+f/8//7////+//7//v/6//v/AAAFAP3/+f/5//z//P8BAP3/+f/6/wEA//8FAAIACQAEAAYA//8CAAUABwALAAkAAwAIAAUA//8AAAkAAgAGAPr/AgAEAAEABwAEAAYABAD///z//f/v//7/BQADAAUA+f/6//b/BQAEAAwABgAEAAkABAACAPv//P8BAPz/AwD8/wAA/f/p//3//P/7/wMAAgD8//v/9f/x//r//v/+//7/AgD5//////8FAAMAAgAHAAIACwAFAA8ACgAOAAgADQAIAAgAAwALABMADwAPAAwAFAAMAAMACQAGAAoAAQAJAAoAAwD5//r//v8BAAMAAAD//wMA9f/+/wsA+/8AAPP/8v/4/+z/9v////z/AAD3//z/8//z//L/7f/y//v//f8CAPT/+P/3//7//f/9/wUAAgAGAAIABAAHAAYACAACAAIAAgD3/wEA/v8IAAYAAgADAP//AwAJAAkAAQAAAAcACAADAAcACgAKABEACQAMAAQACQADAAkADAARAAIABQAJAP////8DAP7//v/3//3/9v/z/+z/9v8AAPz//P/8//3/8//2//j/+//4//f/AgACAAMA+P8CAPz/AAAIAAQACAABAPn//f8FAP3/AgD+//3//f/+/wcACgAHAAkA+/8DAPr/9v/+//3//v8EAPz/BgD///f/BgAFAAAAAwABAA0ABQAFAAYAAwAEAAUA+v/6//L/AAAAAAQAAwD7//f/9f/5//H/9//3///////0//v/7f/v//D/AQD7//n/+//+////+P8GAP7/AgADAAgABAD///n/AgACAAUABgD//wQA/P/8/wUAAgAEAAIAAgD8/woA/v8HAAcABQAJAAIABgD8//z/BAAGAAMABAAAAAEA/P/9/////v/+/wEA//8FAPf/8/8FAPn//////wAABQD3//j/+f//////AwD6//j/+//3////AAD9//z////z//3/8v/1//P/+v/+//z/AAAFAAMACQAEAAkAAgAJAAgABQDz//n////+/wEA/f8HAAkA/P8HAAsAAwAKAAUABQACAP7/DgABAAAA/f///wQABQD8//z/9P/4//n/8P/3//P//P/8//X/+//3//f//v/4//b/CgD///T/+f////H//P/v//z/+v/u//X/+P8DAAgA/f8FAPz/AgADAP///f/8//X//v8EAP//DQAEAAoAAAD8/wAABwD//wkAAAAEAAAA/f////n//v/6//L/+P/7//P/9f/6//P/+v/8//7/+v/7//3/CAAEAAIA/v/8/wMA/f8BAAQAAQAHAAQABwD//wIAAwAEAP7//P////j//f/4//v/AQD0/wAA/v8DAAMA+f/+/wUA/v/3//z/9//7//r///8EAAMACwAEAAwAAQD+////AAD7/wQAAwABAP3///8CAP7////6////+v/3//X//v8BAAEAAgABAP3/+v/1//n/9f8AAAAABAAFAPv/+//6/wgA+f///wAADAACAAEA/f///wQABAD//wQABAACAPv/CwADAAMABAD+/w8ACAAJAAQA//8GAAQABQD9/wUA//////z/AQD1/wMA/f///wAABAD///3//P8AAAIA9/8FAP//AQD7/wIAAwD+//3/AQD6//3/AAD9//n/+f////7/BAAAAPv/BgACAAEA+v8AAAMABQADAAYA+f8AAO//AAD//wYAAwD9/wgA+f/+/wAABAACAAYAAAD6/wAAAAAEAAwACQAEAAYABAAGAPr//v////7//v/4//z//P/3////AgD5//n/8//4//D/8f/6//3/9/8AAPX/+//2//T/+f/5/wEABAAKAA4ABwAEAAEABgAJAAQABgAFAAkA+/8CAAEACAANAAoABgACAAAABwAEAAMABAADAAQA/f/7//3/AAD8//v//f8AAAEA9v8AAP7/+f8BAPz//P/z//X/+/8CAAQABgD///7/9P////3/AwACAPz/AwACAAMA8v8CAP//+//9//z////7//r//f/8/wAAAwADAAkAAAD1/wAAAwALAPz/CQAEAAQA+P8LAAQACAAQABEAEQAIAAUACwAOAA0ACAAGAAgAAgD+/w0ABgACAAYABAADAPX/+P//////8f/x//P/+//5//P/6//4/+7/9P/8//X/8P/3//b/9P/5//3/+//7/wAAAAAMAAMABQALAAUADAADAAEACwAJAAcACgADAAgAAQD7/wcACQAKAAoABgAJAAIA+/8BAAUACwAGAAcABQD+//z/AQABAPj/DAABAAkA/P///wQA/f/+/wAA+/////v///8GAP//AgAFAP//BQD8/wEA/v8CAPz/AQD4//j/+f/u//r//v/+/wIABQAIAAIA///7//r/+//8/wAA+/8CAP3/AgADAP7/BQAFAAkADgAGAAwACAAUAA4ABgAIAAQAAQAGAAgAAwAFAAgAAQADAP7/DwAJAAcABQD6//3/+P8BAAMACgAIAAEA/P/7////9f/7//f/AAD7/wQACAAAAP3/AQD8/wMA/P8LAP3/AQAFAAkACQAIAPv/CAD9/wMA+P8CAAkAAQAHAAUACAD+//X///8FAPz/BwD6/wEA+f///wgA/P8FAP3/BAAIAP3/BQADAAoABgADAP7/BAACAAEABgD///7/AAADAAEA/f/w//b/9v/6//n/8v/3//j/+v////r//P/+//j/BAD7//3/AAABAPv/AAD4/wQA/f8CAP3/AgD+////+v8KAAEA//8DAAAAAAACAAgA/f8FAPn/AwAFAPr/CQAHAAkAAwABAAUABgABAAIA/v/9////AAAAAAgAAAD6/wEA8P/4//T/9//7//P/AAD3//v/9f/+/wEABAD6//7/+v///wEA9P8DAAEAAwD///z/+//0////9f///+3/+P/3//z/9v/2//b//f/9//r/+P/+//7//P/9/wMAAwAAAP7/+v8BAAEABAABAAAA/f/6/wkA//8CAAcAAQAAAPr/AwD5//T/9v/+//j/+//z//b/+//8//P/+v/7//z/+v/7////+P8BAPz//P/9//r/BQD9/////v///wIAAgADAAcABQD6//P//v8BAAcA/v8DAAAA/v/5/wIACAADAAIA/v////7//P8FAAYAAwD4/wUAAAD+/wUABAAEAAgA/f8AAAoA+//7/wEABQD+/wAABQAEAAIA9v8FAPv//v/8//z/AQD8//v/+P/8/wUA/P/1//j/8P/x/wAA/f////7/BAAFAP//CQAOAA8ACAAIAAoABgABAAYABQACAAAABQAHAA0AAgD+//7///8GAAIACQAMAAYABwAGAAgABAAEAAgACwABAAYAAQAIAAgAAQAAAPr/8//q//P/8v/4//7/AAACAP7/9v/6/wMAAgAEAP7/9f/6//b/+v8OAAEABwAAAAkACwD8/wwACAAFAAQABwACAAAA+P/4/wAA///+/wgAAwAIAAAAAgAGAP7/BQD3/wAA9v/3//v/9//3//T/+v/3//3//f///wQABgAGAAEAAwD9//n/AgD9//v/+v/4//3/9P/6/+3/9//3//j/9P/+//L/8f/5//v/+P/2//z////9//7/BAAJAAQAAAACAPr/+P/w/wUA+P8IAAcAAwD/////+/8HAAIA+f8KAP3/BwAJAAYAAwAPAAEACQAHAAAAAgD7//z/AQD5/wIA9//9//7/8f/7//H/+f/6//j/AADx//z/8v/8//3/AQAEAAgA+/8JAAUACAAEAAgACwAHAAEA///+/wAA+f8FAPr/CQD+//3/AQADAAcAAgAGAAcAAwD3////DAAJAAMADgAMAAcABgAHAAYACgAGAAcABQAEAAEACAAEAAEA/f8DAAgAAgADAAQACQACAAQA/P8BAO//9P/7//v/+v/9//P/8//3//H/8v/1//z////5//v/+v/5////AgD2//v/BAAGAAMA/P8EAAQAAgABAP7/+f/3//b/BgADAAUAAgAHAA8ABwAKAAkAAgAJAAYAAgALAP//AAAGAAAA/v8HAAkAAwAAAPf/AwADAAMA/P////7//v/9//7/AQD5//n/9//+//T//P/+//j/AwDv//n/+v/3//X//P8CAP///v8GAPj/+//6/wUA/v8DAAMA+P8AAPf/8P/0//z/9P/8//T//P////3/CwD+/wUAAQD8/wsABAAFAAIACwAMAAQADwAKAAUABAAIAAwABwAKAAoAAAD7/wMA/P8HAAMA/P/5//X/+P/u/+//+P/y//n//f/8//f/+//1//b/+f/4/wAABAACAAIAAAAHAP//DAAAAAYA///+/wcADQAOAAYAAwADAAsAAgAHAAYACAAEAA8ABQAKAPn//f8JAP///v8BAPv/AgAAAAUAAwD+//v//P8DAP//+P/6/wIA//8CAAAABwD8//3/AQABAAEA/f///wEA/f/3//f/AQD8/wMABgD///j/+//x/wIA//8EAPf/AgD5//r/9//7//j/AAACAAQA/v/4/wIABAD9/woABAAKAAcAAwANAAkAAwARAAgADQAQAAgAEQANAA0ADwAKAAoADQALAAUABgD8//3/AgAEAPL//////wAA/P8EAAAAAgD1//T/+v/1//r/9P/1//j/AAABAAIAAAAIAAMAAwAIAAYA+P8PAA0ABgANABIADQAQAAoAAwAKAAUAAwAHAAgAAQAFAAQACgACAAkABgAFAAoAAQAHAAoADgAGAAkADAADAAsACwAMAAsACQAHAAoAAQAEAAQABwAEAAsAAwABAP3/9f/1/wYAAQACAP3/9//5//b/+P8CAP3/AgD8///////3/wIA/v8BAAUAAQAFAP7//P/+//3/AADz//7/+v/5////AwAHAAMACgD+/wkAAAACAP3/CAABAAcABAAMAAAAAQAGAAUABQD///j////5//n//P8CAPn/+//+//n//P/v//z/8v/6//v/AwD9//j////9/wMAAAAJAAQAAgAFAAUAAwAKAAUADgAHAAUACAADAAsADgACAAgA/v8MAP7/AAAIAPz/CgAJAAwABwAJAAUA/f/+//3/+/8CAAoA/f8DAAQACAAAAAYA//8DAP///f///wwABQAGAAIA//8GAPn/BQD3////AAD8/wIAAgD8/wMA/v//////BgAJAAcAAAD9/wEA//8FAPT/AAD7/wEABAAIAAQACQAHABAABQD0/wAACwAKABAACQAFAAMABQAOAAcAAgAHAP7/CwADAPv/AwAEAAYAAgAAAPv/AQDx/wcA+v8BAPv////8//r/AwABAAYABQAGAAcA/f8EAPP/BQAFAPr/AQD6/wIA+v8AAAsACAAEAAcAAwAJAAEA+/8IAAMABwD///3/AQD+//z//v8GAAgACAD//wMAAQAGAAwACQAKAAYACgAFABEA/v8IAAAAEAAPAAQAAwADAAMABwD7/wgA/f/3/////P/3/wIA+P/9/wEA9f/+//r/9//9//j/+v8BAAIAAgAGAAgADAAGAAMA+v/y/wUAAwD8/wMA/P8EAP7/AwD+/wAABwABAAUA/v8MAAAAAQABAPn/BgAEAAoACAAOAAYA+f8GAAUA//8IAP7/AwADAAQA/v8EAPv/AAD8/wAABQD6//r/9f/+/wQAAAD///v/+P/3/wAA9f/6//7/9f/7//v/9//6//T/AgD5//P/+f/x//j/7//6//z////8/wQA+P/8/wQAAgAFAAYAAgAAAAQA+//+/wsA//8FAAAA/f8BAPr/DwAFAAkACQAIAAsABQD8/wIABAALAA8ACAAKAPv///8AAAUAAwAEAAAABAAJAPX/AQD+//j/9//9//3/AADz//3/+P/9///////2//T//f/8/wEA+/8BAAQA/v/8//n/+v/+////AAABAAgABwD9//z//v///wMAAQANAP7/DQAMAAgABwAFAAkACQAKAPv/BwAHAAYABAADAAoA/f8AAA4ACgAGABQACAAJAAwACgAAAAYABwAAAAQA9/8CAAEAAwAGAP///f/4//j/9P/1//f/9v/7//n/9f/+//r/7v/1//b/9//v//T/AQABAPz/AwAHAAMACwAIAAsACwABAAkA+//7//z//v8EAAQABwAMAAcACAAHAAgAAAALAAQAAwAOAAsACAAHAP//AAD//wYACAACAAQA///6//7/9f8EAP7//v8DAPz/AQD5//r/AwAFAAAA/f8AAAQA+/8HAPz/AAABAPv/BAAHAAIAAgAMAPv/AAADAAEABQD+//n//v8FAAAA/v8DAAsABAADAAsABQAGAP3/BAD+/wEAAAALAAIAAQADAAMABQD8/wMABAAHAPz/AgD6//v//f////v/AgD//wAA/P/9////7f/2//3/+//2//f/AAD0//T/+v8IAPz/9v/1////9//6//v/CAD6/wcA/v8FAAEA+/8HAAMA+f8EAAEAAwD9//z/CQABAAYA//8GAAMAAwD1//T//v/9//z/+v8FAPf//P/+//j/+//+////AQD9////AAD//wAA+P/3//3//f/6//r/BAD4/wkABAAFAP7/+/8IAAEAAQD///3/BgD2//j/8v8AAAEAAAAAAA0AAQD+/w4AAAAHAAAA/f/5/wAA9v8FAPv/+v/6//n/AAAEAAAACgAFAA8AAwAKAAYACAABAAQAAwAGAAcABQAGAAkA/P8AAAQAAwAFAPz/AgD8////+f8CAPP/AQABAAAAAgD6//j/BwD5//7/+f/9//b//P8EAP///v8EAP7/AAADAAEA/v8GAP7/AQD//wAABQDx//X/9f/+//b////4//3/AQD9/wQABQAIAAUABQAEAAAAAgAEAAQA/v8IABQABQAIAAYADQAEAAgAAgAJAAkAAQADAP3//P8CAAIAAQACAPz///8FAPz/BgD+//j////3/wYA//8HAAEAAgAEAPf/+f/8/wAA/f8EAAMAAwADAP3/CgADAAAABQAGAAYAAAAAAAcABwAJAAYABwAGAAQA/v8BAAEA/v8GAP3/AQD4//3///8FAAEAAQABAAMA+f/7/wUA/P////n//f8EAPr/9f/2/wEA9/8BAP7//f/3//b/8f/z//X/AAAAAAYA+P/1//v/AgAIAA0ABQAIAAEA+/8EAAUA/v8KAP//BQADAPv/BwADAAcAAwALAAEAEAD8/wgACwD+/wcAAwAEAAAA/v///wIA/P8JAPn/CAD+//z//f8CAAMA+/////b/9//z//b/+f/8//z/+v8CAP7/+v/+//z/+P/v////AAD7//3/+P////7/+P/7/wQA/P/7//j/BgAEAAMA+f/+//f//f/7/wUADQANAAoABAAAAP7/BAACAAEACQD9/wEAAQAIAAEACAACAAgABAACAAIAAQAFAAIAAAAAAPf/AQD//wQA/P8GAPr/+P/7//j/+//4/////v/6//f/+v8BAPP/9//8//v/+v////n/AgD1//f/AQD5/wgA+v8FAPf///8BAAwADAAFAAcA//8JAAIACAAKAAUABwAGAA4ACwANAPz/BwANABAAAAARAAIAAQD6/wUABAD//wsA/f8LAAIA/f8JAAUAAAAJAP7/AwD4////AwAFAAUABwAMAAYAAQD9/wcA/v////7/9f/9//H/8P/u//b//P/9/wAAAwD//wgADgAKAA0ADQANAAYA/P/5//7/AgABAAMAAgADAPz/AAAJAP7//f/+////CQD2//v//v8CAPz/AQD+/wEAAwD4//3///8FAP3/BwD//wQA9/8GAP3/9v/+//j/+v/9//j/+f/1//7/+P/0//z/+P8EAAMABwACAAQABQADAAQAAQAHAAIAAgACAAgA+/8BAO//BQACAP//CwAGAAcA+P8AAAgAAwAMAA8AAAAGAAAAAAACAPr/+/8CAAEACQACAPb/+P8HAAQABQAGAAEAAwACAAUABAD8/wEA/P8EAPz/+v/y////+f/2//3/9v8BAPr//f/6//z/9//7//z/+P/5//b/AQD+/wUA///9/////f/+/wAAAgD6//3/BwD4//n/AQACAPz/BQD0/wIA+P/1//3/CgAGAAQACAABAP//+P8EAAMAAgAGAAIACQD///3////+//v//v/8//z/+P/2//b/AAD/////9v/7//z/+P/5//z/9v/8//z/AwD9//r//f////3/BQAAAAcA+v8DAAEACQADAAcA//8IAAIA/f/9//r/9v8DAP//AAAHAP7/BQAAAAYAAAD9/wIABAD9//n////5//j/9P/5//z/+/8FAAUA/f8GAPz/DQAKAAcABAANAAIA///9/wEAAQD6/wQA/f///wEA+P/8//X/9v/+//3/9/8AAAIA/v/+/wAAAwACAPz/AwADAAIABAD2/wIABwD8//j/+v8BAAUA/P8EAAgACAD4//7//v8AAPn/BAABAPn//v////P//f/9//r/AQDy/wIA9/8CAPT/AQD//wcA+v/7/wAA+//4//T/9v///wAA+//9//b/+f/s//f/+P/5//7//f/+//n/AAAGAAUAAQAIAPv/CQABAPn/CQADAAcA/v8JAPv/AgD+/wwABwAOAAkABQABAAYAAQADAAgA/v///wMA+f8JAPr/AAD9/wEACAADAAMABQD//wQA8//7//7/AQADAPv/AgAAAAMA//8CAAIABgAGAAMACQAFAPv/AgD4//3/AAD4/wIABgD+/wUAAwD+/wkA9/8GAAcABAABAAUABgD9//j/BgAKAAcAAgAEAP//AAD//woADAALAAwA+v8LAAQA8P8MAAIAAgD//wIA+/8DAPT/+f/4//j/7//4//b/AgD8//3/BAD7////+P/7//X/+/////f/8//t//b/8f/4//n/8v/4/wAA+//7/wAA8//5//r////9//j/CQAEAAkA///8/wsAAgAKAAEABQD7//r/AwAGAAEA+//7//3/+/8BAAIABQADAAkABwAIAAoABAAEAAsADgAIAAMAAgAHAP//CQADAAIA/v/8///////3//z/+P/3//r/9f/+//v/9//3//v/+v////3/+f/6//H//v8EAAQABgD+/w4AAwD+/wgAAwALAAEACgAGAAcA/f8JAAUADwAFAAUACQAFAAEA/f/+//v/AAD9/wQAAAD+/wIA+P8EAAAAAAABAAQABQD+/wIA/v8AAPz/AgD8//3////s/wAA8//6//f/+P/+//r////x//f/+P/3//j/7//2//3/+P8BAPX//f/5/wEAAQAHAAAABgACAAIA/v8GAP//AQAEAAMA/v///wcABwAJAAEABQAKAP3/BgD7//n//f/4//v/+v/8//z/AgD///n/AQAAAP3//v8DAP3//P8DAAAAAQD8////AwD9////AQD9//v/+v/3//X/+//4/wIABAD6/wQA/P8BAPz/+/8GAAEAAAD9/wAAAQADAAMA+P8CAAsAAgALAAUADQAEAAYABwAIAAIADQAGAAMA//8DAAYA/f8DAAEAAAAFAAIABAD3/woACgAFAAAABwADAP3/AgD2/wAAAQD8////9v/8/wEA/f/2/wAA9v8AAPf/+v/8/wcABQD///v/BAABAAsABAAGAAwACAAGAAYA///6////+//+//3/BQAEAAIABwAFAAYABwANAAoACAD8/wEA//8FAP7/AgD//wAA+//+/wAABAAFAAUAAwD4//z/+v8FAPz/AwD///n/9//3//n/9//6//n/AgD+/wMA+P8EAAIAAQAGAP//CAD+//P/+f8GAAAABgAHAAkABAD9/wMAAwD5/wAABAADAAAA//8CAP7//f8AAP7/AwAAAPr/BQAAAAEA/P/8/wcA+//8//z/AgAGAAUAAgAFAP7//v8AAAMA/v8MAAQACgACAAMABQAJAPz/AQAFAPv/BQD6/wQA+//w//v/8v/7//P/8f/v//7/+P/1//T/+P/4//v//P/9//7/CAAIAAMACgABAAgABgABAAIAAQAFAP3/BQAIAAYABgAKAAYACgABAPv/CQAFAAYACQALAA0ABwAAAAkA/P8DAAQA9v/y//P/7v/6//L/+v/7//b/9//5//v/8v/8//H//f/3/wQA////////AgD7/wcA+v/3//v/+P/+/wUAAwAJAAUABwACAAAAAAAEAAAAAAD9//3//f8AAAsAAwAIAAoACAAEAAkA+v/+/wQABwD//wIABQABAAAAAAAEAAEABQAEAAYACgD0//3//v/5/wMA/P8CAPn/9v8AAAEA//8CAPj/BAABAPb/9//+//f/AQADAAUABQDz//r/AwAEAAEABQANAA8ADAAKABkACwAPAAcADQD//wUAAwAOAAsAEAAJAA4ADAAHAAwADgAPAA0ACwAKAAcAAAARABAAEAAMAAkABwADAPz/+v8IAAMAAwAHAPf/+v/2/wQAAAAEAAYACgADAAIA/P8CAAAABwAJAAIAAgAHAPr/BQAKAAUADQAFAAsAAgAGAA4AAgAEAAkABQAHAP7//P8AAAkAAQAGAAsADQALAAcAEwAQAAoAEwAKAAsACQD//wUACwAIABUACwALABAAAwAIAA8ACQAMAAoADgAOAAMAAwALAAgACgAKAAAA/P/3/wIABwD6/wAA+P///wIA+v8DAP3/BgAEAAEAAgAEAAYA//8IAP3/CwAEAAwAAQAAAAkACAAJAAkAAgAFAAsAAQACAAYABgACAAYACQD4/wMA+v8IAPv//v/9/wIAAAAGAAQA+//5//v//P/+//3/AAD2//X/9//0//n/AQDw/+r/2v/Q/93//f8UAAkAEQD5/wIADAD2//v/8//q/+j/6f/o//H/9f/w//z/7P/4/+b/AQAKAPz//v/2/+//9//v//j////y//n/+v///wEA///9/wUABgABAAAAAQD8//z/9v////T/+P/0//v/9P/y//D//P/6//f/+P/0//z/8f/w//D/8v/z//P/8//u/+r/8f/o/+j/7P/t/+7/5//y/+//8P/7//z/+P/5/woA+P8IAAgABQAKAAYAAQAJAPv/9/8AAAMACgAIAAcA//8KAAoADQAFABAADQALAAUAAAD+/wwA/f8CAP3/AwD4//P//P/5//z/+v/5/wAAAQD+//3/BAD9//r/+v/2//v/8v/3//r/9//y/+7/9P/6/wUA/P/+//v//f/y//7/AAD4//v/AAD+//z/AQABAP7/9P/8//b//P8AAPf/+v/3//3/AQACAAcABAAIAAYAFQALAAUABQD6/wMA/f/9/wIA9P8BAP3/+//8//X/+P/4//T////6/wIA9//5//r/+f/y//f/9//8/wAA//////n/9v/3//7/9v/y//P/+v/y//f/9//6//3/+v/7//D//f8CAP//AQADAPv/+v8EAPr/8v8AAP7/BAD+//7//v/6//r//P/8/wIAAgD//wgABQAGAP3/AAADAAAAAAAAAAUAAgD///7/9v/7////AgD5/wMA+//6//7/AwD9/wEA+f/7//r//f/9//L//P/z//b/7v/1//z//v8AAPj/+v/+//H//f/8//7/+/8GAAUABQAEAAMABgALAA4ABwAFAAQA/f8MAAUA//8EAAAABQADAPf/CwD+//z/+////wEABAD3/wQABwABAAMABQABAAAA9P8DAAQAAgABAAQAAwD///b/AQANAAQABADv/wIABAD5//7/AgAFAP7//v8CAAMA/f8FAAQABwABAAkACgAIAP//BwAHAAYAAwAAAAYAAgADAAIABAALAAcAEAANAA0AAwAAAAoADwAUAAwACgAHAPz/AgAAAAYACgAHAAUADQAAAAAA/v/6////AAAKAAYA/v8GAAgA/P8LAP//BwAFAAEABgAAAP3/BgAHAAUA///6//v/BAACAP3/BAADAAQA/v8HAAMACAAJAAcABwADAP//+v8FAAUABwAFAAcAAgAJAA4ACAAFAA0AAwAOAP7/AwADAAUABAAAAAkACAD//wYA+/8RAAIABgD+//3/+v/5/wQABAACAAEA/v8LAAwAAwAKAAEAAgD4//v/9P/v/+7/+//6/wAAAAD//wYABgD9/wkADQAMAAsACQAHAAgAAwAAAAgACAAFAAkABwAKAAkAEAAJABYACAALAAsADgABAAwA+v8CAAYABwAGAAYABAAJAAkADQAHAAoABgADAAMA/P/5//z//P/+/wYA8v/8//X//P/2/wEABAAJAAEAAAAOAAYADQAHAAwACQAGAP//BQALAAkACQACAAUAAgD8/wIA/v///wAABAD+/wYA+f8AAAcA/f8DAP//AQAFAPj/BQABAAIAAgACAAUA///1////AAADAAQA+/8FAAIAAQACAAUAAwD8/wgA/v////H/+f/3//7/AwD5/wQA9v/z//X/+P/4//v/9f/+//j/7//1//f//P/1/wAA8//8//b/8v/0//v//f8BAP3/AgD7/wMABQAFAAYADAAPAA4ABgAKAAcADgABAAQABAAGAP3/AwAJAAUAAQAIAAUAAgD6//v//f/+//z/9v/+//z/+P8BAP//AgD+//b//f/9//3/BwADAAEA/f///wcA/f/1//b/AgAAAP3/AQD8/wQA9//+////AQAHAAYAAwACAPn/9v8BAPL/+v8FAAYACAD8/wgABAAEAAQAAwAHAP7////9/wEA+/8EAAEAAgD6//z/BQADAAIA/v/7//3/9v/z//n/+//4//j//P/4/wIA7v/9//v//v/z//3/+P/z//b//P/0/+//AADt//H/9f/y//z/+f/3//n/9v///wQAAwAMAAUADAAFAAgABQAEAPj/AgAGAAMAAgAEAAUAAgADAP//DgD+/wYA/v/9/wEA9////wAAAgAHAAQAAQADAP7/AAD//wUA+v8CAPz//P/y//7////8/wMABAD//wcA8P8EAP//BgAFAAMA/v8DAPD/+v8FAAEAAAD+/wIAAQD8/wQABQD///3/+//8/wEA+v8BAP///f8EAAMABwADAAAACAD9/wQA/v/9/wYA+//z/wIA/v8FAP3/CAALAAcA//8HAAUABwABAAcA9v/9//n/8P8EAPT//P/5//v/9//w//v//v8AAPL/8v/1//H/7P/m//P/8v/4//z/BgD//wQABgAQAAgA/v8HAP//CgAFAPz/DAD+/wAAAwAEAAUA//8MAA4ADAAJAP//BwAMAAIAAQAHAP7/BAAFAAMAAwD4/wQAAgD9/wcAAAADAAQABQAFAAUABAD+/wgAAAD///n/9/8EAPb/BQD+/wEAAwABAAMABgAEAAIA+//9//v//P/+/wEAAQABAPz/9v/5//T//v/6/wMA//8DAAEACAAEABAACwANAAgAEAD//wkA+v8EAAkA/v8KAAQACgD8/wMAAQAKAAcABwD///7////5//v/9//+//X//P8AAPL/8//y//X/+f8EAPn/AAD3//T/7P/5//D/+v/3//T/9v/y//7/AQD9//3/BgABAAYAAwAVABMA/v8EAAQACAAAAPf/AAD/////BQD9/wgACAADAAQADQAAAAEADAAPAA4AAQADAAYABQAKAAEACwABAAEA+v/8//j/AwAEAAMABAAAAAwAAgAKAAUAAQAEAAIA9f/+/wYA/P8GAAQA+v/6/+///P8AAPr//f/5/woAAwD9/wMAAwD9//3/+v8DAAcA/f8HAAkADgAIABMACgAPAAMAEQANAAUACAACAAkAAgACAPr/BAD///3/BAD9//3/+v////3////9//v/9v/2//r///8DAP//+//w/wEA/f8BAAEABgAKAAgAAQACAPv//P////v/9v8AAP3/BAAHAP//AwACAAQABAAFAAMAAQACAAwACwADAAYAAwACAAIA/f8DAAwAAAADAAgACAAOAAgABgAFAAIACQAEAAUACQAAAAMACQABAAMAAgAFAAoA/v8OAAUABAACAAAA///8//r/8//4//f/9//6//7/BQACAAsABwD///z/9f/4//n/+//8/wQA/v8DAAoACwAMAAQADAAKAPz///8DAAkAAgAIAAYADwAGAAkACAAMAA8AAQAFAA0AAwAIAAsABgADAP3/AgABAAUAAwAIAAEACAD4/wAAAAAIAAIAAAD6//r/9//8//3//f8AAP7///8AAAEA/v8GAPr/+v/2//f/7v/3//3/BAACAP7/+//8//v///8CAAYACAAGAAgABgABAPj//f8AAAkAAwAJAAwABwD///7//f/+/wMA+/8FAAcABAAEAAIABQACAAMABgACAP7/CAAJAAUA/v/+//v/AwD2//3//P/6//P/+P/8//f/7v/4//T/+P/4/wEA+P/8//X/BQACAPv/+f/9//7//f/4/wEA+/8AAPr//v/7//n/+v/6/wMA//8CAAQACwABAAQA+/8EAAMA/f/8/wEABQD8/wUAAAAAAPj/AAD6//3/8/8EAAQABQAFAPv/AQADAPj//v/9//z/AAACAPT/AwDx/wAA/////wAAAAD9//7/9f/7//r/9v/w//3/8v/9//H/+v/2//3/+////wcAAwABAAAABgAHAAkACAAGAAcA//8FAAYA//8AAAcACwAJAAAADAAPAAgADAAMAAcAAgD5//z/+v8AAP7/AwAOAAwACgAFAAUABQAHAAQABwD2//b//P8CAPv/BQD9/wgAAQAAAP7/AgAAAAAADAAFAAsA8v8CAPn/8v/4/////f8AAPf//P8AAP3/AQADAAEACQD7//r/AQD+//X/BQAEAAgA/v8EAAMABgANAAwADgD4/wUAAQAIAAMABwABAAUABwAEABIABQAGAAMABwAAAAoA9v8IAAIAAQAAAPn/9/////X//P8EAAQAAAD5//z/7//3//n/+f/y//v/+///////9v/9//3//f8IAAYAAQD+/wEABAACAAMABQABAAgACAD+/wwAAgAGAAUACAADAAMABAAGAAMADQD9//j/BQAAAAMA/v8JAAAAAQAEAAIA/v/6/wYADAADAPT/+P/5//3/+P8BAAIA//8FAP7/AQD3//j//f/6/////P/5//j//v/z//f/+f/4//z/9P/9//j//f8CAAkAAwAKAP///P8AAPj//P8DAPn/AAD5/wQA+v/+//3/BAADAP3//f8AAAEAAQABAAIA/v8DAPz/AgD4//j/+f/+/wIAAQD6/wIABQAAAAIAAAD2//v/9//8//v/9P////3/+f/t//H/9P/x/+v/+v/3////9v/z//z/9f/z//n/+v8BAAMA/v8HAAkAAQAHAAoADgAEAAEA/v/8//3///8KAAYADQAKAAgACgD+/wUABAD//wUA/v8AAP//AQAKAAgACAADAPz//P8CAPn//v/8//P//f/8//3/AQD3//7/+/8FAPz/9v/5//3/BgAHAAYAAwD+/wAA+/8EAP3/+v8CAP7////4/wcAAQAEAAEA/////////P8AAPz/BgAHAAkAAwABAAMA+f/+//L///8EAAMABgD4/wsA/P8BAAEACAALAAQABgAJAAQA/f8EAAYABAD9////+v/7//b//P/8//z/+//2//P/8f/r//f/7//7//H/9P/w//L/+//9/wUABQAAAAEA+v/z//3/BQAGAAQADQAIAAIAAgD8/wUAAgAEAAQA/f8IAPz//f///w0ACAAGAAMAAQD+//j/BgAAAAIABQAGAAIABgD7/wAABAD6//r//v/9/wIA+P8HAAAADgAIAAQABwAAAAEAAAAKAAUABwD///r/AwDv//n//P/8/wkA/P8FAPz/9P/y//v/+f8GAP//DQACAP3/+f8FAAMABAAEAAMADAAFAAcABgAEAAIACQALAAcAAwAIAAcAAwADAAIAAwAFAP7/BgADAP3/BAABAAEAAQD5/wMA/f/9////+v///////f/8//b/+v8AAP3//v/z//X/9P/6//f/+P/7//j////+/wIABAAAAAIACQAEAAAA9f8HAAgACAAEAAYABgAEAAEAAgABAAMABgACAAgABwD+//v/+v8GAPn////+/wUA/v///wAA/P8FAP7//v8EAPX/AAACAPf/AwD9/wgABAD9/wgA+v/7/wEABQADAPz/+v/1//v//f/3//X/8//1//r/+v/9/wAA/P8BAAMA+v/+////AgAFAP7/BwAGAAIA/f8SAAQABAALAAQAAgAEAP7/CAAJAAgAAgD9/wAADQABAAoA/v/7//v/9P8FAPn/AwD5/wAA/f////X//v////3/BAD6//r/9v/8////+//8/wYA+P/6//T/9//4//H/8f/8//7//v8BAP7/AAD+/wMABgAAAAoA//8BAAsABgAAAAUABgD//wgABAAIAAUAAQAFAAEABAAKAAgACQAMAAMABgALAAQAAgD5/wUAAAAAAP//BAAHAAsABwAHAAsAAwADAAYABAAEAAEA/P/6//H/+f/8//3/AgAEAAAAAwD2/wkA+f/4/wMA//8EAAIA+/8JAAYABAADAAYABAAHAP///v/9////AAD+/wsAAgAOAA8ADgANAAcADwAMABMABQALAAkACAAHAAYADQAHAAcACgAFAAEA/v/9//7/BgD4//j///8CAAQAAwD/////+/8AAAYAAAD7//7///8HAAMAAwD7//T/9//4//n/8//3//f/AAD7//r//P/8/wEA8//5//3/8//3//n/9v/8//f/AAD9////CAD9/wEA///+/wcAAgAHAAIAAwANAAAACgAIAAwABAAAAAUABAD8//j/AAD+/wQABQD6//j/9v/2//H//f/0//7/7/8AAPz/9P/9//b/+//8//v//P/7/+//8P8BAPT/+//1//j//v/y//f/9P8BAAAABAD//wYABgD9/wUA+v8EAAUADQAGAP//AwD7/wUAAwACAP3/DAD2/wYAAgABAAQA/////wIA/P8DAAYA/f/8//v/AAD///j/AQD5//z/+f/7//v/+f/0//L//v/0//f//P/7//7/7v/x//D/9P/2//X/9v/1//D/+//4//b/+P/9//T//P/4/////v/7//7/BQABAAMA+v8IAP//AAAAAAcAAgAJAPj/AQD8//7/9f/+/wQABwD6/wAAAwADAAgABgAGAAkA/f8HAP3/BAD1//3//v/6//n//f/7//7/9//9//r/+f/4//n/AgD9//3/+f/5//7/9P/1//X/+P/9//z/AAD///j/BwAHAAYAAQD8//n/AwD1//7//v/+//3/AAAAAAgA+v8DAAcA//8FAAAACAAAAPv/+v///wMAAQAAAAIA/v8AAAAABQAAAPr/9f/2/wMA9f/9//j////y/wEA/f/8//T/+P/5//T/9f/y//L/6//o//b/+f/+//r///8BAPn//f/4/wMACQACAAkABAAOAP//AwAHAAAAAgD//wQABAAEAA0AAAAOAP7/BQD8/wAA///+/wQABgACAAQAAwADAAEAAQD+/wIACAADAPv/AgAAAAoABQAIAAkABAAGAAUAAwAJAA8AAgAEAPj/+f/7/wEABQAGAPz/BAAEAAMADAD//wkABwAHAAcABQAOAAkAAAAGAAkABQAGAAcACQAGAAMACAAMAAwADQAKAAYACAAHAAAABwAFAAsABgAHAAYA+/8BAAsAAAAKAAMABAANAAcADAAGAPn/CAD7/wYA+f8AAPz///8AAPv/BQD8//z/+//1//f//P/9/wEA/v8EAPb/9P8EAAoABAAGAAoAAQD4/xQA6/+i/8P/0//t/8z/7v8jAB4ATwBfAHYAYgAyANv/vf/d/8r/2P+9/8//1v8PADgAPwA+AEAAIQAQAP//5f/t/8//2v/U/+X/BwATABEAGAAuACkAHAAVAAcABwAGAOT/2f/i/w==\" type=\"audio/x-wav\" />\n",
       "                    Your browser does not support the audio element.\n",
       "                </audio>\n",
       "              "
      ],
      "text/plain": [
       "<IPython.lib.display.Audio object>"
      ]
     },
     "execution_count": 20,
     "metadata": {},
     "output_type": "execute_result"
    }
   ],
   "source": [
    "ipd.Audio('/kaggle/input/freespokendigitsdataset/recordings/9_theo_16.wav')"
   ]
  },
  {
   "cell_type": "markdown",
   "id": "bottom-banner",
   "metadata": {
    "execution": {
     "iopub.execute_input": "2021-06-16T01:38:06.261398Z",
     "iopub.status.busy": "2021-06-16T01:38:06.260995Z",
     "iopub.status.idle": "2021-06-16T01:38:06.265641Z",
     "shell.execute_reply": "2021-06-16T01:38:06.264415Z",
     "shell.execute_reply.started": "2021-06-16T01:38:06.261363Z"
    },
    "papermill": {
     "duration": 0.06261,
     "end_time": "2021-06-16T02:52:01.019352",
     "exception": false,
     "start_time": "2021-06-16T02:52:00.956742",
     "status": "completed"
    },
    "tags": []
   },
   "source": [
    "As above, longest audio is of 2.28 seconds in which 9 is uttered"
   ]
  },
  {
   "cell_type": "markdown",
   "id": "treated-shipping",
   "metadata": {
    "papermill": {
     "duration": 0.061992,
     "end_time": "2021-06-16T02:52:01.144549",
     "exception": false,
     "start_time": "2021-06-16T02:52:01.082557",
     "status": "completed"
    },
    "tags": []
   },
   "source": [
    "Get full data to analyze duration of audios in full dataset"
   ]
  },
  {
   "cell_type": "code",
   "execution_count": 21,
   "id": "chicken-poison",
   "metadata": {
    "execution": {
     "iopub.execute_input": "2021-06-16T02:52:01.276858Z",
     "iopub.status.busy": "2021-06-16T02:52:01.276175Z",
     "iopub.status.idle": "2021-06-16T02:52:01.279432Z",
     "shell.execute_reply": "2021-06-16T02:52:01.278912Z",
     "shell.execute_reply.started": "2021-06-16T01:39:45.498167Z"
    },
    "papermill": {
     "duration": 0.072462,
     "end_time": "2021-06-16T02:52:01.279579",
     "exception": false,
     "start_time": "2021-06-16T02:52:01.207117",
     "status": "completed"
    },
    "tags": []
   },
   "outputs": [],
   "source": [
    "def getFullData(DirPath='/kaggle/input/freespokendigitsdataset/recordings',sr=8000):\n",
    "    Xfull = []\n",
    "    y = []\n",
    "    count =0;\n",
    "    for dirname, _, filenames in os.walk(DirPath):\n",
    "        for filename in filenames:\n",
    "            full_path = os.path.join(dirname, filename)\n",
    "            label = int(filename.split('_')[0])\n",
    "            X, _ = librosa.load(full_path,sr=sr)\n",
    "            Xfull.append(X)\n",
    "            y.append(label)\n",
    "            count = count +1\n",
    "    return Xfull,y\n",
    "    "
   ]
  },
  {
   "cell_type": "code",
   "execution_count": 22,
   "id": "floppy-shadow",
   "metadata": {
    "execution": {
     "iopub.execute_input": "2021-06-16T02:52:01.409941Z",
     "iopub.status.busy": "2021-06-16T02:52:01.409318Z",
     "iopub.status.idle": "2021-06-16T02:52:04.032037Z",
     "shell.execute_reply": "2021-06-16T02:52:04.031504Z",
     "shell.execute_reply.started": "2021-06-16T01:39:53.397041Z"
    },
    "papermill": {
     "duration": 2.689806,
     "end_time": "2021-06-16T02:52:04.032191",
     "exception": false,
     "start_time": "2021-06-16T02:52:01.342385",
     "status": "completed"
    },
    "tags": []
   },
   "outputs": [],
   "source": [
    "X,y = getFullData()"
   ]
  },
  {
   "cell_type": "code",
   "execution_count": 23,
   "id": "asian-voluntary",
   "metadata": {
    "execution": {
     "iopub.execute_input": "2021-06-16T02:52:04.164623Z",
     "iopub.status.busy": "2021-06-16T02:52:04.163974Z",
     "iopub.status.idle": "2021-06-16T02:52:04.167572Z",
     "shell.execute_reply": "2021-06-16T02:52:04.168067Z",
     "shell.execute_reply.started": "2021-06-16T01:44:04.308072Z"
    },
    "papermill": {
     "duration": 0.072149,
     "end_time": "2021-06-16T02:52:04.168252",
     "exception": false,
     "start_time": "2021-06-16T02:52:04.096103",
     "status": "completed"
    },
    "tags": []
   },
   "outputs": [
    {
     "name": "stdout",
     "output_type": "stream",
     "text": [
      "length of x:  3000  and length of y:  3000  and number of samples in first data of X : 3540  first data y  0\n"
     ]
    }
   ],
   "source": [
    "print('length of x: ', len(X), ' and length of y: ',len(y),' and number of samples in first data of X :', len(X[0]), ' first data y ', y[0])"
   ]
  },
  {
   "cell_type": "code",
   "execution_count": 24,
   "id": "choice-pressing",
   "metadata": {
    "execution": {
     "iopub.execute_input": "2021-06-16T02:52:04.296676Z",
     "iopub.status.busy": "2021-06-16T02:52:04.295976Z",
     "iopub.status.idle": "2021-06-16T02:52:04.301179Z",
     "shell.execute_reply": "2021-06-16T02:52:04.300653Z",
     "shell.execute_reply.started": "2021-06-16T01:44:59.442257Z"
    },
    "papermill": {
     "duration": 0.07036,
     "end_time": "2021-06-16T02:52:04.301364",
     "exception": false,
     "start_time": "2021-06-16T02:52:04.231004",
     "status": "completed"
    },
    "tags": []
   },
   "outputs": [],
   "source": [
    "def plot_Audio_duration_bar(signals,rate=8000):\n",
    "    sample_duration = [len(x)/rate for x in signals]\n",
    "    plt.figure(figsize=(12,8))\n",
    "    plt.hist(sample_duration)\n",
    "    "
   ]
  },
  {
   "cell_type": "code",
   "execution_count": 25,
   "id": "spiritual-kenya",
   "metadata": {
    "execution": {
     "iopub.execute_input": "2021-06-16T02:52:04.465108Z",
     "iopub.status.busy": "2021-06-16T02:52:04.453356Z",
     "iopub.status.idle": "2021-06-16T02:52:04.615676Z",
     "shell.execute_reply": "2021-06-16T02:52:04.615152Z",
     "shell.execute_reply.started": "2021-06-16T01:45:02.276741Z"
    },
    "papermill": {
     "duration": 0.251953,
     "end_time": "2021-06-16T02:52:04.615824",
     "exception": false,
     "start_time": "2021-06-16T02:52:04.363871",
     "status": "completed"
    },
    "tags": []
   },
   "outputs": [
    {
     "data": {
      "image/png": "[encoded data removed]",
      "text/plain": [
       "<Figure size 864x576 with 1 Axes>"
      ]
     },
     "metadata": {
      "needs_background": "light"
     },
     "output_type": "display_data"
    }
   ],
   "source": [
    "plot_Audio_duration_bar(X)"
   ]
  },
  {
   "cell_type": "markdown",
   "id": "brown-slovakia",
   "metadata": {
    "execution": {
     "iopub.execute_input": "2021-06-15T02:39:47.73313Z",
     "iopub.status.busy": "2021-06-15T02:39:47.732814Z",
     "iopub.status.idle": "2021-06-15T02:39:47.741998Z",
     "shell.execute_reply": "2021-06-15T02:39:47.741092Z",
     "shell.execute_reply.started": "2021-06-15T02:39:47.733098Z"
    },
    "papermill": {
     "duration": 0.062795,
     "end_time": "2021-06-16T02:52:04.741758",
     "exception": false,
     "start_time": "2021-06-16T02:52:04.678963",
     "status": "completed"
    },
    "tags": []
   },
   "source": [
    "As seen above, most audios are around .25 to .6-7, very less after .75 and some outlieres are after 2 seconds"
   ]
  },
  {
   "cell_type": "markdown",
   "id": "incorrect-owner",
   "metadata": {
    "papermill": {
     "duration": 0.062883,
     "end_time": "2021-06-16T02:52:04.867713",
     "exception": false,
     "start_time": "2021-06-16T02:52:04.804830",
     "status": "completed"
    },
    "tags": []
   },
   "source": [
    "Get samples from audio for 1.0 seconds so that number of samples are same for audio duration >=1 and as for audio less than 1 seconds, pads the generated samples to make them of same size as others"
   ]
  },
  {
   "cell_type": "code",
   "execution_count": 26,
   "id": "weighted-polymer",
   "metadata": {
    "execution": {
     "iopub.execute_input": "2021-06-16T02:52:05.004759Z",
     "iopub.status.busy": "2021-06-16T02:52:05.004102Z",
     "iopub.status.idle": "2021-06-16T02:52:05.007042Z",
     "shell.execute_reply": "2021-06-16T02:52:05.006448Z",
     "shell.execute_reply.started": "2021-06-16T01:54:07.826639Z"
    },
    "papermill": {
     "duration": 0.075558,
     "end_time": "2021-06-16T02:52:05.007173",
     "exception": false,
     "start_time": "2021-06-16T02:52:04.931615",
     "status": "completed"
    },
    "tags": []
   },
   "outputs": [],
   "source": [
    "def getUniformedLengthData(DirPath='/kaggle/input/freespokendigitsdataset/recordings',sr=8000,duration=1.0):\n",
    "    N = int(sr*duration)\n",
    "    X_data = np.ndarray(shape=(3000,N), dtype=float)\n",
    "    y = np.ndarray(shape=(3000,1), dtype=int)\n",
    "    count =0;\n",
    "    for dirname, _, filenames in os.walk(DirPath):\n",
    "        for filename in filenames:\n",
    "            full_path = os.path.join(dirname, filename)\n",
    "            label = int(filename.split('_')[0])\n",
    "            X, _ = librosa.load(full_path,sr=sr,duration = 1.0)\n",
    "            if(len(X) < N):\n",
    "                        X = np.pad(X, (0, N - len(X)), constant_values = (0, 0))\n",
    "            X_data[count] = X\n",
    "            y[count] = label\n",
    "            count = count+1\n",
    "    return X_data,y\n",
    "                        "
   ]
  },
  {
   "cell_type": "code",
   "execution_count": 27,
   "id": "animal-veteran",
   "metadata": {
    "execution": {
     "iopub.execute_input": "2021-06-16T02:52:05.137912Z",
     "iopub.status.busy": "2021-06-16T02:52:05.137290Z",
     "iopub.status.idle": "2021-06-16T02:52:07.349194Z",
     "shell.execute_reply": "2021-06-16T02:52:07.348531Z",
     "shell.execute_reply.started": "2021-06-16T01:54:26.425109Z"
    },
    "papermill": {
     "duration": 2.278919,
     "end_time": "2021-06-16T02:52:07.349373",
     "exception": false,
     "start_time": "2021-06-16T02:52:05.070454",
     "status": "completed"
    },
    "tags": []
   },
   "outputs": [
    {
     "data": {
      "text/plain": [
       "((3000, 8000), (3000, 1))"
      ]
     },
     "execution_count": 27,
     "metadata": {},
     "output_type": "execute_result"
    }
   ],
   "source": [
    "X_data_u, y_u = getUniformedLengthData()\n",
    "X_data_u.shape, y_u.shape"
   ]
  },
  {
   "cell_type": "markdown",
   "id": "arctic-mistress",
   "metadata": {
    "papermill": {
     "duration": 0.064338,
     "end_time": "2021-06-16T02:52:07.478127",
     "exception": false,
     "start_time": "2021-06-16T02:52:07.413789",
     "status": "completed"
    },
    "tags": []
   },
   "source": [
    "Above we have 3000 audio files data with 8000 samples each"
   ]
  },
  {
   "cell_type": "code",
   "execution_count": 28,
   "id": "institutional-significance",
   "metadata": {
    "execution": {
     "iopub.execute_input": "2021-06-16T02:52:07.610853Z",
     "iopub.status.busy": "2021-06-16T02:52:07.610147Z",
     "iopub.status.idle": "2021-06-16T02:52:07.612265Z",
     "shell.execute_reply": "2021-06-16T02:52:07.612780Z",
     "shell.execute_reply.started": "2021-06-16T01:56:02.573919Z"
    },
    "papermill": {
     "duration": 0.071135,
     "end_time": "2021-06-16T02:52:07.612944",
     "exception": false,
     "start_time": "2021-06-16T02:52:07.541809",
     "status": "completed"
    },
    "tags": []
   },
   "outputs": [],
   "source": [
    "X_df = pd.DataFrame(X_data_u)\n",
    "y_df = pd.DataFrame(y_u)"
   ]
  },
  {
   "cell_type": "code",
   "execution_count": 29,
   "id": "uniform-general",
   "metadata": {
    "execution": {
     "iopub.execute_input": "2021-06-16T02:52:07.745510Z",
     "iopub.status.busy": "2021-06-16T02:52:07.744516Z",
     "iopub.status.idle": "2021-06-16T02:52:07.750345Z",
     "shell.execute_reply": "2021-06-16T02:52:07.749811Z",
     "shell.execute_reply.started": "2021-06-16T01:56:11.998660Z"
    },
    "papermill": {
     "duration": 0.072812,
     "end_time": "2021-06-16T02:52:07.750476",
     "exception": false,
     "start_time": "2021-06-16T02:52:07.677664",
     "status": "completed"
    },
    "tags": []
   },
   "outputs": [],
   "source": [
    "def splitData(X,y,index):\n",
    "    X1,X2 = X[:index],X[index:]\n",
    "    y1,y2 = y[:index],y[index:]\n",
    "    return (X1,y1),(X2,y2)"
   ]
  },
  {
   "cell_type": "code",
   "execution_count": 30,
   "id": "aware-conflict",
   "metadata": {
    "execution": {
     "iopub.execute_input": "2021-06-16T02:52:07.884715Z",
     "iopub.status.busy": "2021-06-16T02:52:07.884050Z",
     "iopub.status.idle": "2021-06-16T02:52:07.885931Z",
     "shell.execute_reply": "2021-06-16T02:52:07.886418Z",
     "shell.execute_reply.started": "2021-06-16T01:56:16.067962Z"
    },
    "papermill": {
     "duration": 0.072317,
     "end_time": "2021-06-16T02:52:07.886607",
     "exception": false,
     "start_time": "2021-06-16T02:52:07.814290",
     "status": "completed"
    },
    "tags": []
   },
   "outputs": [],
   "source": [
    "(X_train_full, y_train_full), (X_test, y_test) = splitData(X_df,y_df,2000)"
   ]
  },
  {
   "cell_type": "code",
   "execution_count": 31,
   "id": "interpreted-porter",
   "metadata": {
    "execution": {
     "iopub.execute_input": "2021-06-16T02:52:08.018214Z",
     "iopub.status.busy": "2021-06-16T02:52:08.017616Z",
     "iopub.status.idle": "2021-06-16T02:52:08.022817Z",
     "shell.execute_reply": "2021-06-16T02:52:08.022230Z",
     "shell.execute_reply.started": "2021-06-16T01:56:28.448956Z"
    },
    "papermill": {
     "duration": 0.072481,
     "end_time": "2021-06-16T02:52:08.022947",
     "exception": false,
     "start_time": "2021-06-16T02:52:07.950466",
     "status": "completed"
    },
    "tags": []
   },
   "outputs": [
    {
     "data": {
      "text/plain": [
       "((2000, 8000), (2000, 1), (1000, 8000), (1000, 1))"
      ]
     },
     "execution_count": 31,
     "metadata": {},
     "output_type": "execute_result"
    }
   ],
   "source": [
    "X_train_full.shape,y_train_full.shape,X_test.shape,y_test.shape"
   ]
  },
  {
   "cell_type": "code",
   "execution_count": 32,
   "id": "congressional-olive",
   "metadata": {
    "execution": {
     "iopub.execute_input": "2021-06-16T02:52:08.153826Z",
     "iopub.status.busy": "2021-06-16T02:52:08.153205Z",
     "iopub.status.idle": "2021-06-16T02:52:08.157313Z",
     "shell.execute_reply": "2021-06-16T02:52:08.157829Z",
     "shell.execute_reply.started": "2021-06-16T01:56:36.511334Z"
    },
    "papermill": {
     "duration": 0.070706,
     "end_time": "2021-06-16T02:52:08.157983",
     "exception": false,
     "start_time": "2021-06-16T02:52:08.087277",
     "status": "completed"
    },
    "tags": []
   },
   "outputs": [],
   "source": [
    "X_valid, X_train = X_train_full[1500:], X_train_full[:1500]\n",
    "y_valid, y_train = y_train_full[1500:], y_train_full[:1500]"
   ]
  },
  {
   "cell_type": "code",
   "execution_count": 33,
   "id": "arranged-surfing",
   "metadata": {
    "execution": {
     "iopub.execute_input": "2021-06-16T02:52:08.288714Z",
     "iopub.status.busy": "2021-06-16T02:52:08.288115Z",
     "iopub.status.idle": "2021-06-16T02:52:08.294828Z",
     "shell.execute_reply": "2021-06-16T02:52:08.294312Z",
     "shell.execute_reply.started": "2021-06-16T01:57:46.673625Z"
    },
    "papermill": {
     "duration": 0.073344,
     "end_time": "2021-06-16T02:52:08.294958",
     "exception": false,
     "start_time": "2021-06-16T02:52:08.221614",
     "status": "completed"
    },
    "tags": []
   },
   "outputs": [
    {
     "data": {
      "text/plain": [
       "((500, 8000),\n",
       " (1500, 8000),\n",
       " (500, 1),\n",
       " (1500, 1),\n",
       " array([0, 1, 2, 3, 4, 5, 6, 7, 8, 9]))"
      ]
     },
     "execution_count": 33,
     "metadata": {},
     "output_type": "execute_result"
    }
   ],
   "source": [
    "X_valid.shape,X_train.shape,y_valid.shape,y_train.shape, np.unique(y_df)"
   ]
  },
  {
   "cell_type": "markdown",
   "id": "consolidated-capability",
   "metadata": {
    "papermill": {
     "duration": 0.065322,
     "end_time": "2021-06-16T02:52:08.424524",
     "exception": false,
     "start_time": "2021-06-16T02:52:08.359202",
     "status": "completed"
    },
    "tags": []
   },
   "source": [
    "Lets run a dense network on samples of audio on amplitude based"
   ]
  },
  {
   "cell_type": "code",
   "execution_count": 34,
   "id": "polar-abuse",
   "metadata": {
    "execution": {
     "iopub.execute_input": "2021-06-16T02:52:08.560850Z",
     "iopub.status.busy": "2021-06-16T02:52:08.560146Z",
     "iopub.status.idle": "2021-06-16T02:52:14.535890Z",
     "shell.execute_reply": "2021-06-16T02:52:14.536414Z",
     "shell.execute_reply.started": "2021-06-16T01:57:22.685394Z"
    },
    "papermill": {
     "duration": 6.046393,
     "end_time": "2021-06-16T02:52:14.536582",
     "exception": false,
     "start_time": "2021-06-16T02:52:08.490189",
     "status": "completed"
    },
    "tags": []
   },
   "outputs": [],
   "source": [
    "import tensorflow as tf\n",
    "from tensorflow import keras\n",
    "\n",
    "model = keras.models.Sequential([\n",
    "    #keras.layers.Flatten(input_shape=[28, 28]),\n",
    "    keras.layers.Dense(300, kernel_initializer=\"he_normal\"),\n",
    "    keras.layers.LeakyReLU(),\n",
    "    keras.layers.Dense(100, kernel_initializer=\"he_normal\"),\n",
    "    keras.layers.LeakyReLU(),\n",
    "    keras.layers.Dense(10, activation=\"softmax\")\n",
    "])"
   ]
  },
  {
   "cell_type": "code",
   "execution_count": 35,
   "id": "indirect-disposal",
   "metadata": {
    "execution": {
     "iopub.execute_input": "2021-06-16T02:52:14.677967Z",
     "iopub.status.busy": "2021-06-16T02:52:14.674856Z",
     "iopub.status.idle": "2021-06-16T02:52:14.688363Z",
     "shell.execute_reply": "2021-06-16T02:52:14.687789Z",
     "shell.execute_reply.started": "2021-06-16T01:57:57.946913Z"
    },
    "papermill": {
     "duration": 0.087104,
     "end_time": "2021-06-16T02:52:14.688501",
     "exception": false,
     "start_time": "2021-06-16T02:52:14.601397",
     "status": "completed"
    },
    "tags": []
   },
   "outputs": [],
   "source": [
    "model.compile(loss=\"sparse_categorical_crossentropy\",\n",
    "              optimizer=keras.optimizers.SGD(lr=1e-1),\n",
    "              metrics=[\"accuracy\"])"
   ]
  },
  {
   "cell_type": "code",
   "execution_count": 36,
   "id": "enabling-framing",
   "metadata": {
    "execution": {
     "iopub.execute_input": "2021-06-16T02:52:14.822540Z",
     "iopub.status.busy": "2021-06-16T02:52:14.821876Z",
     "iopub.status.idle": "2021-06-16T02:52:26.428613Z",
     "shell.execute_reply": "2021-06-16T02:52:26.428053Z",
     "shell.execute_reply.started": "2021-06-16T01:58:07.424258Z"
    },
    "papermill": {
     "duration": 11.675887,
     "end_time": "2021-06-16T02:52:26.428759",
     "exception": false,
     "start_time": "2021-06-16T02:52:14.752872",
     "status": "completed"
    },
    "tags": []
   },
   "outputs": [
    {
     "name": "stdout",
     "output_type": "stream",
     "text": [
      "Epoch 1/20\n",
      "47/47 [==============================] - 2s 26ms/step - loss: 2.3053 - accuracy: 0.0842 - val_loss: 2.3078 - val_accuracy: 0.1160\n",
      "Epoch 2/20\n",
      "47/47 [==============================] - 0s 11ms/step - loss: 2.2628 - accuracy: 0.2155 - val_loss: 2.3151 - val_accuracy: 0.1020\n",
      "Epoch 3/20\n",
      "47/47 [==============================] - 1s 11ms/step - loss: 2.2234 - accuracy: 0.3006 - val_loss: 2.3128 - val_accuracy: 0.1180\n",
      "Epoch 4/20\n",
      "47/47 [==============================] - 1s 11ms/step - loss: 2.1550 - accuracy: 0.3707 - val_loss: 2.3198 - val_accuracy: 0.1200\n",
      "Epoch 5/20\n",
      "47/47 [==============================] - 1s 11ms/step - loss: 2.0974 - accuracy: 0.4103 - val_loss: 2.3213 - val_accuracy: 0.1280\n",
      "Epoch 6/20\n",
      "47/47 [==============================] - 1s 11ms/step - loss: 1.9882 - accuracy: 0.4760 - val_loss: 2.3154 - val_accuracy: 0.1300\n",
      "Epoch 7/20\n",
      "47/47 [==============================] - 1s 11ms/step - loss: 1.8840 - accuracy: 0.5123 - val_loss: 2.3606 - val_accuracy: 0.1340\n",
      "Epoch 8/20\n",
      "47/47 [==============================] - 1s 11ms/step - loss: 1.7977 - accuracy: 0.5087 - val_loss: 2.3804 - val_accuracy: 0.1540\n",
      "Epoch 9/20\n",
      "47/47 [==============================] - 1s 11ms/step - loss: 1.6418 - accuracy: 0.5459 - val_loss: 2.4401 - val_accuracy: 0.1440\n",
      "Epoch 10/20\n",
      "47/47 [==============================] - 1s 11ms/step - loss: 1.5413 - accuracy: 0.5694 - val_loss: 2.4857 - val_accuracy: 0.1380\n",
      "Epoch 11/20\n",
      "47/47 [==============================] - 1s 11ms/step - loss: 1.3897 - accuracy: 0.6122 - val_loss: 2.6013 - val_accuracy: 0.1420\n",
      "Epoch 12/20\n",
      "47/47 [==============================] - 1s 11ms/step - loss: 1.3173 - accuracy: 0.6055 - val_loss: 2.6770 - val_accuracy: 0.1260\n",
      "Epoch 13/20\n",
      "47/47 [==============================] - 1s 11ms/step - loss: 1.2094 - accuracy: 0.6405 - val_loss: 2.7206 - val_accuracy: 0.1440\n",
      "Epoch 14/20\n",
      "47/47 [==============================] - 1s 11ms/step - loss: 1.1043 - accuracy: 0.6837 - val_loss: 2.8326 - val_accuracy: 0.1240\n",
      "Epoch 15/20\n",
      "47/47 [==============================] - 1s 11ms/step - loss: 1.0350 - accuracy: 0.7011 - val_loss: 2.9431 - val_accuracy: 0.1360\n",
      "Epoch 16/20\n",
      "47/47 [==============================] - 1s 11ms/step - loss: 0.9673 - accuracy: 0.7322 - val_loss: 3.0227 - val_accuracy: 0.1260\n",
      "Epoch 17/20\n",
      "47/47 [==============================] - 0s 10ms/step - loss: 0.8999 - accuracy: 0.7257 - val_loss: 3.0489 - val_accuracy: 0.1540\n",
      "Epoch 18/20\n",
      "47/47 [==============================] - 0s 10ms/step - loss: 0.8970 - accuracy: 0.7197 - val_loss: 3.1596 - val_accuracy: 0.1420\n",
      "Epoch 19/20\n",
      "47/47 [==============================] - 0s 11ms/step - loss: 0.8588 - accuracy: 0.7345 - val_loss: 3.2165 - val_accuracy: 0.1460\n",
      "Epoch 20/20\n",
      "47/47 [==============================] - 0s 11ms/step - loss: 0.7815 - accuracy: 0.7529 - val_loss: 3.3645 - val_accuracy: 0.1340\n"
     ]
    }
   ],
   "source": [
    "history = model.fit(X_train, y_train, epochs=20,\n",
    "                    validation_data=(X_valid, y_valid))"
   ]
  },
  {
   "cell_type": "markdown",
   "id": "normal-malta",
   "metadata": {
    "papermill": {
     "duration": 0.114552,
     "end_time": "2021-06-16T02:52:26.658688",
     "exception": false,
     "start_time": "2021-06-16T02:52:26.544136",
     "status": "completed"
    },
    "tags": []
   },
   "source": [
    "Prepare MFCC data to feed in dense network"
   ]
  },
  {
   "cell_type": "code",
   "execution_count": 37,
   "id": "instant-edition",
   "metadata": {
    "execution": {
     "iopub.execute_input": "2021-06-16T02:52:26.894399Z",
     "iopub.status.busy": "2021-06-16T02:52:26.893422Z",
     "iopub.status.idle": "2021-06-16T02:52:26.896448Z",
     "shell.execute_reply": "2021-06-16T02:52:26.895807Z",
     "shell.execute_reply.started": "2021-06-16T01:59:23.254072Z"
    },
    "papermill": {
     "duration": 0.124048,
     "end_time": "2021-06-16T02:52:26.896589",
     "exception": false,
     "start_time": "2021-06-16T02:52:26.772541",
     "status": "completed"
    },
    "tags": []
   },
   "outputs": [],
   "source": [
    "def getMFCC(y):\n",
    "    S = librosa.feature.melspectrogram(y=y, sr=8000, n_fft=2048, hop_length=512, n_mels=128)\n",
    "    return librosa.feature.mfcc(S=librosa.power_to_db(S))"
   ]
  },
  {
   "cell_type": "code",
   "execution_count": 38,
   "id": "spare-bookmark",
   "metadata": {
    "execution": {
     "iopub.execute_input": "2021-06-16T02:52:27.132642Z",
     "iopub.status.busy": "2021-06-16T02:52:27.131922Z",
     "iopub.status.idle": "2021-06-16T02:52:27.136517Z",
     "shell.execute_reply": "2021-06-16T02:52:27.135895Z",
     "shell.execute_reply.started": "2021-06-16T02:01:08.547459Z"
    },
    "papermill": {
     "duration": 0.124696,
     "end_time": "2021-06-16T02:52:27.136661",
     "exception": false,
     "start_time": "2021-06-16T02:52:27.011965",
     "status": "completed"
    },
    "tags": []
   },
   "outputs": [
    {
     "data": {
      "text/plain": [
       "((1500, 8000), (8000,))"
      ]
     },
     "execution_count": 38,
     "metadata": {},
     "output_type": "execute_result"
    }
   ],
   "source": [
    "X_train_np= X_train.to_numpy()\n",
    "X_train_np.shape,X_train_np[0].shape"
   ]
  },
  {
   "cell_type": "code",
   "execution_count": 39,
   "id": "listed-monster",
   "metadata": {
    "execution": {
     "iopub.execute_input": "2021-06-16T02:52:27.371126Z",
     "iopub.status.busy": "2021-06-16T02:52:27.370552Z",
     "iopub.status.idle": "2021-06-16T02:52:27.388865Z",
     "shell.execute_reply": "2021-06-16T02:52:27.389732Z",
     "shell.execute_reply.started": "2021-06-16T02:02:34.452697Z"
    },
    "papermill": {
     "duration": 0.136545,
     "end_time": "2021-06-16T02:52:27.390016",
     "exception": false,
     "start_time": "2021-06-16T02:52:27.253471",
     "status": "completed"
    },
    "tags": []
   },
   "outputs": [
    {
     "data": {
      "text/plain": [
       "(20, 16)"
      ]
     },
     "execution_count": 39,
     "metadata": {},
     "output_type": "execute_result"
    }
   ],
   "source": [
    "# X_train_np[0] contains 8000 samples of audio, lets convert it into mfcc and see data size\n",
    "mfcc= getMFCC(X_train_np[0])\n",
    "mfcc.shape"
   ]
  },
  {
   "cell_type": "markdown",
   "id": "linear-creativity",
   "metadata": {
    "papermill": {
     "duration": 0.11682,
     "end_time": "2021-06-16T02:52:27.692968",
     "exception": false,
     "start_time": "2021-06-16T02:52:27.576148",
     "status": "completed"
    },
    "tags": []
   },
   "source": [
    "As above, after converting to MFCC will get 2-D data of (20,16) from array of 8000 values of samples"
   ]
  },
  {
   "cell_type": "code",
   "execution_count": 40,
   "id": "unable-fusion",
   "metadata": {
    "execution": {
     "iopub.execute_input": "2021-06-16T02:52:27.930106Z",
     "iopub.status.busy": "2021-06-16T02:52:27.929016Z",
     "iopub.status.idle": "2021-06-16T02:52:27.931157Z",
     "shell.execute_reply": "2021-06-16T02:52:27.931794Z",
     "shell.execute_reply.started": "2021-06-16T02:03:49.362921Z"
    },
    "papermill": {
     "duration": 0.123779,
     "end_time": "2021-06-16T02:52:27.931956",
     "exception": false,
     "start_time": "2021-06-16T02:52:27.808177",
     "status": "completed"
    },
    "tags": []
   },
   "outputs": [],
   "source": [
    "def convertToMFCCData(X):\n",
    "    mfccData = np.ndarray(shape=(len(X),20,16), dtype=float)\n",
    "    count = 0\n",
    "    for i in range(0,len(X)):\n",
    "        y = X[i]\n",
    "        mfcc = getMFCC(y)\n",
    "        mfccData[count] = mfcc\n",
    "        count = count +1\n",
    "    return mfccData\n",
    "    \n",
    "\n",
    "    "
   ]
  },
  {
   "cell_type": "code",
   "execution_count": 41,
   "id": "civil-magnet",
   "metadata": {
    "execution": {
     "iopub.execute_input": "2021-06-16T02:52:28.170053Z",
     "iopub.status.busy": "2021-06-16T02:52:28.169067Z",
     "iopub.status.idle": "2021-06-16T02:52:40.173031Z",
     "shell.execute_reply": "2021-06-16T02:52:40.173836Z",
     "shell.execute_reply.started": "2021-06-16T02:04:00.438335Z"
    },
    "papermill": {
     "duration": 12.124265,
     "end_time": "2021-06-16T02:52:40.174106",
     "exception": false,
     "start_time": "2021-06-16T02:52:28.049841",
     "status": "completed"
    },
    "tags": []
   },
   "outputs": [
    {
     "data": {
      "text/plain": [
       "(1500, 20, 16)"
      ]
     },
     "execution_count": 41,
     "metadata": {},
     "output_type": "execute_result"
    }
   ],
   "source": [
    "X_train_mfccs = convertToMFCCData(X_train_np)\n",
    "X_train_mfccs.shape"
   ]
  },
  {
   "cell_type": "code",
   "execution_count": 42,
   "id": "cardiac-symphony",
   "metadata": {
    "execution": {
     "iopub.execute_input": "2021-06-16T02:52:40.463917Z",
     "iopub.status.busy": "2021-06-16T02:52:40.462921Z",
     "iopub.status.idle": "2021-06-16T02:52:44.333881Z",
     "shell.execute_reply": "2021-06-16T02:52:44.334866Z",
     "shell.execute_reply.started": "2021-06-16T02:04:19.432398Z"
    },
    "papermill": {
     "duration": 3.994773,
     "end_time": "2021-06-16T02:52:44.335146",
     "exception": false,
     "start_time": "2021-06-16T02:52:40.340373",
     "status": "completed"
    },
    "tags": []
   },
   "outputs": [
    {
     "data": {
      "text/plain": [
       "(500, 20, 16)"
      ]
     },
     "execution_count": 42,
     "metadata": {},
     "output_type": "execute_result"
    }
   ],
   "source": [
    "X_valid_np = X_valid.to_numpy()\n",
    "X_valid_mfccs = convertToMFCCData(X_valid_np)\n",
    "X_valid_mfccs.shape"
   ]
  },
  {
   "cell_type": "markdown",
   "id": "friendly-traffic",
   "metadata": {
    "papermill": {
     "duration": 0.115053,
     "end_time": "2021-06-16T02:52:44.630450",
     "exception": false,
     "start_time": "2021-06-16T02:52:44.515397",
     "status": "completed"
    },
    "tags": []
   },
   "source": [
    "Lets create a new model to be trained for MFCC data"
   ]
  },
  {
   "cell_type": "code",
   "execution_count": 43,
   "id": "medieval-fluid",
   "metadata": {
    "execution": {
     "iopub.execute_input": "2021-06-16T02:52:44.872436Z",
     "iopub.status.busy": "2021-06-16T02:52:44.871459Z",
     "iopub.status.idle": "2021-06-16T02:52:44.917521Z",
     "shell.execute_reply": "2021-06-16T02:52:44.918104Z",
     "shell.execute_reply.started": "2021-06-16T02:05:09.652012Z"
    },
    "papermill": {
     "duration": 0.173055,
     "end_time": "2021-06-16T02:52:44.918301",
     "exception": false,
     "start_time": "2021-06-16T02:52:44.745246",
     "status": "completed"
    },
    "tags": []
   },
   "outputs": [],
   "source": [
    "modelMFCC = keras.models.Sequential([\n",
    "    keras.layers.Flatten(input_shape=[20, 16]),\n",
    "    keras.layers.Dense(300, kernel_initializer=\"he_normal\"),\n",
    "    keras.layers.LeakyReLU(),\n",
    "     keras.layers.Dense(200, kernel_initializer=\"he_normal\"),\n",
    "    keras.layers.LeakyReLU(),\n",
    "    keras.layers.Dense(100, kernel_initializer=\"he_normal\"),\n",
    "    keras.layers.LeakyReLU(),\n",
    "    keras.layers.Dense(10, activation=\"softmax\")\n",
    "])"
   ]
  },
  {
   "cell_type": "code",
   "execution_count": 44,
   "id": "neutral-watson",
   "metadata": {
    "execution": {
     "iopub.execute_input": "2021-06-16T02:52:45.160681Z",
     "iopub.status.busy": "2021-06-16T02:52:45.160003Z",
     "iopub.status.idle": "2021-06-16T02:52:45.166498Z",
     "shell.execute_reply": "2021-06-16T02:52:45.165967Z",
     "shell.execute_reply.started": "2021-06-16T02:05:13.867684Z"
    },
    "papermill": {
     "duration": 0.132621,
     "end_time": "2021-06-16T02:52:45.166655",
     "exception": false,
     "start_time": "2021-06-16T02:52:45.034034",
     "status": "completed"
    },
    "tags": []
   },
   "outputs": [],
   "source": [
    "modelMFCC.compile(loss=\"sparse_categorical_crossentropy\",\n",
    "              optimizer=keras.optimizers.SGD(lr=1e-4),\n",
    "              metrics=[\"accuracy\"])"
   ]
  },
  {
   "cell_type": "code",
   "execution_count": 45,
   "id": "material-rates",
   "metadata": {
    "execution": {
     "iopub.execute_input": "2021-06-16T02:52:45.403321Z",
     "iopub.status.busy": "2021-06-16T02:52:45.402581Z",
     "iopub.status.idle": "2021-06-16T02:53:06.255646Z",
     "shell.execute_reply": "2021-06-16T02:53:06.255062Z",
     "shell.execute_reply.started": "2021-06-16T02:05:20.572233Z"
    },
    "papermill": {
     "duration": 20.973892,
     "end_time": "2021-06-16T02:53:06.255797",
     "exception": false,
     "start_time": "2021-06-16T02:52:45.281905",
     "status": "completed"
    },
    "tags": []
   },
   "outputs": [
    {
     "name": "stdout",
     "output_type": "stream",
     "text": [
      "Epoch 1/100\n",
      "47/47 [==============================] - 1s 8ms/step - loss: 204.4030 - accuracy: 0.1377 - val_loss: 21.1481 - val_accuracy: 0.1700\n",
      "Epoch 2/100\n",
      "47/47 [==============================] - 0s 4ms/step - loss: 14.1490 - accuracy: 0.2640 - val_loss: 9.7486 - val_accuracy: 0.2640\n",
      "Epoch 3/100\n",
      "47/47 [==============================] - 0s 4ms/step - loss: 8.1000 - accuracy: 0.3537 - val_loss: 5.0376 - val_accuracy: 0.4020\n",
      "Epoch 4/100\n",
      "47/47 [==============================] - 0s 4ms/step - loss: 6.5122 - accuracy: 0.3703 - val_loss: 5.8784 - val_accuracy: 0.3440\n",
      "Epoch 5/100\n",
      "47/47 [==============================] - 0s 4ms/step - loss: 4.5088 - accuracy: 0.4446 - val_loss: 7.8121 - val_accuracy: 0.3440\n",
      "Epoch 6/100\n",
      "47/47 [==============================] - 0s 4ms/step - loss: 5.7935 - accuracy: 0.4082 - val_loss: 4.9134 - val_accuracy: 0.4440\n",
      "Epoch 7/100\n",
      "47/47 [==============================] - 0s 4ms/step - loss: 4.1225 - accuracy: 0.4498 - val_loss: 2.2203 - val_accuracy: 0.5900\n",
      "Epoch 8/100\n",
      "47/47 [==============================] - 0s 5ms/step - loss: 2.7896 - accuracy: 0.5762 - val_loss: 2.7276 - val_accuracy: 0.5400\n",
      "Epoch 9/100\n",
      "47/47 [==============================] - 0s 4ms/step - loss: 2.7694 - accuracy: 0.5325 - val_loss: 3.5968 - val_accuracy: 0.5140\n",
      "Epoch 10/100\n",
      "47/47 [==============================] - 0s 4ms/step - loss: 2.2370 - accuracy: 0.6084 - val_loss: 1.9411 - val_accuracy: 0.6180\n",
      "Epoch 11/100\n",
      "47/47 [==============================] - 0s 4ms/step - loss: 1.7684 - accuracy: 0.6501 - val_loss: 2.1757 - val_accuracy: 0.6520\n",
      "Epoch 12/100\n",
      "47/47 [==============================] - 0s 4ms/step - loss: 1.6143 - accuracy: 0.6885 - val_loss: 1.7707 - val_accuracy: 0.6860\n",
      "Epoch 13/100\n",
      "47/47 [==============================] - 0s 4ms/step - loss: 1.5688 - accuracy: 0.6818 - val_loss: 1.7274 - val_accuracy: 0.6760\n",
      "Epoch 14/100\n",
      "47/47 [==============================] - 0s 4ms/step - loss: 1.1578 - accuracy: 0.7352 - val_loss: 4.7965 - val_accuracy: 0.4140\n",
      "Epoch 15/100\n",
      "47/47 [==============================] - 0s 4ms/step - loss: 2.7792 - accuracy: 0.5969 - val_loss: 2.5273 - val_accuracy: 0.5860\n",
      "Epoch 16/100\n",
      "47/47 [==============================] - 0s 4ms/step - loss: 1.1560 - accuracy: 0.7380 - val_loss: 1.5824 - val_accuracy: 0.7020\n",
      "Epoch 17/100\n",
      "47/47 [==============================] - 0s 4ms/step - loss: 1.0159 - accuracy: 0.7547 - val_loss: 3.4782 - val_accuracy: 0.5080\n",
      "Epoch 18/100\n",
      "47/47 [==============================] - 0s 5ms/step - loss: 1.3362 - accuracy: 0.7085 - val_loss: 1.3298 - val_accuracy: 0.7220\n",
      "Epoch 19/100\n",
      "47/47 [==============================] - 0s 4ms/step - loss: 0.8847 - accuracy: 0.7732 - val_loss: 1.0648 - val_accuracy: 0.7840\n",
      "Epoch 20/100\n",
      "47/47 [==============================] - 0s 4ms/step - loss: 0.6927 - accuracy: 0.8131 - val_loss: 1.0761 - val_accuracy: 0.7960\n",
      "Epoch 21/100\n",
      "47/47 [==============================] - 0s 4ms/step - loss: 0.7321 - accuracy: 0.8150 - val_loss: 1.0591 - val_accuracy: 0.7600\n",
      "Epoch 22/100\n",
      "47/47 [==============================] - 0s 5ms/step - loss: 0.9280 - accuracy: 0.7772 - val_loss: 1.1682 - val_accuracy: 0.7520\n",
      "Epoch 23/100\n",
      "47/47 [==============================] - 0s 5ms/step - loss: 0.7150 - accuracy: 0.7918 - val_loss: 1.2583 - val_accuracy: 0.7400\n",
      "Epoch 24/100\n",
      "47/47 [==============================] - 0s 4ms/step - loss: 0.5851 - accuracy: 0.8411 - val_loss: 0.9123 - val_accuracy: 0.8060\n",
      "Epoch 25/100\n",
      "47/47 [==============================] - 0s 5ms/step - loss: 0.6107 - accuracy: 0.8336 - val_loss: 0.8954 - val_accuracy: 0.8120\n",
      "Epoch 26/100\n",
      "47/47 [==============================] - 0s 4ms/step - loss: 0.5325 - accuracy: 0.8346 - val_loss: 0.8957 - val_accuracy: 0.8100\n",
      "Epoch 27/100\n",
      "47/47 [==============================] - 0s 4ms/step - loss: 0.4637 - accuracy: 0.8600 - val_loss: 1.0567 - val_accuracy: 0.7760\n",
      "Epoch 28/100\n",
      "47/47 [==============================] - 0s 4ms/step - loss: 0.4009 - accuracy: 0.8889 - val_loss: 0.8771 - val_accuracy: 0.7960\n",
      "Epoch 29/100\n",
      "47/47 [==============================] - 0s 4ms/step - loss: 0.4583 - accuracy: 0.8809 - val_loss: 0.8819 - val_accuracy: 0.8080\n",
      "Epoch 30/100\n",
      "47/47 [==============================] - 0s 4ms/step - loss: 0.3989 - accuracy: 0.8772 - val_loss: 0.8711 - val_accuracy: 0.8240\n",
      "Epoch 31/100\n",
      "47/47 [==============================] - 0s 4ms/step - loss: 0.3857 - accuracy: 0.8865 - val_loss: 0.8012 - val_accuracy: 0.8300\n",
      "Epoch 32/100\n",
      "47/47 [==============================] - 0s 4ms/step - loss: 0.4274 - accuracy: 0.8768 - val_loss: 0.8823 - val_accuracy: 0.7800\n",
      "Epoch 33/100\n",
      "47/47 [==============================] - 0s 4ms/step - loss: 0.3544 - accuracy: 0.8874 - val_loss: 0.9991 - val_accuracy: 0.7840\n",
      "Epoch 34/100\n",
      "47/47 [==============================] - 0s 4ms/step - loss: 0.4519 - accuracy: 0.8680 - val_loss: 0.9046 - val_accuracy: 0.8100\n",
      "Epoch 35/100\n",
      "47/47 [==============================] - 0s 4ms/step - loss: 0.2903 - accuracy: 0.9108 - val_loss: 0.7304 - val_accuracy: 0.8520\n",
      "Epoch 36/100\n",
      "47/47 [==============================] - 0s 4ms/step - loss: 0.3189 - accuracy: 0.9014 - val_loss: 0.8733 - val_accuracy: 0.7960\n",
      "Epoch 37/100\n",
      "47/47 [==============================] - 0s 4ms/step - loss: 0.2645 - accuracy: 0.9170 - val_loss: 0.9215 - val_accuracy: 0.8240\n",
      "Epoch 38/100\n",
      "47/47 [==============================] - 0s 4ms/step - loss: 0.3151 - accuracy: 0.8965 - val_loss: 0.7212 - val_accuracy: 0.8560\n",
      "Epoch 39/100\n",
      "47/47 [==============================] - 0s 5ms/step - loss: 0.2375 - accuracy: 0.9236 - val_loss: 0.8417 - val_accuracy: 0.8200\n",
      "Epoch 40/100\n",
      "47/47 [==============================] - 0s 4ms/step - loss: 0.3319 - accuracy: 0.9068 - val_loss: 0.6942 - val_accuracy: 0.8580\n",
      "Epoch 41/100\n",
      "47/47 [==============================] - 0s 4ms/step - loss: 0.2431 - accuracy: 0.9309 - val_loss: 0.7015 - val_accuracy: 0.8500\n",
      "Epoch 42/100\n",
      "47/47 [==============================] - 0s 5ms/step - loss: 0.2841 - accuracy: 0.9045 - val_loss: 0.8589 - val_accuracy: 0.8020\n",
      "Epoch 43/100\n",
      "47/47 [==============================] - 0s 4ms/step - loss: 0.2213 - accuracy: 0.9271 - val_loss: 0.7194 - val_accuracy: 0.8420\n",
      "Epoch 44/100\n",
      "47/47 [==============================] - 0s 4ms/step - loss: 0.2492 - accuracy: 0.9218 - val_loss: 0.7097 - val_accuracy: 0.8700\n",
      "Epoch 45/100\n",
      "47/47 [==============================] - 0s 4ms/step - loss: 0.2048 - accuracy: 0.9450 - val_loss: 0.6913 - val_accuracy: 0.8680\n",
      "Epoch 46/100\n",
      "47/47 [==============================] - 0s 4ms/step - loss: 0.2817 - accuracy: 0.9257 - val_loss: 0.6545 - val_accuracy: 0.8800\n",
      "Epoch 47/100\n",
      "47/47 [==============================] - 0s 4ms/step - loss: 0.2165 - accuracy: 0.9337 - val_loss: 0.6487 - val_accuracy: 0.8760\n",
      "Epoch 48/100\n",
      "47/47 [==============================] - 0s 4ms/step - loss: 0.1882 - accuracy: 0.9442 - val_loss: 0.7846 - val_accuracy: 0.8440\n",
      "Epoch 49/100\n",
      "47/47 [==============================] - 0s 4ms/step - loss: 0.2033 - accuracy: 0.9320 - val_loss: 0.6242 - val_accuracy: 0.8660\n",
      "Epoch 50/100\n",
      "47/47 [==============================] - 0s 4ms/step - loss: 0.2068 - accuracy: 0.9378 - val_loss: 0.6247 - val_accuracy: 0.8740\n",
      "Epoch 51/100\n",
      "47/47 [==============================] - 0s 4ms/step - loss: 0.2548 - accuracy: 0.9295 - val_loss: 0.7273 - val_accuracy: 0.8600\n",
      "Epoch 52/100\n",
      "47/47 [==============================] - 0s 4ms/step - loss: 0.1696 - accuracy: 0.9432 - val_loss: 1.2282 - val_accuracy: 0.7640\n",
      "Epoch 53/100\n",
      "47/47 [==============================] - 0s 4ms/step - loss: 0.2433 - accuracy: 0.9225 - val_loss: 0.6515 - val_accuracy: 0.8600\n",
      "Epoch 54/100\n",
      "47/47 [==============================] - 0s 4ms/step - loss: 0.1490 - accuracy: 0.9469 - val_loss: 0.6972 - val_accuracy: 0.8660\n",
      "Epoch 55/100\n",
      "47/47 [==============================] - 0s 4ms/step - loss: 0.1331 - accuracy: 0.9650 - val_loss: 0.6355 - val_accuracy: 0.8700\n",
      "Epoch 56/100\n",
      "47/47 [==============================] - 0s 4ms/step - loss: 0.1616 - accuracy: 0.9582 - val_loss: 0.6655 - val_accuracy: 0.8560\n",
      "Epoch 57/100\n",
      "47/47 [==============================] - 0s 4ms/step - loss: 0.1488 - accuracy: 0.9565 - val_loss: 0.5826 - val_accuracy: 0.8940\n",
      "Epoch 58/100\n",
      "47/47 [==============================] - 0s 4ms/step - loss: 0.1652 - accuracy: 0.9429 - val_loss: 0.6718 - val_accuracy: 0.8480\n",
      "Epoch 59/100\n",
      "47/47 [==============================] - 0s 4ms/step - loss: 0.1137 - accuracy: 0.9725 - val_loss: 0.6413 - val_accuracy: 0.8800\n",
      "Epoch 60/100\n",
      "47/47 [==============================] - 0s 4ms/step - loss: 0.1445 - accuracy: 0.9592 - val_loss: 0.6243 - val_accuracy: 0.8780\n",
      "Epoch 61/100\n",
      "47/47 [==============================] - 0s 4ms/step - loss: 0.1599 - accuracy: 0.9480 - val_loss: 0.6087 - val_accuracy: 0.8840\n",
      "Epoch 62/100\n",
      "47/47 [==============================] - 0s 4ms/step - loss: 0.1223 - accuracy: 0.9592 - val_loss: 0.6875 - val_accuracy: 0.8620\n",
      "Epoch 63/100\n",
      "47/47 [==============================] - 0s 4ms/step - loss: 0.1118 - accuracy: 0.9638 - val_loss: 0.6357 - val_accuracy: 0.8740\n",
      "Epoch 64/100\n",
      "47/47 [==============================] - 0s 4ms/step - loss: 0.0927 - accuracy: 0.9692 - val_loss: 0.5900 - val_accuracy: 0.8900\n",
      "Epoch 65/100\n",
      "47/47 [==============================] - 0s 4ms/step - loss: 0.1048 - accuracy: 0.9592 - val_loss: 0.6683 - val_accuracy: 0.8740\n",
      "Epoch 66/100\n",
      "47/47 [==============================] - 0s 4ms/step - loss: 0.1510 - accuracy: 0.9433 - val_loss: 0.6107 - val_accuracy: 0.8780\n",
      "Epoch 67/100\n",
      "47/47 [==============================] - 0s 4ms/step - loss: 0.1225 - accuracy: 0.9647 - val_loss: 0.6263 - val_accuracy: 0.8860\n",
      "Epoch 68/100\n",
      "47/47 [==============================] - 0s 4ms/step - loss: 0.1007 - accuracy: 0.9713 - val_loss: 0.5756 - val_accuracy: 0.8840\n",
      "Epoch 69/100\n",
      "47/47 [==============================] - 0s 4ms/step - loss: 0.1066 - accuracy: 0.9663 - val_loss: 0.6702 - val_accuracy: 0.8680\n",
      "Epoch 70/100\n",
      "47/47 [==============================] - 0s 4ms/step - loss: 0.1597 - accuracy: 0.9532 - val_loss: 0.6476 - val_accuracy: 0.8600\n",
      "Epoch 71/100\n",
      "47/47 [==============================] - 0s 4ms/step - loss: 0.1160 - accuracy: 0.9590 - val_loss: 0.5705 - val_accuracy: 0.8980\n",
      "Epoch 72/100\n",
      "47/47 [==============================] - 0s 5ms/step - loss: 0.1683 - accuracy: 0.9578 - val_loss: 0.6265 - val_accuracy: 0.8800\n",
      "Epoch 73/100\n",
      "47/47 [==============================] - 0s 4ms/step - loss: 0.1274 - accuracy: 0.9654 - val_loss: 0.6102 - val_accuracy: 0.8820\n",
      "Epoch 74/100\n",
      "47/47 [==============================] - 0s 4ms/step - loss: 0.1091 - accuracy: 0.9684 - val_loss: 0.5663 - val_accuracy: 0.9040\n",
      "Epoch 75/100\n",
      "47/47 [==============================] - 0s 4ms/step - loss: 0.1049 - accuracy: 0.9594 - val_loss: 0.7412 - val_accuracy: 0.8360\n",
      "Epoch 76/100\n",
      "47/47 [==============================] - 0s 4ms/step - loss: 0.1290 - accuracy: 0.9618 - val_loss: 0.6144 - val_accuracy: 0.8860\n",
      "Epoch 77/100\n",
      "47/47 [==============================] - 0s 4ms/step - loss: 0.0894 - accuracy: 0.9748 - val_loss: 0.5781 - val_accuracy: 0.9020\n",
      "Epoch 78/100\n",
      "47/47 [==============================] - 0s 4ms/step - loss: 0.0795 - accuracy: 0.9819 - val_loss: 0.5896 - val_accuracy: 0.9060\n",
      "Epoch 79/100\n",
      "47/47 [==============================] - 0s 4ms/step - loss: 0.0812 - accuracy: 0.9772 - val_loss: 0.5664 - val_accuracy: 0.8940\n",
      "Epoch 80/100\n",
      "47/47 [==============================] - 0s 4ms/step - loss: 0.1004 - accuracy: 0.9706 - val_loss: 0.5733 - val_accuracy: 0.8920\n",
      "Epoch 81/100\n",
      "47/47 [==============================] - 0s 4ms/step - loss: 0.0900 - accuracy: 0.9759 - val_loss: 0.6355 - val_accuracy: 0.8620\n",
      "Epoch 82/100\n",
      "47/47 [==============================] - 0s 4ms/step - loss: 0.0951 - accuracy: 0.9701 - val_loss: 0.6230 - val_accuracy: 0.8980\n",
      "Epoch 83/100\n",
      "47/47 [==============================] - 0s 4ms/step - loss: 0.0958 - accuracy: 0.9760 - val_loss: 0.5785 - val_accuracy: 0.9080\n",
      "Epoch 84/100\n",
      "47/47 [==============================] - 0s 4ms/step - loss: 0.0786 - accuracy: 0.9819 - val_loss: 0.5981 - val_accuracy: 0.8880\n",
      "Epoch 85/100\n",
      "47/47 [==============================] - 0s 4ms/step - loss: 0.0705 - accuracy: 0.9865 - val_loss: 0.5653 - val_accuracy: 0.8860\n",
      "Epoch 86/100\n",
      "47/47 [==============================] - 0s 4ms/step - loss: 0.0943 - accuracy: 0.9703 - val_loss: 0.5856 - val_accuracy: 0.8860\n",
      "Epoch 87/100\n",
      "47/47 [==============================] - 0s 4ms/step - loss: 0.0671 - accuracy: 0.9839 - val_loss: 0.5622 - val_accuracy: 0.8920\n",
      "Epoch 88/100\n",
      "47/47 [==============================] - 0s 4ms/step - loss: 0.0815 - accuracy: 0.9814 - val_loss: 0.5419 - val_accuracy: 0.9040\n",
      "Epoch 89/100\n",
      "47/47 [==============================] - 0s 4ms/step - loss: 0.1025 - accuracy: 0.9646 - val_loss: 0.5657 - val_accuracy: 0.8920\n",
      "Epoch 90/100\n",
      "47/47 [==============================] - 0s 4ms/step - loss: 0.0735 - accuracy: 0.9841 - val_loss: 0.5498 - val_accuracy: 0.9020\n",
      "Epoch 91/100\n",
      "47/47 [==============================] - 0s 4ms/step - loss: 0.0688 - accuracy: 0.9809 - val_loss: 0.5448 - val_accuracy: 0.9120\n",
      "Epoch 92/100\n",
      "47/47 [==============================] - 0s 4ms/step - loss: 0.0576 - accuracy: 0.9880 - val_loss: 0.6046 - val_accuracy: 0.8880\n",
      "Epoch 93/100\n",
      "47/47 [==============================] - 0s 4ms/step - loss: 0.0626 - accuracy: 0.9878 - val_loss: 0.5426 - val_accuracy: 0.9100\n",
      "Epoch 94/100\n",
      "47/47 [==============================] - 0s 4ms/step - loss: 0.0513 - accuracy: 0.9918 - val_loss: 0.5733 - val_accuracy: 0.9060\n",
      "Epoch 95/100\n",
      "47/47 [==============================] - 0s 4ms/step - loss: 0.0606 - accuracy: 0.9873 - val_loss: 0.5564 - val_accuracy: 0.8980\n",
      "Epoch 96/100\n",
      "47/47 [==============================] - 0s 4ms/step - loss: 0.0921 - accuracy: 0.9790 - val_loss: 0.5541 - val_accuracy: 0.8940\n",
      "Epoch 97/100\n",
      "47/47 [==============================] - 0s 4ms/step - loss: 0.1038 - accuracy: 0.9733 - val_loss: 0.5421 - val_accuracy: 0.8960\n",
      "Epoch 98/100\n",
      "47/47 [==============================] - 0s 4ms/step - loss: 0.0698 - accuracy: 0.9750 - val_loss: 0.5368 - val_accuracy: 0.9000\n",
      "Epoch 99/100\n",
      "47/47 [==============================] - 0s 4ms/step - loss: 0.0673 - accuracy: 0.9845 - val_loss: 0.5607 - val_accuracy: 0.9080\n",
      "Epoch 100/100\n",
      "47/47 [==============================] - 0s 5ms/step - loss: 0.0806 - accuracy: 0.9739 - val_loss: 0.5456 - val_accuracy: 0.9040\n"
     ]
    }
   ],
   "source": [
    "history = modelMFCC.fit(X_train_mfccs, y_train, epochs=100,\n",
    "                    validation_data=(X_valid_mfccs, y_valid))"
   ]
  },
  {
   "cell_type": "markdown",
   "id": "active-madness",
   "metadata": {
    "papermill": {
     "duration": 0.249914,
     "end_time": "2021-06-16T02:53:06.773977",
     "exception": false,
     "start_time": "2021-06-16T02:53:06.524063",
     "status": "completed"
    },
    "tags": []
   },
   "source": [
    "We reached training accuracy 99.23% and validation accuracy 90% in 100 epochs. Lets try to predict a value"
   ]
  },
  {
   "cell_type": "code",
   "execution_count": 46,
   "id": "premium-geneva",
   "metadata": {
    "execution": {
     "iopub.execute_input": "2021-06-16T02:53:07.276196Z",
     "iopub.status.busy": "2021-06-16T02:53:07.275535Z",
     "iopub.status.idle": "2021-06-16T02:53:07.392891Z",
     "shell.execute_reply": "2021-06-16T02:53:07.392324Z",
     "shell.execute_reply.started": "2021-06-16T02:08:32.931721Z"
    },
    "papermill": {
     "duration": 0.36918,
     "end_time": "2021-06-16T02:53:07.393030",
     "exception": false,
     "start_time": "2021-06-16T02:53:07.023850",
     "status": "completed"
    },
    "tags": []
   },
   "outputs": [
    {
     "data": {
      "text/plain": [
       "array([0, 8])"
      ]
     },
     "execution_count": 46,
     "metadata": {},
     "output_type": "execute_result"
    }
   ],
   "source": [
    "sample_testing = X_valid_mfccs[200:202]\n",
    "np.argmax(modelMFCC.predict(sample_testing), axis=-1)\n"
   ]
  },
  {
   "cell_type": "code",
   "execution_count": 47,
   "id": "opened-container",
   "metadata": {
    "execution": {
     "iopub.execute_input": "2021-06-16T02:53:07.896303Z",
     "iopub.status.busy": "2021-06-16T02:53:07.895624Z",
     "iopub.status.idle": "2021-06-16T02:53:07.899607Z",
     "shell.execute_reply": "2021-06-16T02:53:07.900085Z",
     "shell.execute_reply.started": "2021-06-16T02:08:49.072956Z"
    },
    "papermill": {
     "duration": 0.258515,
     "end_time": "2021-06-16T02:53:07.900273",
     "exception": false,
     "start_time": "2021-06-16T02:53:07.641758",
     "status": "completed"
    },
    "tags": []
   },
   "outputs": [
    {
     "data": {
      "text/plain": [
       "array([[0],\n",
       "       [8]])"
      ]
     },
     "execution_count": 47,
     "metadata": {},
     "output_type": "execute_result"
    }
   ],
   "source": [
    "y_testing = y_valid.to_numpy()\n",
    "ys = y_testing[200:202]\n",
    "ys\n"
   ]
  },
  {
   "cell_type": "code",
   "execution_count": 48,
   "id": "cutting-organ",
   "metadata": {
    "execution": {
     "iopub.execute_input": "2021-06-16T02:53:08.454586Z",
     "iopub.status.busy": "2021-06-16T02:53:08.453954Z",
     "iopub.status.idle": "2021-06-16T02:53:16.327864Z",
     "shell.execute_reply": "2021-06-16T02:53:16.328435Z",
     "shell.execute_reply.started": "2021-06-16T02:13:02.825267Z"
    },
    "papermill": {
     "duration": 8.126456,
     "end_time": "2021-06-16T02:53:16.328632",
     "exception": false,
     "start_time": "2021-06-16T02:53:08.202176",
     "status": "completed"
    },
    "tags": []
   },
   "outputs": [],
   "source": [
    "X_test_np = X_test.to_numpy()\n",
    "X_test_mfcc = convertToMFCCData(X_test_np)"
   ]
  },
  {
   "cell_type": "code",
   "execution_count": 49,
   "id": "active-swift",
   "metadata": {
    "execution": {
     "iopub.execute_input": "2021-06-16T02:53:16.888326Z",
     "iopub.status.busy": "2021-06-16T02:53:16.887615Z",
     "iopub.status.idle": "2021-06-16T02:53:16.983259Z",
     "shell.execute_reply": "2021-06-16T02:53:16.983808Z",
     "shell.execute_reply.started": "2021-06-16T02:13:39.913555Z"
    },
    "papermill": {
     "duration": 0.353046,
     "end_time": "2021-06-16T02:53:16.983995",
     "exception": false,
     "start_time": "2021-06-16T02:53:16.630949",
     "status": "completed"
    },
    "tags": []
   },
   "outputs": [
    {
     "name": "stdout",
     "output_type": "stream",
     "text": [
      "32/32 [==============================] - 0s 1ms/step - loss: 0.4168 - accuracy: 0.9190\n"
     ]
    },
    {
     "data": {
      "text/plain": [
       "[0.4167971909046173, 0.9190000295639038]"
      ]
     },
     "execution_count": 49,
     "metadata": {},
     "output_type": "execute_result"
    }
   ],
   "source": [
    "modelMFCC.evaluate(X_test_mfcc, y_test)"
   ]
  },
  {
   "cell_type": "markdown",
   "id": "complex-specialist",
   "metadata": {
    "papermill": {
     "duration": 0.248945,
     "end_time": "2021-06-16T02:53:17.484435",
     "exception": false,
     "start_time": "2021-06-16T02:53:17.235490",
     "status": "completed"
    },
    "tags": []
   },
   "source": [
    "As above, we got 90% accuracy on test audio set"
   ]
  },
  {
   "cell_type": "markdown",
   "id": "polar-invitation",
   "metadata": {
    "papermill": {
     "duration": 0.250567,
     "end_time": "2021-06-16T02:53:17.985178",
     "exception": false,
     "start_time": "2021-06-16T02:53:17.734611",
     "status": "completed"
    },
    "tags": []
   },
   "source": [
    "lets test it for a audio file"
   ]
  },
  {
   "cell_type": "code",
   "execution_count": 50,
   "id": "imported-cabin",
   "metadata": {
    "execution": {
     "iopub.execute_input": "2021-06-16T02:53:18.491457Z",
     "iopub.status.busy": "2021-06-16T02:53:18.490762Z",
     "iopub.status.idle": "2021-06-16T02:53:18.515660Z",
     "shell.execute_reply": "2021-06-16T02:53:18.516477Z",
     "shell.execute_reply.started": "2021-06-16T02:46:09.960351Z"
    },
    "papermill": {
     "duration": 0.27867,
     "end_time": "2021-06-16T02:53:18.516775",
     "exception": false,
     "start_time": "2021-06-16T02:53:18.238105",
     "status": "completed"
    },
    "tags": []
   },
   "outputs": [
    {
     "data": {
      "text/plain": [
       "(1, 20, 16)"
      ]
     },
     "execution_count": 50,
     "metadata": {},
     "output_type": "execute_result"
    }
   ],
   "source": [
    "XSample, _ = librosa.load('/kaggle/input/freespokendigitsdataset/recordings/9_theo_16.wav',sr=8000, duration=1.0)\n",
    "XSample= np.expand_dims(XSample, axis=0)\n",
    "XSample.shape\n",
    "XSampleMFCC = convertToMFCCData(XSample)\n",
    "XSampleMFCC.shape"
   ]
  },
  {
   "cell_type": "code",
   "execution_count": 51,
   "id": "rational-illness",
   "metadata": {
    "execution": {
     "iopub.execute_input": "2021-06-16T02:53:19.070506Z",
     "iopub.status.busy": "2021-06-16T02:53:19.069826Z",
     "iopub.status.idle": "2021-06-16T02:53:19.111870Z",
     "shell.execute_reply": "2021-06-16T02:53:19.111354Z",
     "shell.execute_reply.started": "2021-06-16T02:46:38.023626Z"
    },
    "papermill": {
     "duration": 0.296573,
     "end_time": "2021-06-16T02:53:19.112013",
     "exception": false,
     "start_time": "2021-06-16T02:53:18.815440",
     "status": "completed"
    },
    "tags": []
   },
   "outputs": [
    {
     "data": {
      "text/plain": [
       "array([9])"
      ]
     },
     "execution_count": 51,
     "metadata": {},
     "output_type": "execute_result"
    }
   ],
   "source": [
    "np.argmax(modelMFCC.predict(XSampleMFCC), axis=-1)"
   ]
  },
  {
   "cell_type": "code",
   "execution_count": 52,
   "id": "fabulous-borough",
   "metadata": {
    "execution": {
     "iopub.execute_input": "2021-06-16T02:53:19.617423Z",
     "iopub.status.busy": "2021-06-16T02:53:19.616756Z",
     "iopub.status.idle": "2021-06-16T02:53:19.622623Z",
     "shell.execute_reply": "2021-06-16T02:53:19.622097Z",
     "shell.execute_reply.started": "2021-06-16T02:47:18.850465Z"
    },
    "papermill": {
     "duration": 0.260358,
     "end_time": "2021-06-16T02:53:19.622765",
     "exception": false,
     "start_time": "2021-06-16T02:53:19.362407",
     "status": "completed"
    },
    "tags": []
   },
   "outputs": [
    {
     "data": {
      "text/html": [
       "\n",
       "                <audio  controls=\"controls\" >\n",
       "                    <source src=\"data:audio/x-wav;base64,UklGRnAcAABXQVZFZm10IBAAAAABAAEAQB8AAIA+AAACABAAZGF0YUwcAAA5AE8Awv/k//L/5/8xANz/0f/9/+z/JwAiAJf/1v86AKP/4f+QAOH/v/+YACcAlv89ACsAvf9MAPz/4/+RAPP/2f9uAJ7/lf9TAOL/xf9NALb/mP9cAH3/h//EAMz/pf+NAJr/w/+3AML/w//EAOv/wP+zAAIAwf9BAJH/af+BABcAif9dAGAAj//p/y4AxP82ACoAf/8oAFkA6f9MADIAnP/8/97/rf8oAAUA3P94AAwAmP9BABkAkv89AC4Ap/9BABAAjv/t/xIAev/C/0QA/P9AAEwAif/U/1EA+/86ADcADABUACAAt/8JACsAAABpAO7/x/8HANT/4f8pADwAFgD+/0EA8//v/08A2/8FAJ//n/84AHj/o/9YAJIAaAARABAAKADl//j/6f8HAEAAuf8gAP7/kf/t/1sA/v/+/1EAkP/H/wsAqv/f/+X/lv/X/8T/2v8fANL/vv+0/wcAAwDJ/zcArv/+/2cAk//9/6YA7//0/5YANADn/zsAAAAfAPX/XP/ZAGsAbP98ALP/jf9oAL3/CAByABQALQAIAOP/HADE/8b/6v+M/z3//P96ALX/wP8OAEgAjP9wAG4ABP/P/2MABQC3/6z/BgARAP3/LABxALwAVgAlAH0AnAANAI3/DQAUAIf/Xf8/AFwACQDh/5H/vv/G/xkA5QBCALT/dQBOAF8ATACx/ykAPgCN/1oATwCF/+wApgCN/zsARgCi/9L/uf9u/2//SAB8AKj/qf9YAGwA7P9IACQAoP/t/8j/V/8Z/0L/mf9ZAEAA2/+//4L/NQCoAB4AIwA0AJ//2v80AHP/FwDbAHAALACb/9b/iwANACj/AQAmAB//hv/U/+j/v/9E/7AAYQCI/p//1gCb//r+tv+KAIsA3v/Q/8T/AgCQAEYA9/8PAGwBcwBx/7oAhwCLAH0ATv8IAEEB3/8r/4T/W//V/0AA6v96ALQA+f5C/yUAwf89AC8AKv9R/+//dwD6AHIAZf8jAIUAJwH/AKf+k/5jAOH/UQAFAbz/Rf9kAHj/tP+5AZIAsv6I/1MA6v81ALr/uf+D/1//HgBUAHj/yf+bAHT/IgCKAIX/OP9fAGoA4/9n/x3/3v8lAfIAgv8aAMgACwFlAHv/QQD0/yIAtAA1AL7/NwA0ADEASP/I/nz/TAAmAdQAm/8PAFIAmv8r/3kAewAQALj/lf+H/yD/EwF1AYX+FP8nAbv/KgA1AAr/a/+r/9P/CgASAGP/QgAQAXn/8/+v/x8A+AH2/47+EgD5AEAAbQDeADr/3/6x/ywAsgDh/4//9f/P/7L/xP98/50AIgDU/tIAYABr/3cAxv+c/yf/1/4UAJAAuv+d/yEALADb/yEAvwDAABb/rv/2AK//+AAAAcv+5gBxAFj/LwHS/zD/PwCF/sAAQwLR/4X/VwA9/4X+m/9a/uj/ZwIM/6f9nQAyAb0AsQA0AOb/HADZ/6AAwP9i/6YAhQCT/8T/6/+yALUAzf+MAB8A/f1k/y4Bof4M/30ACf/j/jwBewEsAGMAFwDD/1oA8P8UAXcAOADpAI7/8P/GANr/IQD1AYX+eP7TAMUAJAGHAPj/xv9r/2b/vwBCANX+vf/W//T+4P9eAHz/GAFsAJv+nf9ZALsA9/9K/7L/hADf/xkA7f9K/pr/cQAwALT/IP6E/zb/av+6/779PAEmAbD+8/+H/4r/QwHoAE0AO//q/9IAWv+v/XT/owDQ/1wAkv/D/kQAKQDe/z0ACAFRAn8BkQDB/+AAzQG9AN0AlP2E/vcChwGI/tIAhwDg/AUB2AAdAHr/4P5KAfEAyv9k/9r+1f/sAKX+GgAjAMv/kv9t/xsCaABZ/2D/BwEBAdwAtwGGAJ3/SgDJ///+1AG7ABj/NQD//or+YgCCAUv+sv6uAbcBmf6QAVcCtf1o/f4A6f/t/xwCev/MAFYBsv5U/p7/1f8GABEA+P9NAOD/igDKAp3/PP0bANoA8f72AH0Bqv0b/zwCQP9D/jb/PP0mAQwClf/gAbsAm/9RAZf/pfwM/14AIf8R/5gAvv83/c//ewD9/1AA1f2D/ZkACgAHAKEAJgCo/3n+aP8ZAVT/k/5GAOv/KgDOAJcAaACHAu8A6P4FACgA1v9y/yb/+/6e//r/JP5B/zMBGwBy/zAAIf9D/2ABbAFpANoAcAGqANUAlgATAEoBNgBjAK4AjwFzAaUA/v8o/3P/3AFIAIQAHAGp/Wn+zgDw/zn+6v/8AQcAr/6UAK0AaP/6/7sA3wAnAqgDdwESAHUBOf99/R7/Wf8YALkBDf7o/aAClQGs/w4BNgAM/9X+2v5mAY4B9f6WAHcASv0r/WgB/wBH/qoAjv+6/v0BEQBu/PL/uv86/m7/9PzH/bEAsf6M/9j/xfyV/fD/7P8wAEIB6P4xABsB0f0DAIkA0Pb9+hwG4QW8BJ4EJgNvAG8BQgKcAKX+HP7E//oA7gAuAT0B6gDvABYAcf8UADYCWwCrAE0CSwDh/6MAi/8s/0kBmgKnAHn+dP1e/3IBSf8d/vH9if6D/xT+Sf9I/4X+vP0B/vD/J//C/83/yP3x/lkAlP9TAh4Cif33/oIBPQB5AOAAxv4//5cA3P4X/4gA3QC5AYP/mP9mAckAHwBd/rr+4P+o/8kBMgIJ/8X+JAHYAWYCywHHAL7+2/2DAPwAYgByAQsDqAJLAdQBaACP/QT+wP86AFIB+wEoAJz/h/84/6v+4/32/HD7Tf1O/9D/qwCq/3z+p/8JAFv+0f60/kL+2P5L/ysAKAGQAuEC3wLBAXMA+ACB/3AA7gGHAnED8gK+Aa8A+/8T//3+WP9Z/9n+/P41/4b+SP5o/mL9T/wJ/SD9k/2I/sD+eP67/S/+vv66/YD+Bv8U/x8A4gBFAq0D4QRTBdAEJwWVBkAHFggSCI0HpgfEBnoFEgVlBHcDhAJqAEb93PlG9sfyFPHm7+ru8e9W8ZXye/Wh+Cz7xv1R/43/vP+vALcB0gJgBFoGMwjECikNRg0bDZ0NoQ0oDo0P1hDgEmsTcxFqDtUHwv697yje0NX80BfUouTf+G0KYxhAINIcuBLEBrD6fu/y6CXnO+dl6Kbp7PCx+QoCfQvsDgAMqQYUAIX4mfXS+Bz+LgWNDCERAhOzFI0VaxYuGU8dNSHnILUeeBNv8rjXZcdptFS7ethg9noTiy96ORwuFR+4DX72aukd6SvoDeeb6YPrgOgy7XH5JwDEBykQYg4yBc/9pfaa76nwcfjr/UwDJAsSD9sQVBVaFzIXyhmfHQkgJiCBHucYq/t23ZnPrLdFtavPbetpCOopejyANpwp3hix/SLpcuRv4LLeYeXg6zvs2vH8/XYCdwabDaQKrgHj+/L0qO6a8c358f9GB9ENpg47D3kSsRLlFPwblyLQJ0so0SSHEdTpptE1upannbl02Wf5RR/wPk9E6zfRJtcKOexz4OLci9p947Hs8O6h8o/5V/8HBaEM4Q69CEYBlPjb7lvsTPG495kAZAloDBMMfAxWDGsM9A7JEpoXUx7BJcclwiGRGT/3g9meyamyWbXf0J/tNA4cMR5Cpjs2LQcYe/cJ4pLbf9dY3BfoUvEd9l78tgMcBSMIRwsFBq//3vn98Vbu5vHP+JgAqgjEDZIN7wt7DF4MlA2AE54a+SDNJpIm5CE1EYzsOtWvwJKtELzP17/07RldOdBBqTmzKUEOHO9p35fYZda54Dbu5PSI+rwBJwOyA7YIkQizBHUCLPtE81vxRvFZ9Lz8rAO3BjgJnQlOB9IG9gl9DDkP0RTjGPQatx3bG9sWrBFm/Mrjktj4xYzB/9Ot5ykAwh5PMsY0tC5UIFAF+e1z4bbXO9jt40TuY/cmAaYGfwe6B6QGpwIe/8b6n/V+9BL12vad/EMC2ARYByIIlAb7BXsHbAq+DdwRRRZzGRQcSRx7GcUWpwZq7F7gnMxevxfMwdxT8ugRvSuwNR015ytREy/46OYd2OzSzduK53XyHP/2CH4Kjwr+CV4DTf4n+5j0LPLx80v1JPpKAZkFBghkCUQIhQU8BM8ErAZYCtAO9hL1FuUZOBtrGaIWpBKL/crpPN+ryADE+dFz38f3MBfvK+EzYDNxJ1IM7fQc5KTUMdT83jDqvfdEBW8MaQxXDPwHbf8o/PT4WvP88hr2SPdk+xoD5gUeB6cJHQe6AloCJQHDACcFjAozDXMRaRUeFWoWBRgcFQwUDRHw+3brEOCdyQXHlNJS38L3thUUKpsyxTL2JvsMWfcW5erVDNZu39vq1/imBWMM4wvvCpwFgP0x+034tPRQ9qn47vkk/goD4wN2BJMFtAIIAFUAzP98ALIE1gilCwoPFBFyEAsQghCJEDERTxK+E2kO3/qK70/fxcm0y6XTk98T+wwXCylQMmwznCT1Crb3hOOQ1FDWht4K6lD5VQfIDQgORA5gCH3/B/z/96TzNPNR9jn4X/vTAY4EyASsBmQEogBT/zv+xP2FAHQEEQd6CoMNnw1TDdEMJAvaCpgNyhAXE9IVzBYRC5338Ovs1S7HBc2p1O/lNwNjG3kqczETLzUcsAXL83fg8tbE2zzkNvAC/5gKgw2uDZsLZgSV/r/7q/iS91z4l/iN+Nv6U/xl/mYBZgLIAqsCkwAn/wP/4P9rAWAEiwb6BpUHUAd7Bu4GSAimCZwL0w5QEY4TtRSsE5ESrQwp+sDt+OAxzmDOaNWB34D13w3LHxEqHS47Jj8SWwF27yTf2NtY4HbnMvMQAb0IDgsTDgkLwQSkAvT/i/vC+V35lfaz9ML14PZr+If9ggInBEUGMQcIBN0BlgDF/of+7v8SAeIBUQOJBN0EjwYmCP4IkgrLC8QLHwyvDE8NyQ6PD/oPDhF3Cuf5E/HM4ADQctGW1crfO/aNDQkf2immLsAkbBILAgzuid6n2y3eMOY/82IB7QmoDigR0w0NCGMF8QE3/qj8gPtQ9y3zue+C7sTvKvWq/eUEtApYDkQMrwd/Aj79aPna+AH6s/vB/ioCRQSGBz0KMgvTC5ELeQlCB+UFhwRvBEQGjgiGDOgQQROmFHMUpwuR+UDuX914zZnPG9UJ4aX3YA5mH/MoLyz5IjMRMwF/76rhjd4P4ZTogPO5/7gH4QskDtkLOghIBpgD7QHbAND/8vxh+YL2ePNB8YvyWPWT+Sf/FwQlBwQIrAbEA3n//fuW+aT49PmE/Ev/EgNZBnMIAgpMCskIHQc/BZoChgHmAUQCeQR2B1oJoAu4DV8P3BDJEaMRBBHGDDP9LPFc5WXSws+w063afu0yBI8X2CSOLFYqxhprC3j51uad3lrdhuFh6zP4zwO5CewODRBJDE8KLAgHBWUDogEX/576qfZb863vgu++8pT2h/z4Ag0HAQn7CBoGsQGY/d355vZg9nb3Wvne/AsBvgQhCHEKzgqzCWYHEwToACH/p/5C/9sBTwQ6Bl8IWgnVCFcILgiAB8oH5QkDDJEO0BDyEaIOQQAP9PHm9tMw0GjTQNsD7kkFNhm5JcssYSmrGG4IaPYY5drd790k5B/u4foJBksKEQ4VDqwJ8Qd9BgsFDQQhAzYBbfvk9k7ytO3S7V3x1vY1/ucFkwvJDIALQAdvAP75bvXq8sbyOfb9+l3/bAT2B/sIJgnSB/QEGQLS/yX+XP0+/joAggI5BdIH2QjcCBQINQb+A0ICdQFzAYgCuQQuB4MJJwzLDUMOjA7JDRoMywQP+LHvg+IV2LzYetzz5un3OAqyGCwh5yRhHc8PkwKx8pbngePJ5DvrmPOK/nIFPwk6DG8KzAeNBiMFGgQZA3wCZ/7N+Qj25PDC7vHvjfNq+T4A0AYACp8KSgjgAgb+1viz9YX1efbi+dn96wE3BSkHUwioBwMGNwRUAWv/Kv4k/oD/ngGYBKIGDgizCJAH/wUcBIoCpwGZAdUCAQTDBdIH3Qg0CiQLOAtrC10LvQqJCTMEZPl68LTlN9uU2s7e+eeC9xUJCxflHvIh8hu2DukBCPS+6BXlXuby6yT0rf1hBIsHyglWCLsFugR8A8ICYALhAZj/y/uH+ID0aPGE8Vvzp/Z1/GQC/gWfCPsICAarAuL+o/p++Av4rPjv+sj+bgKFBXEIrwnGCEwH1QSnAaD/B//4/lMA0wLRBFwGowd4By0GLgXJAyECvwE2AhoD7AQGB0IJCQsdDCIMIQvGCUYH/wMs/efzROwX5JTfbeHR5z/yzf9aDYsWYRopGSMR+gXW+szwseqU6Qjt2PL6+QYBYwWPB/gH0gYDBRYEVQLj/3z/CPyF+P72HPRZ88b0LfjL+wkAkQRQBaoFEwWqAYr/f/3g+3H73Pub/bz+KgGFA8QEUgavBhAGtgQhAx0CwgD+ALoBswI6BCAF2gXhBYAFCQUrBMsDrQPMA0oEhwViBsUG4gc6CGwHmQcFB2gFRQTvAvn+1fmU9Ebtl+gY5/noPu9h+PYCqguDET4TXg+aCCMAofe98RLvXPCv8/v4uP5FAtYErgXGBEIBev9o/o76rftd/Ln6efz6/AX87/vP/OD8zPx//08AjwBhAsEBPgH2AGcAtP9j/z0A+f+VAAcCiQKRA48EAgW/BEoE7AOtApUCswLNApIDTgQcBRAFSwVnBZgEdQQsBHsDiQPFAwYESgQMBbkFhwUlBjMGFwUzBNECiwBS/E72QfBa69Hn9uhg7sr1ef/5CFAPYhG6DzwK+gGM+ur0Y/HL8fr0A/lx/VcBlQP6As8BXgAI/UP8bvxz+2b8KP3H/FT8cPxc/Bn8tf01/+z/TgHbAa8BugG1AYgBMAFlAfwAiACwANwAYwFbArAD5ASwBeUFfgXhBLkD7QKcAv4BgAJgA9cD8ASwBdcF8AWUBQ8FLwTcA4QDWAN1BCcFjAVABqsFDgQPAr3//fwU+erzQ/CW7fHrx+7680j6ugFxCBAMFgwNCiAFy/7n+UP2rfS09Tf4a/te/jEASwDg/+n9wPwA/Vb8Jf0e/n39ePz7+2z7rfpP/Lf+rP++AfACOgJ3ASMBrwAHAPsAgAFZAUMChgJ6AgADewPUA+YDkASPBDAEXAQtBDEEEQQBBBgE1QMBBFIEPgRiBIQEgARVBCIEDQQXBHEE/wROBRAFxgSmAxsCmADK/kz9A/yf+ML0LPJG75fuUvEv9g38dwIrCE8KjAngBsgBcfyX+I32XPYL+E773/2j/8gA7P7a/LH7N/qi+v37Gv1V/WX9D/0z/Lb84v0W/3cAmwEZAq0BQgFEAQUBjgFHAnUCdwJhAnACjgJAAwcEmQQvBWQFLwXEBDkEBwTUA9oD2wPOA/YDRgSBBJME9wQMBacEnwRiBAoEEgQYBNUDYwMJAzsC6QDJ/33+kfwr+2j5cfbY9Kbzg/M79Zz40vxpALsDhwUuBPwB0/4S+1z4b/cV+Gr5evwv/1gABwEqAHj+S/2G+4H6z/op++f7Of0//xIAjQBQAegAFwAdAOb/vP+DAGwBlAEtAqsCNQJxAp8CiALcAhsDLQOTA+wDFgRJBGYEDwQfBLYDEQMqAxAD9QJgA6wDmwOSA+IDdgOFA8QDggPjA0EEhAStBU4GnwVPBJgC5f7u+sT4SPUy8pzy8/Mk9vP5TP80Am0DwwR6Aqr+OfwX+Tr3dfcV+W/7d/5FAQ0C4gHyAN/9CPu++MT4Hvnx+ZL9UP8XANYB3wEGAO/+8/6o/e39AwBTAG0B7QKZAl8CDQK3AYIB/wF6AucCuQPPAx0EIgQ8AzkD+gKHArICBANCA8MDWwRdBCEEFQQwA9gC6QLUAgsDZAMMBHsE1ATTBMsEPwURBU8E+wKKAFf9pPpi95r0BfRt9Gz26/no/ewAVwLyAg8B0/2f+1b5Cvhi+Jz5SPtF/Sv/GADV/7D+Vf39+zL7S/un+2P8Wf42/3v/JQCz/yD/gP99/37/MgDeAEIBzAHVAXYBYgFBAacBLAKwAl0DnAOzA40DPAP8AroClAJ4AncCfQLBAjQDkAPgAz0EDwTZA7oDfwM0Ay8DJwMKA3IDqQOcAysEcQS1BBkFVgRYAnkA6/0b+375d/i49wP4zPjA+XH7gPzb/ez+1v6P/gn+lPxJ+3z6+Pn9+eT6bPx6/cD9/v0q/Vz7Rvo1+zb80P0DAFkATQAmAEX/Nf/P/u3+IQDSAKkBqQLXArYCpgIqAq8B+AE2Aq0CmQPAA9gDBwSwA0MDDQOqAkUCdQLhAjkD2AMOBN0DmwMuAxIDOgNYA3gDnAODA14DdAP9ArgCBgNSAq4BgAF0AHH/v/4k/jz9i/zi+8n6pPjr9kr3Yfh6+WT82/7D/rH+Kf7d+z76iPnx+I35nPqg+wD9M/5V/wcAbP/+/un+R/5l/vH+DP+r/50A/wBgAcABtwHYAQICPwKDAsICBAMFA6oCcQJDAiMCjgIEAzMDigNpAw4D2QJtAlQCPwIhAoUCwgJlAswCOgPxAt4C4QJkAlACaQLCAjgDFQOoAmUCuwFMAUgBpQASANP/xf6B/cD8+fvn+mT6jfqk+kf68vmi+fD4T/iR+E75SPpq+6r8NP0q/WL9OP0d/dn9V/7S/sz/SQCnAC0BRQFfAaIBoQG/ARMCUwKCArwCzAIVAxIDyAKtAo0CTwJzAqQCvgKkAnMCRAI2Ag8CzgGUAZ8BogF7Ab4B9wGDAUkBdQH4AOsAbQFXAWoBOAIaAjECnAIOAroB4AE1Aa4AZgBr/9X+pP4S/qP9bf0Q/ef8vfyn/HX8uPsW+wb71PrL+in7jfvl+2X8zvwP/Uz9p/3h/Uj+k/7Z/iv/jf/p/2MAmgDMAAwBUgFuAbQB2QH7ARICEgIiAkgCKgIXAi8CJwIfAkgCJAIWAhoC5QHIAcoBwQGZAYUBewFcAT0BagF4ASYBFAEfAQgBFAEZAdwA8wA3AQEB/wBqAUUBRAFpAQEBrgBnAN7/tf9V/7z+bP4z/vD95P3M/ZT9ff1b/RD93fyr/JP8MPwk/JD8tPz0/JD9uf3w/Vn+a/6Q/s7+8f4j/4H/xf///0EAdQC5AO8A8gAwAV8BTgFmAXwBcAGMAbMBtgG5AcMBywHKAbQBoQGIAXMBWwFcARQBEAFNAUcBGAEYARwB+gDvAAIBxwCoALMAvACwAKEAvAC7ALoADQHpAEoAUAB3ADkAdgCDAO//zf/y/3r/Sv8m/4P+Vv5k/kv+SP5U/j/+M/4E/uv96P24/ab92f3K/fD9SP5l/ov+yP7W/vH+Lf9c/3r/o//M/+T/EABPAJIApQDEAMgApQDUAA0BAAHtAA0BBgEHAToBPgEwATkBGgErAToBAgH+AP4AxADYAPEA2wAAAQ4BvwC6ALMAZwB1AIkAbgBqAFwAZwBwAGcANgAcAPH/AwAfAP7/0v8KACkA+v/P/9P/ev98/7P/d/8d/yH/DP8k/zb/G/8t/yn/FP8i/wj/7P7v/vT+6P4D/yj/Mf9d/2b/hv+N/3P/oP/P/7H/0f/4/wgAFAA4AC4AUABpAFQAdwCjAKgAlACQAJgAcwCAAKAAhQBxAJMAiABtAHAAiQBtAGYAfABpAFAAQgBKAEMAMgA9AFkARABDAHsAUwAOACwAAgDi/zcANAAJAEsATAALAB0ACQC//87/0/+v/7r/2v/G/8//4v+9/7P/6/+2/6H/o/+g/5//w/+8/7P/qf+U/5//sv+D/6//2/95/6//1f+W/w==\" type=\"audio/x-wav\" />\n",
       "                    Your browser does not support the audio element.\n",
       "                </audio>\n",
       "              "
      ],
      "text/plain": [
       "<IPython.lib.display.Audio object>"
      ]
     },
     "execution_count": 52,
     "metadata": {},
     "output_type": "execute_result"
    }
   ],
   "source": [
    "ipd.Audio('/kaggle/input/freespokendigitsdataset/recordings/4_lucas_16.wav')"
   ]
  },
  {
   "cell_type": "code",
   "execution_count": 53,
   "id": "quarterly-parade",
   "metadata": {
    "execution": {
     "iopub.execute_input": "2021-06-16T02:53:20.133486Z",
     "iopub.status.busy": "2021-06-16T02:53:20.132520Z",
     "iopub.status.idle": "2021-06-16T02:53:20.138436Z",
     "shell.execute_reply": "2021-06-16T02:53:20.137796Z",
     "shell.execute_reply.started": "2021-06-16T02:47:52.386272Z"
    },
    "papermill": {
     "duration": 0.263492,
     "end_time": "2021-06-16T02:53:20.138586",
     "exception": false,
     "start_time": "2021-06-16T02:53:19.875094",
     "status": "completed"
    },
    "tags": []
   },
   "outputs": [
    {
     "data": {
      "text/plain": [
       "(3622,)"
      ]
     },
     "execution_count": 53,
     "metadata": {},
     "output_type": "execute_result"
    }
   ],
   "source": [
    "XSample, _ = librosa.load('/kaggle/input/freespokendigitsdataset/recordings/4_lucas_16.wav',sr=8000, duration=1.0)\n",
    "\n",
    "XSample.shape"
   ]
  },
  {
   "cell_type": "code",
   "execution_count": 54,
   "id": "insured-jurisdiction",
   "metadata": {
    "execution": {
     "iopub.execute_input": "2021-06-16T02:53:20.649502Z",
     "iopub.status.busy": "2021-06-16T02:53:20.648840Z",
     "iopub.status.idle": "2021-06-16T02:53:20.662782Z",
     "shell.execute_reply": "2021-06-16T02:53:20.663594Z",
     "shell.execute_reply.started": "2021-06-16T02:49:53.872142Z"
    },
    "papermill": {
     "duration": 0.270877,
     "end_time": "2021-06-16T02:53:20.663877",
     "exception": false,
     "start_time": "2021-06-16T02:53:20.393000",
     "status": "completed"
    },
    "tags": []
   },
   "outputs": [],
   "source": [
    "XSample = np.pad(XSample, (0, 8000 - len(XSample)), constant_values = (0, 0))\n",
    "XSample= np.expand_dims(XSample, axis=0)\n",
    "XSampleMFCC = convertToMFCCData(XSample)"
   ]
  },
  {
   "cell_type": "code",
   "execution_count": 55,
   "id": "gothic-hampton",
   "metadata": {
    "execution": {
     "iopub.execute_input": "2021-06-16T02:53:21.226049Z",
     "iopub.status.busy": "2021-06-16T02:53:21.225267Z",
     "iopub.status.idle": "2021-06-16T02:53:21.265736Z",
     "shell.execute_reply": "2021-06-16T02:53:21.265243Z",
     "shell.execute_reply.started": "2021-06-16T02:49:58.155042Z"
    },
    "papermill": {
     "duration": 0.298278,
     "end_time": "2021-06-16T02:53:21.265873",
     "exception": false,
     "start_time": "2021-06-16T02:53:20.967595",
     "status": "completed"
    },
    "tags": []
   },
   "outputs": [
    {
     "data": {
      "text/plain": [
       "array([4])"
      ]
     },
     "execution_count": 55,
     "metadata": {},
     "output_type": "execute_result"
    }
   ],
   "source": [
    "np.argmax(modelMFCC.predict(XSampleMFCC), axis=-1)"
   ]
  }
 ],
 "metadata": {
  "kernelspec": {
   "display_name": "Python 3",
   "language": "python",
   "name": "python3"
  },
  "language_info": {
   "codemirror_mode": {
    "name": "ipython",
    "version": 3
   },
   "file_extension": ".py",
   "mimetype": "text/x-python",
   "name": "python",
   "nbconvert_exporter": "python",
   "pygments_lexer": "ipython3",
   "version": "3.7.10"
  },
  "papermill": {
   "default_parameters": {},
   "duration": 187.084444,
   "end_time": "2021-06-16T02:53:23.552308",
   "environment_variables": {},
   "exception": null,
   "input_path": "__notebook__.ipynb",
   "output_path": "__notebook__.ipynb",
   "parameters": {},
   "start_time": "2021-06-16T02:50:16.467864",
   "version": "2.3.3"
  }
 },
 "nbformat": 4,
 "nbformat_minor": 5
}
