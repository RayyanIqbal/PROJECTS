{
  "nbformat": 4,
  "nbformat_minor": 0,
  "metadata": {
    "colab": {
      "provenance": []
    },
    "kernelspec": {
      "name": "python3",
      "display_name": "Python 3"
    },
    "language_info": {
      "name": "python"
    }
  },
  "cells": [
    {
      "cell_type": "code",
      "execution_count": 1,
      "metadata": {
        "id": "VmXwPfYU__ii"
      },
      "outputs": [],
      "source": [
        "from tensorflow.keras.models import load_model\n"
      ]
    },
    {
      "cell_type": "code",
      "source": [
        "model = load_model('alzheimer_detection.h5')"
      ],
      "metadata": {
        "colab": {
          "base_uri": "https://localhost:8080/"
        },
        "id": "S-HXaO7WBMXs",
        "outputId": "3604b81a-f81a-45e6-b6f8-b5594400c0d5"
      },
      "execution_count": 5,
      "outputs": [
        {
          "output_type": "stream",
          "name": "stderr",
          "text": [
            "/usr/local/lib/python3.10/dist-packages/keras/src/layers/convolutional/base_conv.py:107: UserWarning: Do not pass an `input_shape`/`input_dim` argument to a layer. When using Sequential models, prefer using an `Input(shape)` object as the first layer in the model instead.\n",
            "  super().__init__(activity_regularizer=activity_regularizer, **kwargs)\n",
            "WARNING:absl:Compiled the loaded model, but the compiled metrics have yet to be built. `model.compile_metrics` will be empty until you train or evaluate the model.\n",
            "WARNING:absl:Error in loading the saved optimizer state. As a result, your model is starting with a freshly initialized optimizer.\n"
          ]
        }
      ]
    },
    {
      "cell_type": "code",
      "source": [
        "import cv2\n",
        "img_path = '/content/test.jpg'  # Replace with the path to your image\n",
        "\n",
        "# Attempt to load the image\n",
        "image = cv2.imread(img_path)\n",
        "\n",
        "# Check if the image was loaded successfully\n",
        "if image is None:\n",
        "    print(\"Error: Image not loaded. Check the file path.\")\n",
        "else:\n",
        "    print(\"Image loaded successfully\")\n"
      ],
      "metadata": {
        "colab": {
          "base_uri": "https://localhost:8080/"
        },
        "id": "lneqvAXjIw1I",
        "outputId": "c98d4acb-37f1-4880-8728-10ed4e652cd7"
      },
      "execution_count": 12,
      "outputs": [
        {
          "output_type": "stream",
          "name": "stdout",
          "text": [
            "Image loaded successfully\n"
          ]
        }
      ]
    },
    {
      "cell_type": "code",
      "source": [
        "import cv2\n",
        "import numpy as np\n",
        "\n",
        "def preprocess_image(image_path):\n",
        "    image = cv2.imread(image_path)  # Read the image\n",
        "    image = cv2.cvtColor(image, cv2.COLOR_BGR2RGB)  # Convert to RGB\n",
        "    image = cv2.resize(image, (224, 224))  # Resize to the required dimensions (e.g., 224x224)\n",
        "    image = image / 255.0  # Normalize pixel values to [0, 1]\n",
        "    image = np.expand_dims(image, axis=0)  # Add batch dimension\n",
        "    return image\n",
        "\n",
        "\n"
      ],
      "metadata": {
        "id": "IgfI38a3BONo"
      },
      "execution_count": 13,
      "outputs": []
    },
    {
      "cell_type": "code",
      "source": [
        "import cv2\n",
        "\n",
        "# Attempt to load the image\n",
        "image = cv2.imread(img_path)\n",
        "\n",
        "# Check if the image was loaded successfully\n",
        "if image is None:\n",
        "    print(\"Error: Image not loaded. Check the file path.\")\n",
        "else:\n",
        "    print(\"Image loaded successfully\")\n"
      ],
      "metadata": {
        "colab": {
          "base_uri": "https://localhost:8080/"
        },
        "id": "q8cZdRsyIWQe",
        "outputId": "2151c9d3-2ce1-412d-eb9c-b3a0e284e7eb"
      },
      "execution_count": 14,
      "outputs": [
        {
          "output_type": "stream",
          "name": "stdout",
          "text": [
            "Image loaded successfully\n"
          ]
        }
      ]
    },
    {
      "cell_type": "code",
      "source": [
        "image_path = '/content/26 (44).jpg'  # Replace with the path to your image\n",
        "image = preprocess_image(image_path)  # Preprocess the image\n",
        "\n",
        "predictions = model.predict(image)  # Predict the class\n",
        "predicted_class = np.argmax(predictions, axis=1)  # Get the index of the highest probability\n",
        "\n",
        "# If you have a mapping from class indices to class names\n",
        "class_names = ['NonDemented', 'MildDemented', 'ModerateDemented', 'VeryMildDemented']\n",
        "predicted_label = class_names[predicted_class[0]]\n",
        "\n",
        "print(f'Predicted class: {predicted_label}')\n"
      ],
      "metadata": {
        "colab": {
          "base_uri": "https://localhost:8080/"
        },
        "id": "d2ubNm6BE5KX",
        "outputId": "8b440e02-ff8f-4690-b02b-6dbf115b6e91"
      },
      "execution_count": 23,
      "outputs": [
        {
          "output_type": "stream",
          "name": "stdout",
          "text": [
            "\u001b[1m1/1\u001b[0m \u001b[32m━━━━━━━━━━━━━━━━━━━━\u001b[0m\u001b[37m\u001b[0m \u001b[1m0s\u001b[0m 66ms/step\n",
            "Predicted class: VeryMildDemented\n"
          ]
        }
      ]
    },
    {
      "cell_type": "code",
      "source": [],
      "metadata": {
        "id": "Qaqyh2OcE5lr"
      },
      "execution_count": null,
      "outputs": []
    },
    {
      "cell_type": "code",
      "source": [],
      "metadata": {
        "id": "CK2fkZouE5oS"
      },
      "execution_count": null,
      "outputs": []
    },
    {
      "cell_type": "code",
      "source": [],
      "metadata": {
        "id": "jrXbbJoaE5q7"
      },
      "execution_count": null,
      "outputs": []
    },
    {
      "cell_type": "code",
      "source": [],
      "metadata": {
        "id": "rO-EjprME5wI"
      },
      "execution_count": null,
      "outputs": []
    }
  ]
}